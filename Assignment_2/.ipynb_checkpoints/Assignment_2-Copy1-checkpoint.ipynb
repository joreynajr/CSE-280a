{
 "cells": [
  {
   "cell_type": "markdown",
   "metadata": {},
   "source": [
    "# Assignment 2"
   ]
  },
  {
   "cell_type": "code",
   "execution_count": 474,
   "metadata": {
    "collapsed": true
   },
   "outputs": [],
   "source": [
    "import pandas as pd\n",
    "import seaborn as sns \n",
    "from matplotlib import pyplot as plt\n",
    "import numpy as np\n",
    "import math\n",
    "from scipy import stats\n",
    "from IPython.display import Image\n",
    "import re\n",
    "import sys; sys.path.append('/frazer01/home/joreyna/repos/CSE-280a/Assignment_1/')\n",
    "import phylo \n",
    "from scipy.stats import chisqprob\n",
    "from scipy.misc import comb\n",
    "import random\n",
    "%matplotlib inline"
   ]
  },
  {
   "cell_type": "code",
   "execution_count": 475,
   "metadata": {
    "collapsed": true
   },
   "outputs": [],
   "source": [
    "def print_list(l, name='list', tabs=0):\n",
    "    tab1 = '\\t' * tabs\n",
    "    print('{}{}'.format(tab1, name))\n",
    "    tab2 = '\\t' * (tabs + 1)\n",
    "    for row in l:\n",
    "        print('{}{}'.format(tab2, row))"
   ]
  },
  {
   "cell_type": "markdown",
   "metadata": {},
   "source": [
    "## Question 1"
   ]
  },
  {
   "cell_type": "markdown",
   "metadata": {},
   "source": [
    "(25pts) For the data-set provided, compute LD for all pairs of columns, using the D0 measure."
   ]
  },
  {
   "cell_type": "markdown",
   "metadata": {},
   "source": [
    "### Part 1(a)"
   ]
  },
  {
   "cell_type": "markdown",
   "metadata": {},
   "source": [
    "Plot the LD as a matrix as shown in the graphic (Figure 1). Use the LD values to identify Haplotype blocks (regions\n",
    "with little to no recombination). "
   ]
  },
  {
   "cell_type": "markdown",
   "metadata": {},
   "source": [
    "#### Functions"
   ]
  },
  {
   "cell_type": "code",
   "execution_count": 476,
   "metadata": {
    "collapsed": true
   },
   "outputs": [],
   "source": [
    "def calculate_probabilities(site1, site2, data):\n",
    "    \n",
    "    #     print 'calculate_ld function'\n",
    "    #     print('\\tsite1: {}, site2: {}'.format(site1, site2))\n",
    "    #     print('\\tdata: {}'.format(data))\n",
    "    #     print\n",
    "    sites00 = 0\n",
    "    site1_0 = 0\n",
    "    site2_0 = 0\n",
    "    \n",
    "    i = 0\n",
    "    while i < len(data):\n",
    "        \n",
    "        #         print('')\n",
    "        \n",
    "        allele1 = data[i][site1]\n",
    "        allele2 = data[i][site2]\n",
    "        \n",
    "        #         print '\\ti: {}, [allele1, allele2]: [{}, {}]'.format(i, allele1, allele2)\n",
    "        \n",
    "\n",
    "        # Counting the number of 00 haplotypes \n",
    "        if [allele1, allele2] == [0, 0]:\n",
    "            sites00 += 1\n",
    "        \n",
    "        # Counting the number of 0* \n",
    "        if allele1 == 0:\n",
    "            site1_0 += 1\n",
    "        \n",
    "        # Counting the number of 0* \n",
    "        if allele2 == 0:\n",
    "            site2_0 += 1\n",
    "        \n",
    "        i += 1\n",
    "    \n",
    "    prob00 = float(sites00) / len(data)\n",
    "    prob1_0 = float(site1_0) / len(data)\n",
    "    prob2_0 = float(site2_0) / len(data)\n",
    "    \n",
    "#     print('sites00: {}, sites1 wild: {}, sites2 wild: {}'.format(sites00, site1_0, site2_0))\n",
    "#     print('data length: {}, prob00: {}, prob1 wild: {}, prob2 wild: {}')\n",
    "        \n",
    "#     print\n",
    "#     print '\\tsites00: {}, site1_0: {}, site2_0: {}, n: {}'.format(sites00, site1_0, site2_0, len(data))\n",
    "#     print\n",
    "#     print '\\tprob1_0: {}, prob2_0: {}, prob00: {}, prob P0* x P*0: {}'.\\\n",
    "#         format(prob1_0, prob2_0, prob00, prob1_0 * prob2_0)\n",
    "    \n",
    "    return [prob00, prob1_0,  prob2_0]"
   ]
  },
  {
   "cell_type": "code",
   "execution_count": 477,
   "metadata": {
    "collapsed": true
   },
   "outputs": [],
   "source": [
    "def calculate_ld_prime(site1, site2, probs, ld_arr):\n",
    "\n",
    "    prob00 = probs[site1][site2][0]\n",
    "    prob1_wild = probs[site1][site2][1]\n",
    "    prob1_mut = 1 - prob1_wild \n",
    "    prob2_wild = probs[site1][site2][2]\n",
    "    prob2_mut = 1 - prob2_wild\n",
    "    d = ld_arr[site1][site2]\n",
    "    \n",
    "    # Normalizing depending on the value of D\n",
    "    if d >= 0:\n",
    "        norm_factor = min(prob1_wild * prob2_mut, prob1_mut * prob2_wild)\n",
    "    elif d < 0:\n",
    "        norm_factor = max(-prob1_wild * prob2_wild, -prob1_mut * prob2_mut)\n",
    "    return d / norm_factor "
   ]
  },
  {
   "cell_type": "code",
   "execution_count": 478,
   "metadata": {
    "collapsed": true
   },
   "outputs": [],
   "source": [
    "def calculate_chisquared_pvalue(site1, site2, ld_arr, probs):\n",
    "\n",
    "    prob00 = probs[site1][site2][0]\n",
    "    prob1_wild = probs[site1][site2][1]\n",
    "    prob1_mut = 1 - prob1_wild \n",
    "    prob2_wild = probs[site1][site2][2]\n",
    "    prob2_mut = 1 - prob2_wild\n",
    "    d = ld_arr[site1][site2]\n",
    "    \n",
    "    roe = d / np.sqrt(prob1_wild * prob1_mut * prob2_wild * prob2_mut)\n",
    "    roe_squaredN = (roe**2) * len(ld_arr)\n",
    "    pvalue = chisqprob(roe_squaredN, 1)\n",
    "    return -np.log(pvalue)"
   ]
  },
  {
   "cell_type": "code",
   "execution_count": 479,
   "metadata": {
    "collapsed": false
   },
   "outputs": [],
   "source": [
    "def calculate_ld_blocks_data(data):\n",
    "    addtl = 0\n",
    "    # Calculate the probabilities for the LD analysis \n",
    "    probs = [0] * (len(data[0]) + addtl)\n",
    "    probs = [ [[0] * 3] * (len(data[0]) + addtl) for x in data[0]]\n",
    "    for x in range(1, len(probs) + 1):\n",
    "        for y in range(0, len(probs) - x):\n",
    "            probs[y][y + x] = calculate_probabilities(y, y+x, data)\n",
    "\n",
    "    # Calculate the D matrix\n",
    "    ld_arr = [0] * (len(data[0]) + addtl)\n",
    "    ld_arr = [[0] * (len(data[0]) + addtl) for x in data[0]]\n",
    "    for x in range(1, len(ld_arr) + 1):\n",
    "        for y in range(0, len(ld_arr) - x):\n",
    "            p00 = probs[y][y+x][0]\n",
    "            p1_wild = probs[y][y+x][1]\n",
    "            p2_wild = probs[y][y+x][2]\n",
    "            ld_arr[y][y + x] =  p00 - p1_wild * p2_wild\n",
    "            #print('p00: {}, p1_wild: {}, p2_wild: {}'.format(p00, p1_wild, p2_wild))\n",
    "\n",
    "    # Calculate the D matrix\n",
    "    ld_prime_arr = [0] * (len(data[0]) + addtl)\n",
    "    ld_prime_arr = [[0] * (len(data[0]) + addtl) for x in data[0]]\n",
    "    for x in range(1, len(ld_prime_arr) + 1):\n",
    "        for y in range(0, len(ld_prime_arr) - x):\n",
    "            ld_prime_arr[y][y + x] =  calculate_ld_prime(y, y + x, probs, ld_arr)\n",
    "\n",
    "    # Calculate the D prime matrix\n",
    "    ld_prime_arr = [0] * (len(data[0]) + addtl)\n",
    "    ld_prime_arr = [[0] * (len(data[0]) + addtl) for x in data[0]]\n",
    "    for x in range(1, len(ld_prime_arr) + 1):\n",
    "        for y in range(0, len(ld_prime_arr) - x):\n",
    "            ld_prime_arr[y][y + x] =  calculate_ld_prime(y, y + x, probs, ld_arr)\n",
    "            \n",
    "    p_arr = [0] * (len(data[0]) + addtl)\n",
    "    p_arr = [[0] * (len(data[0]) + addtl) for x in data[0]]\n",
    "    for x in range(1, len(p_arr) + 1):\n",
    "        for y in range(0, len(p_arr) - x):\n",
    "            p_arr[y][y + x] = calculate_chisquared_pvalue(y, y+x, ld_arr, probs)\n",
    "            \n",
    "    return probs, ld_arr, ld_prime_arr, p_arr"
   ]
  },
  {
   "cell_type": "markdown",
   "metadata": {},
   "source": [
    "#### Load data"
   ]
  },
  {
   "cell_type": "code",
   "execution_count": 480,
   "metadata": {
    "collapsed": true
   },
   "outputs": [],
   "source": [
    "debug = False  \n",
    "simple_data = [[0,1], [0,1], [0,0], [0,0], [1,0], [1,0], [1,0], [1,0]]\n",
    "\n",
    "if debug:\n",
    "    data = simple_data\n",
    "else:\n",
    "    data = []\n",
    "    with open('a2data1.txt', 'r') as f:\n",
    "        for i, row in enumerate(f):\n",
    "            row_data = []\n",
    "            for digit in row.strip():\n",
    "                row_data.append(int(digit))\n",
    "            data.append(row_data)"
   ]
  },
  {
   "cell_type": "code",
   "execution_count": 481,
   "metadata": {
    "collapsed": false
   },
   "outputs": [],
   "source": [
    "# Analyze the matrix information \n",
    "probs, ld_arr, ld_prime_arr, p_arr = calculate_ld_blocks_data(data)"
   ]
  },
  {
   "cell_type": "markdown",
   "metadata": {},
   "source": [
    "#### Visualizing the D matrix"
   ]
  },
  {
   "cell_type": "code",
   "execution_count": 482,
   "metadata": {
    "collapsed": false
   },
   "outputs": [
    {
     "data": {
      "image/png": "[encoded data removed]",
      "text/plain": [
       "<matplotlib.figure.Figure at 0x7f73bedf1a10>"
      ]
     },
     "metadata": {},
     "output_type": "display_data"
    }
   ],
   "source": [
    "fig = plt.figure(figsize=(8,8))\n",
    "ax = sns.heatmap(ld_arr, xticklabels=False, yticklabels=False, cmap='magma')\n",
    "ax.set_title('raw linkage disequilibrium values', fontdict={'fontsize': 16,})\n",
    "ax.set_xlabel('sites')\n",
    "ax.set_ylabel('sites')\n",
    "fig.tight_layout()"
   ]
  },
  {
   "cell_type": "code",
   "execution_count": 483,
   "metadata": {
    "collapsed": false
   },
   "outputs": [
    {
     "data": {
      "image/png": "[encoded data removed]",
      "text/plain": [
       "<IPython.core.display.Image object>"
      ]
     },
     "execution_count": 483,
     "metadata": {},
     "output_type": "execute_result"
    }
   ],
   "source": [
    "Image(filename='/frazer01/home/joreyna/shared_drive/CSE-280a/Assignment_2/question1_d_matrix_anno.png')"
   ]
  },
  {
   "cell_type": "markdown",
   "metadata": {},
   "source": [
    "With some difficulty, it looks as if there are two haplotype blocks which are visually depicted by the image above. "
   ]
  },
  {
   "cell_type": "markdown",
   "metadata": {},
   "source": [
    "#### Visualizing the D prime matrix"
   ]
  },
  {
   "cell_type": "code",
   "execution_count": 484,
   "metadata": {
    "collapsed": false
   },
   "outputs": [
    {
     "data": {
      "image/png": "[encoded data removed]",
      "text/plain": [
       "<matplotlib.figure.Figure at 0x7f73bef65850>"
      ]
     },
     "metadata": {},
     "output_type": "display_data"
    }
   ],
   "source": [
    "fig = plt.figure(figsize=(8,8))\n",
    "ax = sns.heatmap(ld_prime_arr, xticklabels=False, yticklabels=False, cmap='magma')\n",
    "ax.set_title('linkage disequilibrium values', fontdict={'fontsize': 16,})\n",
    "ax.set_xlabel('sites')\n",
    "ax.set_ylabel('sites')\n",
    "fig.tight_layout()"
   ]
  },
  {
   "cell_type": "code",
   "execution_count": 485,
   "metadata": {
    "collapsed": false
   },
   "outputs": [
    {
     "data": {
      "image/png": "[encoded data removed]",
      "text/plain": [
       "<IPython.core.display.Image object>"
      ]
     },
     "execution_count": 485,
     "metadata": {},
     "output_type": "execute_result"
    }
   ],
   "source": [
    "Image(filename='/frazer01/home/joreyna/shared_drive/CSE-280a/Assignment_2/question1_dprime_matrix_anno.png')"
   ]
  },
  {
   "cell_type": "markdown",
   "metadata": {},
   "source": [
    "By computing the D prime we can see that the haplotype blocks are most likely found at sites indicated the red triangles in the image above and there could potentially be a haplotype in the middle sites which is indicated by the yellow triangle. "
   ]
  },
  {
   "cell_type": "markdown",
   "metadata": {},
   "source": [
    "### Part 1(b)"
   ]
  },
  {
   "cell_type": "markdown",
   "metadata": {},
   "source": [
    "Use lecture notes to convert the D0statistic into an appropriate Pvalue. Redo the matrix by replacing the D0 value with − log(P-value)."
   ]
  },
  {
   "cell_type": "markdown",
   "metadata": {},
   "source": [
    "#### Visualizing the p-value matrix"
   ]
  },
  {
   "cell_type": "code",
   "execution_count": 486,
   "metadata": {
    "collapsed": false
   },
   "outputs": [
    {
     "data": {
      "image/png": "[encoded data removed]",
      "text/plain": [
       "<matplotlib.figure.Figure at 0x7f73bf0d2050>"
      ]
     },
     "metadata": {},
     "output_type": "display_data"
    }
   ],
   "source": [
    "fig = plt.figure(figsize=(8, 8))\n",
    "ax = sns.heatmap(p_arr, xticklabels=False, yticklabels=False, cmap='magma')\n",
    "ax.set_title('p-values for linkage disequilibrium values', fontdict={'fontsize': 16,})\n",
    "ax.set_xlabel('sites')\n",
    "ax.set_ylabel('sites')\n",
    "fig.tight_layout()"
   ]
  },
  {
   "cell_type": "code",
   "execution_count": 487,
   "metadata": {
    "collapsed": false
   },
   "outputs": [
    {
     "data": {
      "image/png": "[encoded data removed]",
      "text/plain": [
       "<IPython.core.display.Image object>"
      ]
     },
     "execution_count": 487,
     "metadata": {},
     "output_type": "execute_result"
    }
   ],
   "source": [
    "Image(filename='/frazer01/home/joreyna/shared_drive/CSE-280a/Assignment_2/question1_pvalue_matrix_anno.png')"
   ]
  },
  {
   "cell_type": "markdown",
   "metadata": {},
   "source": [
    "The calculations of p-values provides some confidence in our haplotypes blocks. In the D matrix plot we notice two potential haplotypes. The number of potential haplotypes increased in the D primte matrix plot but results from the p value plot help us to confidently say the top left and bottom right haplotypes are the only haplotypes present in the SNP array. "
   ]
  },
  {
   "cell_type": "markdown",
   "metadata": {},
   "source": [
    "## Question 2"
   ]
  },
  {
   "cell_type": "markdown",
   "metadata": {},
   "source": [
    "(25pts) Download the coalescent simulator msms from http://www.mabs.at/ewing/msms/index.shtml, and\n",
    "go through its manual."
   ]
  },
  {
   "cell_type": "markdown",
   "metadata": {},
   "source": [
    "### Part 2(a)"
   ]
  },
  {
   "cell_type": "markdown",
   "metadata": {},
   "source": [
    " Write the msms command for simulating a single sample of n = 100 individual haplotypes sampled\n",
    "from a region with scaled mutation rate θ = 100, and no recombination. Use the command to generate\n",
    "a random sample, and show that indeed there is no evidence of historical recombination."
   ]
  },
  {
   "cell_type": "markdown",
   "metadata": {},
   "source": [
    "##### MSMS command"
   ]
  },
  {
   "cell_type": "markdown",
   "metadata": {
    "collapsed": false
   },
   "source": [
    "-ms 100 1 -t 100"
   ]
  },
  {
   "cell_type": "markdown",
   "metadata": {},
   "source": [
    "#### Investigating the recombination of the SNP array"
   ]
  },
  {
   "cell_type": "code",
   "execution_count": 488,
   "metadata": {
    "collapsed": false
   },
   "outputs": [],
   "source": [
    "data = []\n",
    "with open('/frazer01/home/joreyna/shared_drive/CSE-280a/Assignment_2/question_2a.txt', 'r') as f:\n",
    "    f.readline()\n",
    "    f.readline()\n",
    "    for i, row in enumerate(f):\n",
    "        row_data = []\n",
    "        for digit in row.strip():\n",
    "            row_data.append(int(digit))\n",
    "        data.append(row_data)\n",
    "data = data[:-1]"
   ]
  },
  {
   "cell_type": "code",
   "execution_count": 489,
   "metadata": {
    "collapsed": true
   },
   "outputs": [],
   "source": [
    "probs, ld_arr, ld_prime_arr, p_arr = calculate_ld_blocks_data(data)"
   ]
  },
  {
   "cell_type": "code",
   "execution_count": 490,
   "metadata": {
    "collapsed": false
   },
   "outputs": [
    {
     "data": {
      "image/png": "[encoded data removed]",
      "text/plain": [
       "<matplotlib.figure.Figure at 0x7f73bc792790>"
      ]
     },
     "metadata": {},
     "output_type": "display_data"
    }
   ],
   "source": [
    "fig = plt.figure(figsize=(8,8))\n",
    "ax = sns.heatmap(ld_prime_arr, xticklabels=False, yticklabels=False, cmap='magma')\n",
    "ax.set_title('linkage disequilibrium values', fontdict={'fontsize': 16,})\n",
    "ax.set_xlabel('sites')\n",
    "ax.set_ylabel('sites')\n",
    "fig.tight_layout()"
   ]
  },
  {
   "cell_type": "markdown",
   "metadata": {},
   "source": [
    "##### Evaluating the perfect phylogeny of the SNP array"
   ]
  },
  {
   "cell_type": "code",
   "execution_count": 491,
   "metadata": {
    "collapsed": false
   },
   "outputs": [
    {
     "name": "stdout",
     "output_type": "stream",
     "text": [
      "Does the data have perfect phylogeny?: Yes\n"
     ]
    }
   ],
   "source": [
    "snp_array = data\n",
    "t_array = phylo.transpose_array(snp_array)\n",
    "t_array.sort(reverse=True)\n",
    "\n",
    "answer = 'No'\n",
    "if phylo.is_perfect_phylo(t_array):\n",
    "    answer = 'Yes'\n",
    "print('Does the data have perfect phylogeny?: {}'.format(answer))"
   ]
  },
  {
   "cell_type": "markdown",
   "metadata": {},
   "source": [
    "##### Conclusion"
   ]
  },
  {
   "cell_type": "markdown",
   "metadata": {},
   "source": [
    "The SNP array for this problem clearly does not have recombination. On the upper right had corner of the D prime plot we have a solid linkage desequilibrium block illustrated by the solid red triangle and this conveys that recombination could not have occured in this population. Similarly, investigating the perfect phylogeny we see that the SNP array does have perfect phylogeny which again argues that we do have a population without recombination events.  "
   ]
  },
  {
   "cell_type": "markdown",
   "metadata": {},
   "source": [
    "### Part 2(b)"
   ]
  },
  {
   "cell_type": "markdown",
   "metadata": {},
   "source": [
    " Generate 1,000 samples, all with n = 100, θ = 100 and compute the distribution (histogram) of the\n",
    "number of columns in the 1,000 samples. Compute the mean and variance of the number of columns\n",
    "from the distribution, and explain why the sampled mean makes sense (or not). Non-credit. Explain\n",
    "the sampled variance"
   ]
  },
  {
   "cell_type": "markdown",
   "metadata": {
    "collapsed": true
   },
   "source": [
    "-ms 100 1000 -t 100"
   ]
  },
  {
   "cell_type": "markdown",
   "metadata": {},
   "source": [
    "#### Plotting a histogram of column sizes "
   ]
  },
  {
   "cell_type": "code",
   "execution_count": 492,
   "metadata": {
    "collapsed": true
   },
   "outputs": [],
   "source": [
    "def load_segsites_data(fn):\n",
    "    with open(fn, 'r') as f:\n",
    "        data = []\n",
    "        for line in f:\n",
    "            match = re.search('segsites: ([0-9]*)', line)\n",
    "            if match:\n",
    "                sites = int(match.groups()[0])\n",
    "                data.append(sites)\n",
    "\n",
    "    return data "
   ]
  },
  {
   "cell_type": "code",
   "execution_count": 493,
   "metadata": {
    "collapsed": false
   },
   "outputs": [],
   "source": [
    "data = load_segsites_data('/frazer01/home/joreyna/shared_drive/CSE-280a/Assignment_2/question_2b.txt')"
   ]
  },
  {
   "cell_type": "code",
   "execution_count": 494,
   "metadata": {
    "collapsed": false
   },
   "outputs": [
    {
     "data": {
      "image/png": "[encoded data removed]",
      "text/plain": [
       "<matplotlib.figure.Figure at 0x7f73bc8a0f10>"
      ]
     },
     "metadata": {},
     "output_type": "display_data"
    }
   ],
   "source": [
    "fig = plt.figure(figsize=(8,8))\n",
    "ax = sns.distplot(data, kde=False, hist=True, bins=10)\n",
    "ax.set_title('distribution of mutant counts in 1000 simulated SNP arrays')\n",
    "ax.set_xlabel('sites')\n",
    "ax.set_ylabel('frequency')\n",
    "fig.tight_layout()"
   ]
  },
  {
   "cell_type": "markdown",
   "metadata": {},
   "source": [
    "#### Summary data"
   ]
  },
  {
   "cell_type": "code",
   "execution_count": 498,
   "metadata": {
    "collapsed": false
   },
   "outputs": [
    {
     "name": "stdout",
     "output_type": "stream",
     "text": [
      "The mean of the data is: 510.893\n"
     ]
    }
   ],
   "source": [
    "print 'The mean of the data is: {}'.format(np.mean(data))"
   ]
  },
  {
   "cell_type": "code",
   "execution_count": 499,
   "metadata": {
    "collapsed": false
   },
   "outputs": [
    {
     "name": "stdout",
     "output_type": "stream",
     "text": [
      "The variance of the data is: 15585.043551\n"
     ]
    }
   ],
   "source": [
    "print 'The variance of the data is: {}'.format(np.var(data))"
   ]
  },
  {
   "cell_type": "code",
   "execution_count": 500,
   "metadata": {
    "collapsed": false
   },
   "outputs": [
    {
     "name": "stdout",
     "output_type": "stream",
     "text": [
      "The standard deviation of the data is: 124.840071896\n"
     ]
    }
   ],
   "source": [
    "print 'The standard deviation of the data is: {}'.format(np.std(data))"
   ]
  },
  {
   "cell_type": "markdown",
   "metadata": {},
   "source": [
    "By comparing the mean number of columns in the simulations with an estimate, I show that the mean reasonably captures the number of columns we would expect. The equation for estimating the number of mutations given a sample population with a mutation rate theta is E(m) = theta * ln(n). For this question our sample population is 100 and our theta is 100. Therefore, the estimated number of columns is 460. The calculated mean was 510 which is only 50 columns/sites more than the estimate. This is reasonable given 460 falls within the first standard deviation."
   ]
  },
  {
   "cell_type": "markdown",
   "metadata": {},
   "source": [
    "#### Doing the same for exponential MSMS"
   ]
  },
  {
   "cell_type": "code",
   "execution_count": 535,
   "metadata": {
    "collapsed": true
   },
   "outputs": [],
   "source": [
    "!java -jar /frazer01/home/joreyna/shared_drive/CSE-280a/Assignment_2/msms/lib/msms.jar \\\n",
    "    -ms 100 1000 -t 100 -G 0.69314718055994529 > \\\n",
    "    /frazer01/home/joreyna/shared_drive/CSE-280a/Assignment_2/question_2_extra.txt"
   ]
  },
  {
   "cell_type": "code",
   "execution_count": 536,
   "metadata": {
    "collapsed": false
   },
   "outputs": [],
   "source": [
    "data = load_segsites_data('/frazer01/home/joreyna/shared_drive/CSE-280a/Assignment_2/question_2_extra.txt')"
   ]
  },
  {
   "cell_type": "code",
   "execution_count": 538,
   "metadata": {
    "collapsed": false
   },
   "outputs": [
    {
     "data": {
      "image/png": "[encoded data removed]",
      "text/plain": [
       "<matplotlib.figure.Figure at 0x7f73bc73a290>"
      ]
     },
     "metadata": {},
     "output_type": "display_data"
    }
   ],
   "source": [
    "fig = plt.figure(figsize=(8,8))\n",
    "ax = sns.distplot(data, kde=False, hist=True, bins=10)\n",
    "ax.set_title('distribution of mutant counts in 1000 simulated SNP arrays with alpha ln(2)')\n",
    "ax.set_xlabel('sites')\n",
    "ax.set_ylabel('frequency')\n",
    "fig.tight_layout()"
   ]
  },
  {
   "cell_type": "code",
   "execution_count": 539,
   "metadata": {
    "collapsed": false
   },
   "outputs": [
    {
     "name": "stdout",
     "output_type": "stream",
     "text": [
      "The mean of the data is: 446.308\n"
     ]
    }
   ],
   "source": [
    "print 'The mean of the data is: {}'.format(np.mean(data))"
   ]
  },
  {
   "cell_type": "code",
   "execution_count": 540,
   "metadata": {
    "collapsed": false
   },
   "outputs": [
    {
     "name": "stdout",
     "output_type": "stream",
     "text": [
      "The variance of the data is: 6420.201136\n"
     ]
    }
   ],
   "source": [
    "print 'The variance of the data is: {}'.format(np.var(data))"
   ]
  },
  {
   "cell_type": "code",
   "execution_count": 541,
   "metadata": {
    "collapsed": false
   },
   "outputs": [
    {
     "name": "stdout",
     "output_type": "stream",
     "text": [
      "The standard deviation of the data is: 80.1261576266\n"
     ]
    }
   ],
   "source": [
    "print 'The standard deviation of the data is: {}'.format(np.std(data))"
   ]
  },
  {
   "cell_type": "markdown",
   "metadata": {},
   "source": [
    "## Question 3"
   ]
  },
  {
   "cell_type": "markdown",
   "metadata": {},
   "source": [
    " (25pts) You are given samples from two non-mixing populations, each containing n = 200 haploids in\n",
    "the sample. The two populations have been evolving neutrally with unknown but identical mutation and\n",
    "recombination rates. One of the two populations has had exponential growth, while the other has evolved\n",
    "according to the neutral Wright Fisher model. Determine which population has had exponential growth,\n",
    "and explain your reasoning.\n"
   ]
  },
  {
   "cell_type": "markdown",
   "metadata": {},
   "source": [
    "#### Plan"
   ]
  },
  {
   "cell_type": "markdown",
   "metadata": {},
   "source": [
    "To compare population A and B I will take a look at the haplotype blocks as well as perform simulations that model the Wright Fisher model using recombination. "
   ]
  },
  {
   "cell_type": "code",
   "execution_count": 588,
   "metadata": {
    "collapsed": true
   },
   "outputs": [],
   "source": [
    "def load_data(fn):\n",
    "    with open(fn, 'r') as f:\n",
    "        segsites = int(f.readline().split()[1])\n",
    "        positions = [float(x) for x in f.readline().split()[1:]]\n",
    "        data = []\n",
    "        for row in f:\n",
    "            row_data = []\n",
    "            for digit in row.strip():\n",
    "                row_data.append(int(digit))\n",
    "            data.append(row_data)\n",
    "        \n",
    "    return segsites, positions, data "
   ]
  },
  {
   "cell_type": "code",
   "execution_count": null,
   "metadata": {
    "collapsed": true
   },
   "outputs": [],
   "source": [
    "def load_data_test(fn):\n",
    "    with open(fn, 'r') as f:\n",
    "        f.readline().strip()\n",
    "        f.readline().strip()\n",
    "        f.readline().strip()\n",
    "        f.readline().strip()\n",
    "    \n",
    "        segsites = int(f.readline().split()[1])\n",
    "        positions = [float(x) for x in f.readline().split()[1:]]\n",
    "        data = []\n",
    "        for row in f:\n",
    "            row_data = []\n",
    "            for digit in row.strip():\n",
    "                row_data.append(int(digit))\n",
    "            data.append(row_data)\n",
    "        data = data[:-1]\n",
    "        \n",
    "    return segsites, positions, data "
   ]
  },
  {
   "cell_type": "markdown",
   "metadata": {},
   "source": [
    "#### LD Values"
   ]
  },
  {
   "cell_type": "code",
   "execution_count": 613,
   "metadata": {
    "collapsed": false
   },
   "outputs": [],
   "source": [
    "# Population A\n",
    "segsites_a, positions_a, snp_array_a = load_data('popA.txt')\n",
    "snp_array_a = snp_array_a[:-1]\n",
    "probs, ld_arr, ld_prime_arr, p_arr = calculate_ld_blocks_data(snp_array_a)"
   ]
  },
  {
   "cell_type": "code",
   "execution_count": 615,
   "metadata": {
    "collapsed": false
   },
   "outputs": [
    {
     "data": {
      "image/png": "[encoded data removed]",
      "text/plain": [
       "<matplotlib.figure.Figure at 0x7f73bc69a950>"
      ]
     },
     "metadata": {},
     "output_type": "display_data"
    }
   ],
   "source": [
    "fig = plt.figure(figsize=(8,8))\n",
    "ax = sns.heatmap(ld_prime_arr, xticklabels=False, yticklabels=False, cmap='magma')\n",
    "ax.set_title('linkage disequilibrium values', fontdict={'fontsize': 16,})\n",
    "ax.set_xlabel('sites')\n",
    "ax.set_ylabel('sites')\n",
    "fig.tight_layout()"
   ]
  },
  {
   "cell_type": "code",
   "execution_count": 616,
   "metadata": {
    "collapsed": false
   },
   "outputs": [],
   "source": [
    "# Population B\n",
    "segsites_b, positions_b, snp_array_b = load_data('popB.txt')\n",
    "snp_array_b = snp_array_b[:-1]\n",
    "probs, ld_arr, ld_prime_arr, p_arr = calculate_ld_blocks_data(snp_array_b)"
   ]
  },
  {
   "cell_type": "code",
   "execution_count": 618,
   "metadata": {
    "collapsed": false
   },
   "outputs": [
    {
     "data": {
      "image/png": "[encoded data removed]",
      "text/plain": [
       "<matplotlib.figure.Figure at 0x7f7419ea5610>"
      ]
     },
     "metadata": {},
     "output_type": "display_data"
    }
   ],
   "source": [
    "fig = plt.figure(figsize=(8,8))\n",
    "ax = sns.heatmap(ld_prime_arr, xticklabels=False, yticklabels=False, cmap='magma')\n",
    "ax.set_title('linkage disequilibrium values', fontdict={'fontsize': 16,})\n",
    "ax.set_xlabel('sites')\n",
    "ax.set_ylabel('sites')\n",
    "fig.tight_layout()"
   ]
  },
  {
   "cell_type": "markdown",
   "metadata": {},
   "source": [
    "#### Allele spectrum"
   ]
  },
  {
   "cell_type": "code",
   "execution_count": 787,
   "metadata": {
    "collapsed": false
   },
   "outputs": [],
   "source": [
    "# # Population A\n",
    "# snp_df_a = pd.DataFrame(snp_array_a)\n",
    "# data = snp_df_a.sum(axis=0)\n",
    "# fig = plt.figure(figsize=(8,8))\n",
    "# ax = sns.distplot(data, kde=False, hist=True, bins=10)\n",
    "# ax.set_title('Allele spectrum')\n",
    "# ax.set_xlabel('sites')\n",
    "# ax.set_ylabel('frequency')\n",
    "# fig.tight_layout()"
   ]
  },
  {
   "cell_type": "code",
   "execution_count": 788,
   "metadata": {
    "collapsed": false
   },
   "outputs": [],
   "source": [
    "# # Population B\n",
    "# snp_df_b = pd.DataFrame(snp_array_b)\n",
    "\n",
    "# data = snp_df_b.sum(axis=0)\n",
    "# fig = plt.figure(figsize=(8,8))\n",
    "# ax = sns.distplot(data, kde=False, hist=True, bins=10)\n",
    "# ax.set_title('Allele spectrum')\n",
    "# ax.set_xlabel('sites')\n",
    "# ax.set_ylabel('frequency')\n",
    "# fig.tight_layout()"
   ]
  },
  {
   "cell_type": "markdown",
   "metadata": {},
   "source": [
    "#### Tajima's estimate and estimating the number of mutations "
   ]
  },
  {
   "cell_type": "code",
   "execution_count": 769,
   "metadata": {
    "collapsed": false
   },
   "outputs": [],
   "source": [
    "def hamming_dist(data):\n",
    "    \"\"\"\n",
    "    Calculate Tajima's theta.\n",
    "    \"\"\"\n",
    "    \n",
    "    het_score = 0\n",
    "    for x in range(0, len(data)):\n",
    "        for y in range(x + 1, len(data)):\n",
    "            for z in range(len(data[0])):\n",
    "                if data[x][z] != data[y][z]:\n",
    "                    het_score += 1\n",
    "    return het_score"
   ]
  },
  {
   "cell_type": "code",
   "execution_count": 776,
   "metadata": {
    "collapsed": false
   },
   "outputs": [],
   "source": [
    "hamming_dist_a = hamming_dist(snp_array_a)\n",
    "theta_a = 1/comb(len(snp_array_a), 2) * hamming_dist_a"
   ]
  },
  {
   "cell_type": "code",
   "execution_count": 778,
   "metadata": {
    "collapsed": false
   },
   "outputs": [
    {
     "name": "stdout",
     "output_type": "stream",
     "text": [
      "Estimating the columns of population A: 1007.91541996\n"
     ]
    }
   ],
   "source": [
    "print('Estimating the columns of population A: {}'.format(theta_a * np.log(len(snp_array_a))))"
   ]
  },
  {
   "cell_type": "code",
   "execution_count": 780,
   "metadata": {
    "collapsed": false
   },
   "outputs": [],
   "source": [
    "hamming_dist_b = hamming_dist(snp_array_b)\n",
    "theta_b = 1/comb(len(snp_array_b), 2) * hamming_dist_b"
   ]
  },
  {
   "cell_type": "code",
   "execution_count": 783,
   "metadata": {
    "collapsed": false
   },
   "outputs": [
    {
     "name": "stdout",
     "output_type": "stream",
     "text": [
      "Estimating the columns of population B: 208.417167903\n"
     ]
    }
   ],
   "source": [
    "print('Estimating the columns of population B: {}'.format(theta_b* np.log(len(snp_array_b))))"
   ]
  },
  {
   "cell_type": "markdown",
   "metadata": {},
   "source": [
    "To investigate these two different populations I analyzed the linkage disequilibrium, allele spectrum and estimated the number of expected columns for each dataset. The linkage disequilibrium results show that population B has more LD than population A. The time between coalesence events in a population with exponential growth is very short and therefore there is very little time for recombination so these LD patterns seem to suggest that population B is the exponentially growing population. I then took a look at the expected number of mutations by estimating theta using Tajima's approach and applied theta to E[m] = theta * ln(n). Given the SNP array for population B we see that only 208 mutations wer "
   ]
  },
  {
   "cell_type": "markdown",
   "metadata": {},
   "source": [
    "To investigate these two different populations I analyzed the linkage disequilibrium, allele spectrum and estimated the number of expected columns for each dataset. The linkage disequilibrium results show that population B has more LD than population A. The time between coalesence events in a population with exponential growth is very short and therefore there is very little time for recombination so these LD patterns seem to suggest that population B is the exponentially growing population. I then took a look at the allele spectrum where for exponentially growing populations you expect to see fewer mutations. In the allele spectrum for B we see that many alleles were represented only a few ti\n",
    "\n",
    "\n",
    "Lastly I estimated the expected number of mutations by estimating theta using Tajima's approach and applied this theta to E[m] = theta * ln(n). Given the SNP array for population A we again predicted "
   ]
  },
  {
   "cell_type": "markdown",
   "metadata": {},
   "source": [
    "## Question 4"
   ]
  },
  {
   "cell_type": "markdown",
   "metadata": {},
   "source": [
    "(25pts) "
   ]
  },
  {
   "cell_type": "markdown",
   "metadata": {},
   "source": [
    "### Part 4(a)"
   ]
  },
  {
   "cell_type": "markdown",
   "metadata": {},
   "source": [
    "Design and implement a no-recombination, coalescent based backward simulator that outputs\n",
    "a sample (a haplotype SNP matrix with n rows) evolving neutrally but with exponential growth in the\n",
    "population. The input to your simulator is a set of parameters: sample size n, θ, current population N,\n",
    "and with growth rate parameter α. To explain the use of growth rate, let Nt denote the population size t\n",
    "generations prior to the current generation. Then, N0 = N, and Nt = ef−αNt−1."
   ]
  },
  {
   "cell_type": "markdown",
   "metadata": {},
   "source": [
    "#### Psudeocode"
   ]
  },
  {
   "cell_type": "raw",
   "metadata": {},
   "source": [
    "-------------Data Structures-------------\n",
    "\n",
    "Nodes:\n",
    "    - identifier (str) <br>\n",
    "        ----> leaf nodes will be named idv# \n",
    "        ----> inner nodes will be coalescence nodes named coal# \n",
    "    - height in the tree (int) \n",
    "    - children_ids, list of children identifiers (list) (0 = left child, 1 = right child) \n",
    "    - children_muts, list of mutations each child contains \n",
    "    - children_branches, list of branch lengths for each child\n",
    "   \n",
    "-------------Algorithm-------------\n",
    "(1) Initialize the tree dictionary with the n initial nodes and assign \"idv\" identifiers.\n",
    "(2) Assign the first node as previous coalesence node.\n",
    "(3) Create a coalesence node. \n",
    "    (a) Simulate a branch length using the exponential distribution.\n",
    "    (b) Assign height as the height of the previous coalesence node + the current branch length.\n",
    "    (c) Assign the two children randomly and remove them from the node available for coalesence.\n",
    "    (d) For each child calculate the branch length as height of the current coalesence node minus the height of the child.\n",
    "    (e) For each child assign mutants by sampling from the poisson distribution (number of mutations = theta * branch length)           and enforce the limited sites assumption to ensure sites are only mutated once.\n",
    "(4) Keep track of global variables.\n",
    "    (a) Update the previous coalesence node to the newly created noalesence node.\n",
    "    (b) Update the sample size to sample size - 1\n",
    "    (c) Update the population size to population size - growth function\n",
    "(5) Iterate steps (2) - (4) until coalesence is complete \n",
    "(6) Construct the SNP matrix\n",
    "    (a) Start from the root and traverse the tree downward while extracting mutations and assigning mutations \n",
    "        once a leaf/sample node has been reached. \n",
    "\n",
    "(Note) Depending on the population size at t[i] we may have a situation where population size will equal or be less than the sample size which is not possible. Instead what will happen is we will have rapid coalesence using the remaing samples. Don't know how often this will happen but no doubt it'll have to be handled. "
   ]
  },
  {
   "cell_type": "markdown",
   "metadata": {
    "collapsed": true
   },
   "source": [
    "#### Implementation"
   ]
  },
  {
   "cell_type": "code",
   "execution_count": null,
   "metadata": {
    "collapsed": true
   },
   "outputs": [],
   "source": [
    "def print_tree(tree, tabs=0):\n",
    "    tab_str = '\\t' * tabs\n",
    "    for k, v in tree.items():\n",
    "        print '{}id: {}, {}'.format(tab_str, k, v.message(tabs = tabs))\n",
    "\n",
    "def print_dict(tree, tabs=0):\n",
    "    tab_str = '\\t' * tabs\n",
    "    for k, v in tree.items():\n",
    "        print '{}id: {}, {}'.format(tab_str, k, v)\n",
    "\n",
    "def print_avail_nodes(tree, tabs=0):\n",
    "    tab_str = '\\t' * tabs\n",
    "    for k, v in tree.items():\n",
    "        print '{}id: {}'.format(tab_str, k)\n",
    "\n",
    "def print_parameters():    \n",
    "    print('Coalesence Parameters')\n",
    "    print('---------------------------------')\n",
    "    print('Sample size: {}'.format(sample_size))\n",
    "    print('Scaled mutation rate (theta): {}'.format(theta))\n",
    "    print('Population size: {}'.format(population_size))\n",
    "    print('Alpha growth rate: {}'.format(alpha))\n",
    "    print('Region: {}\\n'.format(region))"
   ]
  },
  {
   "cell_type": "code",
   "execution_count": 62,
   "metadata": {
    "collapsed": true
   },
   "outputs": [],
   "source": [
    "def get_mutations(num_muts, region, prev_mut_sites):\n",
    "    muts = []\n",
    "    while len(muts) < num_muts:\n",
    "        mut_site = np.random.randint(1, region)\n",
    "        if mut_site not in prev_mut_sites:\n",
    "            muts.append(mut_site)\n",
    "    return muts"
   ]
  },
  {
   "cell_type": "code",
   "execution_count": 63,
   "metadata": {
    "collapsed": true
   },
   "outputs": [],
   "source": [
    "def coin_flip(p):\n",
    "    \"\"\"\n",
    "    Flip a coin using a random number generator.\n",
    "    \"\"\"\n",
    "    return True if random.random() < p else False"
   ]
  },
  {
   "cell_type": "code",
   "execution_count": 64,
   "metadata": {
    "collapsed": false
   },
   "outputs": [],
   "source": [
    "class node():\n",
    "    def __init__(self, name, height = 0, children_ids = [], children_muts = [], children_branches = []):\n",
    "        self.name = name\n",
    "        self.height = height\n",
    "        self.children_ids = children_ids\n",
    "        self.children_muts = children_muts\n",
    "        self.children_branches = children_branches\n",
    "    \n",
    "    def message(self, tabs=0, skip_muts=True):\n",
    "        tabs_str = '\\t' * tabs \n",
    "        message = '{}name: {}\\n'.format(tabs_str, self.name)\n",
    "        message += '{}height: {}\\n'.format(tabs_str, self.height)\n",
    "        if len(self.children_ids) > 0:\n",
    "            for cid, cmuts, cbranch in zip(self.children_ids, self.children_muts, self.children_branches):\n",
    "                if skip_muts == True:\n",
    "                    message += '{}child_id: {}, child_branch: {}\\n'.format(tabs_str, cid, cbranch)\n",
    "                else:\n",
    "                    message += '{}child_id: {}, child_muts: {}, child_branch: {}\\n'.format(tabs_str, cid, cmuts, cbranch)\n",
    "        else: \n",
    "            if skip_muts == True:\n",
    "                message += '{}child_id: [], child_branch: []\\n'.format(tabs_str)            \n",
    "            else:\n",
    "                message += '{}child_id: [], child_muts: [], child_branch: []\\n'.format(tabs_str)\n",
    "\n",
    "        return message\n",
    "        "
   ]
  },
  {
   "cell_type": "code",
   "execution_count": 502,
   "metadata": {
    "collapsed": false
   },
   "outputs": [],
   "source": [
    "def simulate_snp_tree_w_exp(sample_size, theta, population_size, alpha, region):\n",
    "    \"\"\"\n",
    "    Simulated a coalesence tree given a sample size, scaled mutation rate,\n",
    "    populations size, population growth, and mutational region.\n",
    "    \"\"\"\n",
    "    skip_muts = True\n",
    "    # Initializations of the tree and initial values \n",
    "    individuals = ['idv{}'.format(x + 1) for x in range(sample_size)]\n",
    "    tree = {idv: node(idv) for idv in individuals} \n",
    "    avail_nodes = {k:k for k in tree.keys()}\n",
    "    prev_coal_node = tree[individuals[0]]\n",
    "    prev_mut_sites = []\n",
    "    generation_sizes = [population_size]\n",
    "    coal_lengths = [0]\n",
    "    branch_len = 1 # Rounding\n",
    "    epoch = 1\n",
    "    \n",
    "#     print('theta: {}'.format(theta))\n",
    "\n",
    "    # Construction of the coalescence tree\n",
    "    coal_count = 1\n",
    "    while sample_size > 1:\n",
    "                \n",
    "        prev_population_size = math.exp(-alpha) * population_size\n",
    "        coal_prob = comb(sample_size, 2) / (2 * prev_population_size)\n",
    "        #nocoal_prob = 1 - (epoch * (epoch - 1))  / (2 * prev_population_size)\n",
    "        \n",
    "        # Adding a new epoch/branch length\n",
    "        if coin_flip(coal_prob):\n",
    "        #if not coin_flip(nocoal_prob):\n",
    "\n",
    "            # Creating a new coalescence node\n",
    "            coal_node = node('coal{}'.format(coal_count))\n",
    "            # Initializing children information for printing purposes \n",
    "            coal_node.children_ids = [0,0]\n",
    "            coal_node.children_branches = [0,0]\n",
    "            coal_node.children_muts = [[0],[0]]        \n",
    "\n",
    "            coal_node.height = epoch \n",
    "            tree.update({'coal{}'.format(coal_count): coal_node})\n",
    "\n",
    "            # Choosing the left child\n",
    "            left_child = random.choice(avail_nodes.keys())\n",
    "            left_child_node = tree[avail_nodes.pop(left_child)]\n",
    "\n",
    "            # Choosing the right child\n",
    "            right_child = random.choice(avail_nodes.keys())\n",
    "            right_child_node = tree[avail_nodes.pop(right_child)]\n",
    "\n",
    "            # Choosing the number of mutations for each child\n",
    "            left_mutuations = []\n",
    "\n",
    "            # Update available nodes to include the newly created coalescent node \n",
    "            avail_nodes.update({'coal{}'.format(coal_count): 'coal{}'.format(coal_count) })\n",
    "\n",
    "            # Add children ids, branch lengths and mutations \n",
    "            coal_node.children_ids = [left_child, right_child]\n",
    "#             coal_node.children_branches = [left_child_node.height + branch_len, \\\n",
    "#                                            right_child_node.height + branch_len]\n",
    "\n",
    "            coal_node.children_branches = [epoch - left_child_node.height, \\\n",
    "                                           epoch - right_child_node.height]\n",
    "            \n",
    "            # Dropping mutations on the left child branch\n",
    "            mew = theta/(4*population_size)\n",
    "            \n",
    "            \n",
    "            \n",
    "            num_muts = coal_node.children_branches[0] * mew\n",
    "            muts_left = get_mutations(num_muts, region, prev_mut_sites)\n",
    "            \n",
    "#             print('left child')\n",
    "#             print('\\tbranch_left: {}'.format(coal_node.children_branches[0]))\n",
    "#             print('\\tmuts_left: {}'.format(len(muts_left)))\n",
    "            \n",
    "            prev_mut_sites.extend(muts_left)\n",
    "\n",
    "            # Dropping mutations on the left child branch\n",
    "            num_muts = coal_node.children_branches[1] * mew\n",
    "            muts_right = get_mutations(num_muts, region, prev_mut_sites)\n",
    "            \n",
    "#             print('\\n')\n",
    "#             print('right child')\n",
    "#             print('\\tbranch_right: {}'.format(coal_node.children_branches[1]))\n",
    "#             print('\\tmuts_right: {}'.format(len(muts_right)))\n",
    "#             print('\\n')\n",
    "\n",
    "            prev_mut_sites.append(muts_right)    \n",
    "            coal_node.children_muts = [muts_left, muts_right]\n",
    "\n",
    "            # Bookkeeping global variables needed for exp dist, new coalescent counts, etc \n",
    "            prev_coal_node = coal_node\n",
    "            sample_size -= 1\n",
    "            coal_count += 1\n",
    "            coal_lengths.append(branch_len)\n",
    "        \n",
    "        epoch += 1\n",
    "        branch_len += 1\n",
    "        population_size = prev_population_size \n",
    "        generation_sizes.append(population_size)\n",
    "        \n",
    "    return tree, generation_sizes, coal_lengths"
   ]
  },
  {
   "cell_type": "code",
   "execution_count": 503,
   "metadata": {
    "collapsed": false
   },
   "outputs": [],
   "source": [
    "def traverse_and_get_mutations(tnode, mutations, data, tree):\n",
    "    \"\"\"\n",
    "    Traverse the coalescent tree and fill data with SNP information.\n",
    "    \"\"\"\n",
    "    \n",
    "#     print('entering node: {}'.format(tnode.name))\n",
    "    \n",
    "    # Base case when we have hit a leaf\n",
    "    if len(tnode.children_ids) == 0:\n",
    "        data[tnode.name] = mutations \n",
    "        \n",
    "#         print('leaving node: {}'.format(tnode.name))\n",
    "\n",
    "        return \n",
    "    \n",
    "    for c in range(len(tnode.children_ids)):\n",
    "        child_muts = tnode.children_muts[c]\n",
    "        child_node = tree[tnode.children_ids[c]]\n",
    "        mutations.extend(child_muts)\n",
    "        traverse_and_get_mutations(child_node, mutations, data, tree)\n",
    "        mutations = mutations[0: -len(child_muts)]\n",
    "        \n",
    "#     print('leaving node: {}'.format(tnode.name))\n",
    "        \n",
    "    return "
   ]
  },
  {
   "cell_type": "code",
   "execution_count": 504,
   "metadata": {
    "collapsed": false
   },
   "outputs": [],
   "source": [
    "def simulate_snp_array_w_exp(sample_size, tree):\n",
    "    \"\"\"\n",
    "    Given a coalesence tree generate the coalesence matrix. \n",
    "    \"\"\"\n",
    "    \n",
    "    global data\n",
    "    \n",
    "    individuals = ['idv{}'.format(x + 1) for x in range(sample_size)]\n",
    "\n",
    "    # Locating the last node denoting coalescence \n",
    "    node_ids = tree.keys()\n",
    "    node_ids = [x for x in node_ids if re.search('coal', x)]\n",
    "    node_ids.sort(reverse=True)\n",
    "    tnode = tree[node_ids[0]]\n",
    "\n",
    "    # Traversing the coalesence tree to extract mutations \n",
    "    mutations = []\n",
    "    data = {}\n",
    "    traverse_and_get_mutations(tnode, mutations, data, tree)\n",
    "\n",
    "    # Constructing a sorted list of all the mutation sites \n",
    "    all_mutations = set()\n",
    "    for node_name, muts in data.items():\n",
    "        for mut in muts:\n",
    "            all_mutations.add(mut)\n",
    "    all_mutations = list(all_mutations)\n",
    "    all_mutations.sort()\n",
    "\n",
    "    # Making an indexer between column positions and mutations names \n",
    "    mut_indexes = {site: i for i, site in enumerate(all_mutations)}\n",
    "\n",
    "    # Generating the SNP matrix in list form \n",
    "    snp_array = [0] * len(data)\n",
    "    snp_array = [[0] * len(all_mutations) for x in range(len(data))]\n",
    "\n",
    "    for i, indv in enumerate(individuals):\n",
    "        for mut in data[indv]:\n",
    "            snp_array[i][mut_indexes[mut]] = 1 \n",
    "            \n",
    "            \n",
    "    return snp_array, all_mutations"
   ]
  },
  {
   "cell_type": "markdown",
   "metadata": {},
   "source": [
    "### Part 4(b)"
   ]
  },
  {
   "cell_type": "markdown",
   "metadata": {},
   "source": [
    "Simulate 100 samples for each of two cases: α = 0, and a positive (small) value of α using the\n",
    "parameters provided and show qualitatively and quantitatively, how the allele frequency spectrum changes\n",
    "in the exponentially growing population relative to the constant population size scenario."
   ]
  },
  {
   "cell_type": "markdown",
   "metadata": {},
   "source": [
    "#### Allele frequency spectrum"
   ]
  },
  {
   "cell_type": "markdown",
   "metadata": {},
   "source": [
    "##### Case alpha = 0 "
   ]
  },
  {
   "cell_type": "code",
   "execution_count": 597,
   "metadata": {
    "collapsed": false
   },
   "outputs": [],
   "source": [
    "sample_size = 100\n",
    "population_size = 1000\n",
    "theta = 100\n",
    "alpha = 0\n",
    "region = 10000\n",
    "\n",
    "allele_spectrum_summary = []\n",
    "mut_sizes_exp = []\n",
    "for x in range(100):\n",
    "    coal_tree, generation_sizes, coal_lengths = \\\n",
    "            simulate_snp_tree_w_exp(sample_size, theta, population_size, alpha, region)\n",
    "    snp_array, _ = simulate_snp_array_w_exp(sample_size, coal_tree)\n",
    "    snp_df = pd.DataFrame(snp_array)\n",
    "    allele_spectrum = snp_df.sum(axis=0) # Calculating allele spectrum \n",
    "    allele_spectrum = pd.DataFrame(data = [allele_spectrum.values.tolist()], columns=allele_spectrum.index)\n",
    "    allele_spectrum_summary.append(allele_spectrum)"
   ]
  },
  {
   "cell_type": "code",
   "execution_count": 598,
   "metadata": {
    "collapsed": false
   },
   "outputs": [
    {
     "data": {
      "image/png": "[encoded data removed]",
      "text/plain": [
       "<matplotlib.figure.Figure at 0x7f7419d9d510>"
      ]
     },
     "metadata": {},
     "output_type": "display_data"
    }
   ],
   "source": [
    "allele_spectrum_summary = pd.concat(allele_spectrum_summary)\n",
    "allele_spectrum_summary.replace(np.NaN, 0, inplace=True)\n",
    "\n",
    "data = allele_spectrum_summary.mean()\n",
    "fig = plt.figure(figsize=(8,8))\n",
    "ax = sns.distplot(data, kde=False, hist=True, bins=10)\n",
    "ax.set_title('Allele spectrum')\n",
    "ax.set_xlabel('sites')\n",
    "ax.set_ylabel('frequency')\n",
    "fig.tight_layout()"
   ]
  },
  {
   "cell_type": "markdown",
   "metadata": {},
   "source": [
    "##### Case alpha small positive"
   ]
  },
  {
   "cell_type": "code",
   "execution_count": 585,
   "metadata": {
    "collapsed": true
   },
   "outputs": [],
   "source": [
    "sample_size = 10\n",
    "population_size = 10**6\n",
    "theta = 40\n",
    "alpha = 7/(4* population_size)\n",
    "region = 100000\n",
    "\n",
    "allele_spectrum_summary = []\n",
    "mut_sizes_exp = []\n",
    "for x in range(10):\n",
    "    coal_tree, generation_sizes, coal_lengths = \\\n",
    "            simulate_snp_tree_w_exp(sample_size, theta, population_size, alpha, region)\n",
    "    snp_array, _ = simulate_snp_array_w_exp(sample_size, coal_tree)\n",
    "    snp_df = pd.DataFrame(snp_array)\n",
    "    allele_spectrum = snp_df.sum(axis=0) # Calculating allele spectrum \n",
    "    allele_spectrum = pd.DataFrame(data = [allele_spectrum.values.tolist()], columns=allele_spectrum.index)\n",
    "    allele_spectrum_summary.append(allele_spectrum)"
   ]
  },
  {
   "cell_type": "code",
   "execution_count": 594,
   "metadata": {
    "collapsed": false
   },
   "outputs": [
    {
     "data": {
      "text/html": [
       "<div>\n",
       "<table border=\"1\" class=\"dataframe\">\n",
       "  <thead>\n",
       "    <tr style=\"text-align: right;\">\n",
       "      <th></th>\n",
       "      <th>0</th>\n",
       "      <th>1</th>\n",
       "      <th>2</th>\n",
       "      <th>3</th>\n",
       "      <th>4</th>\n",
       "      <th>5</th>\n",
       "      <th>6</th>\n",
       "      <th>7</th>\n",
       "      <th>8</th>\n",
       "      <th>9</th>\n",
       "      <th>...</th>\n",
       "      <th>218</th>\n",
       "      <th>219</th>\n",
       "      <th>220</th>\n",
       "      <th>221</th>\n",
       "      <th>222</th>\n",
       "      <th>223</th>\n",
       "      <th>224</th>\n",
       "      <th>225</th>\n",
       "      <th>226</th>\n",
       "      <th>227</th>\n",
       "    </tr>\n",
       "  </thead>\n",
       "  <tbody>\n",
       "    <tr>\n",
       "      <th>0</th>\n",
       "      <td>7</td>\n",
       "      <td>10</td>\n",
       "      <td>10</td>\n",
       "      <td>7</td>\n",
       "      <td>7</td>\n",
       "      <td>1</td>\n",
       "      <td>7</td>\n",
       "      <td>10</td>\n",
       "      <td>7</td>\n",
       "      <td>1</td>\n",
       "      <td>...</td>\n",
       "      <td>0</td>\n",
       "      <td>0</td>\n",
       "      <td>0</td>\n",
       "      <td>0</td>\n",
       "      <td>0</td>\n",
       "      <td>0</td>\n",
       "      <td>0</td>\n",
       "      <td>0</td>\n",
       "      <td>0</td>\n",
       "      <td>0</td>\n",
       "    </tr>\n",
       "    <tr>\n",
       "      <th>0</th>\n",
       "      <td>1</td>\n",
       "      <td>5</td>\n",
       "      <td>5</td>\n",
       "      <td>5</td>\n",
       "      <td>5</td>\n",
       "      <td>5</td>\n",
       "      <td>5</td>\n",
       "      <td>5</td>\n",
       "      <td>5</td>\n",
       "      <td>3</td>\n",
       "      <td>...</td>\n",
       "      <td>5</td>\n",
       "      <td>10</td>\n",
       "      <td>1</td>\n",
       "      <td>5</td>\n",
       "      <td>5</td>\n",
       "      <td>5</td>\n",
       "      <td>5</td>\n",
       "      <td>10</td>\n",
       "      <td>5</td>\n",
       "      <td>3</td>\n",
       "    </tr>\n",
       "    <tr>\n",
       "      <th>0</th>\n",
       "      <td>4</td>\n",
       "      <td>1</td>\n",
       "      <td>2</td>\n",
       "      <td>1</td>\n",
       "      <td>1</td>\n",
       "      <td>1</td>\n",
       "      <td>1</td>\n",
       "      <td>1</td>\n",
       "      <td>1</td>\n",
       "      <td>2</td>\n",
       "      <td>...</td>\n",
       "      <td>0</td>\n",
       "      <td>0</td>\n",
       "      <td>0</td>\n",
       "      <td>0</td>\n",
       "      <td>0</td>\n",
       "      <td>0</td>\n",
       "      <td>0</td>\n",
       "      <td>0</td>\n",
       "      <td>0</td>\n",
       "      <td>0</td>\n",
       "    </tr>\n",
       "    <tr>\n",
       "      <th>0</th>\n",
       "      <td>10</td>\n",
       "      <td>5</td>\n",
       "      <td>5</td>\n",
       "      <td>5</td>\n",
       "      <td>2</td>\n",
       "      <td>5</td>\n",
       "      <td>1</td>\n",
       "      <td>1</td>\n",
       "      <td>2</td>\n",
       "      <td>5</td>\n",
       "      <td>...</td>\n",
       "      <td>0</td>\n",
       "      <td>0</td>\n",
       "      <td>0</td>\n",
       "      <td>0</td>\n",
       "      <td>0</td>\n",
       "      <td>0</td>\n",
       "      <td>0</td>\n",
       "      <td>0</td>\n",
       "      <td>0</td>\n",
       "      <td>0</td>\n",
       "    </tr>\n",
       "    <tr>\n",
       "      <th>0</th>\n",
       "      <td>1</td>\n",
       "      <td>10</td>\n",
       "      <td>10</td>\n",
       "      <td>9</td>\n",
       "      <td>10</td>\n",
       "      <td>1</td>\n",
       "      <td>1</td>\n",
       "      <td>1</td>\n",
       "      <td>2</td>\n",
       "      <td>1</td>\n",
       "      <td>...</td>\n",
       "      <td>0</td>\n",
       "      <td>0</td>\n",
       "      <td>0</td>\n",
       "      <td>0</td>\n",
       "      <td>0</td>\n",
       "      <td>0</td>\n",
       "      <td>0</td>\n",
       "      <td>0</td>\n",
       "      <td>0</td>\n",
       "      <td>0</td>\n",
       "    </tr>\n",
       "    <tr>\n",
       "      <th>0</th>\n",
       "      <td>9</td>\n",
       "      <td>1</td>\n",
       "      <td>9</td>\n",
       "      <td>9</td>\n",
       "      <td>1</td>\n",
       "      <td>1</td>\n",
       "      <td>9</td>\n",
       "      <td>1</td>\n",
       "      <td>1</td>\n",
       "      <td>9</td>\n",
       "      <td>...</td>\n",
       "      <td>0</td>\n",
       "      <td>0</td>\n",
       "      <td>0</td>\n",
       "      <td>0</td>\n",
       "      <td>0</td>\n",
       "      <td>0</td>\n",
       "      <td>0</td>\n",
       "      <td>0</td>\n",
       "      <td>0</td>\n",
       "      <td>0</td>\n",
       "    </tr>\n",
       "    <tr>\n",
       "      <th>0</th>\n",
       "      <td>1</td>\n",
       "      <td>2</td>\n",
       "      <td>4</td>\n",
       "      <td>4</td>\n",
       "      <td>6</td>\n",
       "      <td>6</td>\n",
       "      <td>4</td>\n",
       "      <td>2</td>\n",
       "      <td>3</td>\n",
       "      <td>1</td>\n",
       "      <td>...</td>\n",
       "      <td>0</td>\n",
       "      <td>0</td>\n",
       "      <td>0</td>\n",
       "      <td>0</td>\n",
       "      <td>0</td>\n",
       "      <td>0</td>\n",
       "      <td>0</td>\n",
       "      <td>0</td>\n",
       "      <td>0</td>\n",
       "      <td>0</td>\n",
       "    </tr>\n",
       "    <tr>\n",
       "      <th>0</th>\n",
       "      <td>6</td>\n",
       "      <td>3</td>\n",
       "      <td>1</td>\n",
       "      <td>1</td>\n",
       "      <td>2</td>\n",
       "      <td>6</td>\n",
       "      <td>10</td>\n",
       "      <td>6</td>\n",
       "      <td>3</td>\n",
       "      <td>6</td>\n",
       "      <td>...</td>\n",
       "      <td>0</td>\n",
       "      <td>0</td>\n",
       "      <td>0</td>\n",
       "      <td>0</td>\n",
       "      <td>0</td>\n",
       "      <td>0</td>\n",
       "      <td>0</td>\n",
       "      <td>0</td>\n",
       "      <td>0</td>\n",
       "      <td>0</td>\n",
       "    </tr>\n",
       "    <tr>\n",
       "      <th>0</th>\n",
       "      <td>2</td>\n",
       "      <td>1</td>\n",
       "      <td>1</td>\n",
       "      <td>1</td>\n",
       "      <td>7</td>\n",
       "      <td>1</td>\n",
       "      <td>1</td>\n",
       "      <td>1</td>\n",
       "      <td>1</td>\n",
       "      <td>1</td>\n",
       "      <td>...</td>\n",
       "      <td>0</td>\n",
       "      <td>0</td>\n",
       "      <td>0</td>\n",
       "      <td>0</td>\n",
       "      <td>0</td>\n",
       "      <td>0</td>\n",
       "      <td>0</td>\n",
       "      <td>0</td>\n",
       "      <td>0</td>\n",
       "      <td>0</td>\n",
       "    </tr>\n",
       "    <tr>\n",
       "      <th>0</th>\n",
       "      <td>3</td>\n",
       "      <td>1</td>\n",
       "      <td>1</td>\n",
       "      <td>1</td>\n",
       "      <td>3</td>\n",
       "      <td>3</td>\n",
       "      <td>3</td>\n",
       "      <td>1</td>\n",
       "      <td>1</td>\n",
       "      <td>1</td>\n",
       "      <td>...</td>\n",
       "      <td>0</td>\n",
       "      <td>0</td>\n",
       "      <td>0</td>\n",
       "      <td>0</td>\n",
       "      <td>0</td>\n",
       "      <td>0</td>\n",
       "      <td>0</td>\n",
       "      <td>0</td>\n",
       "      <td>0</td>\n",
       "      <td>0</td>\n",
       "    </tr>\n",
       "  </tbody>\n",
       "</table>\n",
       "<p>10 rows × 228 columns</p>\n",
       "</div>"
      ],
      "text/plain": [
       "   0    1    2    3    4    5    6    7    8    9   ...   218  219  220  221  \\\n",
       "0    7   10   10    7    7    1    7   10    7    1 ...     0    0    0    0   \n",
       "0    1    5    5    5    5    5    5    5    5    3 ...     5   10    1    5   \n",
       "0    4    1    2    1    1    1    1    1    1    2 ...     0    0    0    0   \n",
       "0   10    5    5    5    2    5    1    1    2    5 ...     0    0    0    0   \n",
       "0    1   10   10    9   10    1    1    1    2    1 ...     0    0    0    0   \n",
       "0    9    1    9    9    1    1    9    1    1    9 ...     0    0    0    0   \n",
       "0    1    2    4    4    6    6    4    2    3    1 ...     0    0    0    0   \n",
       "0    6    3    1    1    2    6   10    6    3    6 ...     0    0    0    0   \n",
       "0    2    1    1    1    7    1    1    1    1    1 ...     0    0    0    0   \n",
       "0    3    1    1    1    3    3    3    1    1    1 ...     0    0    0    0   \n",
       "\n",
       "   222  223  224  225  226  227  \n",
       "0    0    0    0    0    0    0  \n",
       "0    5    5    5   10    5    3  \n",
       "0    0    0    0    0    0    0  \n",
       "0    0    0    0    0    0    0  \n",
       "0    0    0    0    0    0    0  \n",
       "0    0    0    0    0    0    0  \n",
       "0    0    0    0    0    0    0  \n",
       "0    0    0    0    0    0    0  \n",
       "0    0    0    0    0    0    0  \n",
       "0    0    0    0    0    0    0  \n",
       "\n",
       "[10 rows x 228 columns]"
      ]
     },
     "execution_count": 594,
     "metadata": {},
     "output_type": "execute_result"
    }
   ],
   "source": [
    "allele_spectrum_summary"
   ]
  },
  {
   "cell_type": "code",
   "execution_count": null,
   "metadata": {
    "collapsed": true
   },
   "outputs": [],
   "source": [
    "allele_spectrum_summary = pd.concat(allele_spectrum_summary)\n",
    "allele_spectrum_summary.replace(np.NaN, 0, inplace=True)"
   ]
  },
  {
   "cell_type": "code",
   "execution_count": 596,
   "metadata": {
    "collapsed": true
   },
   "outputs": [],
   "source": [
    "allele_spectrum_summary_expon# = allele_spectrum_summary.copy(deep=True)"
   ]
  },
  {
   "cell_type": "code",
   "execution_count": 595,
   "metadata": {
    "collapsed": false
   },
   "outputs": [
    {
     "data": {
      "image/png": "[encoded data removed]",
      "text/plain": [
       "<matplotlib.figure.Figure at 0x7f73bb958590>"
      ]
     },
     "metadata": {},
     "output_type": "display_data"
    }
   ],
   "source": [
    "data = allele_spectrum_summary.mean()\n",
    "fig = plt.figure(figsize=(8,8))\n",
    "ax = sns.distplot(data, kde=False, hist=True, bins=10)\n",
    "ax.set_title('Allele spectrum')\n",
    "ax.set_xlabel('sites')\n",
    "ax.set_ylabel('frequency')\n",
    "fig.tight_layout()"
   ]
  },
  {
   "cell_type": "code",
   "execution_count": null,
   "metadata": {
    "collapsed": true
   },
   "outputs": [],
   "source": []
  },
  {
   "cell_type": "code",
   "execution_count": null,
   "metadata": {
    "collapsed": true
   },
   "outputs": [],
   "source": []
  },
  {
   "cell_type": "code",
   "execution_count": null,
   "metadata": {
    "collapsed": true
   },
   "outputs": [],
   "source": []
  },
  {
   "cell_type": "code",
   "execution_count": null,
   "metadata": {
    "collapsed": true
   },
   "outputs": [],
   "source": []
  },
  {
   "cell_type": "code",
   "execution_count": null,
   "metadata": {
    "collapsed": true
   },
   "outputs": [],
   "source": []
  },
  {
   "cell_type": "code",
   "execution_count": null,
   "metadata": {
    "collapsed": true
   },
   "outputs": [],
   "source": []
  },
  {
   "cell_type": "code",
   "execution_count": null,
   "metadata": {
    "collapsed": true
   },
   "outputs": [],
   "source": []
  },
  {
   "cell_type": "code",
   "execution_count": null,
   "metadata": {
    "collapsed": true
   },
   "outputs": [],
   "source": []
  },
  {
   "cell_type": "code",
   "execution_count": null,
   "metadata": {
    "collapsed": true
   },
   "outputs": [],
   "source": []
  },
  {
   "cell_type": "code",
   "execution_count": null,
   "metadata": {
    "collapsed": true
   },
   "outputs": [],
   "source": []
  },
  {
   "cell_type": "code",
   "execution_count": null,
   "metadata": {
    "collapsed": true
   },
   "outputs": [],
   "source": []
  },
  {
   "cell_type": "code",
   "execution_count": null,
   "metadata": {
    "collapsed": true
   },
   "outputs": [],
   "source": []
  },
  {
   "cell_type": "code",
   "execution_count": null,
   "metadata": {
    "collapsed": true
   },
   "outputs": [],
   "source": []
  },
  {
   "cell_type": "code",
   "execution_count": null,
   "metadata": {
    "collapsed": true
   },
   "outputs": [],
   "source": []
  },
  {
   "cell_type": "code",
   "execution_count": null,
   "metadata": {
    "collapsed": true
   },
   "outputs": [],
   "source": []
  },
  {
   "cell_type": "code",
   "execution_count": null,
   "metadata": {
    "collapsed": true
   },
   "outputs": [],
   "source": []
  },
  {
   "cell_type": "code",
   "execution_count": null,
   "metadata": {
    "collapsed": true
   },
   "outputs": [],
   "source": []
  },
  {
   "cell_type": "code",
   "execution_count": null,
   "metadata": {
    "collapsed": true
   },
   "outputs": [],
   "source": []
  },
  {
   "cell_type": "code",
   "execution_count": null,
   "metadata": {
    "collapsed": true
   },
   "outputs": [],
   "source": []
  },
  {
   "cell_type": "code",
   "execution_count": null,
   "metadata": {
    "collapsed": true
   },
   "outputs": [],
   "source": []
  },
  {
   "cell_type": "code",
   "execution_count": null,
   "metadata": {
    "collapsed": true
   },
   "outputs": [],
   "source": []
  },
  {
   "cell_type": "code",
   "execution_count": null,
   "metadata": {
    "collapsed": true
   },
   "outputs": [],
   "source": []
  },
  {
   "cell_type": "code",
   "execution_count": null,
   "metadata": {
    "collapsed": true
   },
   "outputs": [],
   "source": []
  },
  {
   "cell_type": "code",
   "execution_count": null,
   "metadata": {
    "collapsed": true
   },
   "outputs": [],
   "source": []
  },
  {
   "cell_type": "code",
   "execution_count": null,
   "metadata": {
    "collapsed": true
   },
   "outputs": [],
   "source": []
  },
  {
   "cell_type": "code",
   "execution_count": null,
   "metadata": {
    "collapsed": true
   },
   "outputs": [],
   "source": []
  },
  {
   "cell_type": "code",
   "execution_count": null,
   "metadata": {
    "collapsed": true
   },
   "outputs": [],
   "source": []
  },
  {
   "cell_type": "code",
   "execution_count": null,
   "metadata": {
    "collapsed": true
   },
   "outputs": [],
   "source": []
  },
  {
   "cell_type": "code",
   "execution_count": null,
   "metadata": {
    "collapsed": true
   },
   "outputs": [],
   "source": []
  },
  {
   "cell_type": "code",
   "execution_count": null,
   "metadata": {
    "collapsed": true
   },
   "outputs": [],
   "source": []
  },
  {
   "cell_type": "code",
   "execution_count": null,
   "metadata": {
    "collapsed": true
   },
   "outputs": [],
   "source": []
  },
  {
   "cell_type": "code",
   "execution_count": null,
   "metadata": {
    "collapsed": true
   },
   "outputs": [],
   "source": []
  },
  {
   "cell_type": "code",
   "execution_count": null,
   "metadata": {
    "collapsed": true
   },
   "outputs": [],
   "source": []
  },
  {
   "cell_type": "code",
   "execution_count": null,
   "metadata": {
    "collapsed": true
   },
   "outputs": [],
   "source": []
  },
  {
   "cell_type": "code",
   "execution_count": null,
   "metadata": {
    "collapsed": true
   },
   "outputs": [],
   "source": []
  },
  {
   "cell_type": "code",
   "execution_count": null,
   "metadata": {
    "collapsed": true
   },
   "outputs": [],
   "source": []
  },
  {
   "cell_type": "code",
   "execution_count": null,
   "metadata": {
    "collapsed": true
   },
   "outputs": [],
   "source": []
  },
  {
   "cell_type": "code",
   "execution_count": null,
   "metadata": {
    "collapsed": true
   },
   "outputs": [],
   "source": []
  },
  {
   "cell_type": "code",
   "execution_count": null,
   "metadata": {
    "collapsed": true
   },
   "outputs": [],
   "source": []
  },
  {
   "cell_type": "code",
   "execution_count": null,
   "metadata": {
    "collapsed": true
   },
   "outputs": [],
   "source": []
  },
  {
   "cell_type": "code",
   "execution_count": null,
   "metadata": {
    "collapsed": true
   },
   "outputs": [],
   "source": []
  },
  {
   "cell_type": "code",
   "execution_count": null,
   "metadata": {
    "collapsed": true
   },
   "outputs": [],
   "source": []
  },
  {
   "cell_type": "code",
   "execution_count": null,
   "metadata": {
    "collapsed": true
   },
   "outputs": [],
   "source": []
  },
  {
   "cell_type": "code",
   "execution_count": null,
   "metadata": {
    "collapsed": true
   },
   "outputs": [],
   "source": []
  },
  {
   "cell_type": "code",
   "execution_count": null,
   "metadata": {
    "collapsed": true
   },
   "outputs": [],
   "source": []
  },
  {
   "cell_type": "code",
   "execution_count": null,
   "metadata": {
    "collapsed": true
   },
   "outputs": [],
   "source": []
  },
  {
   "cell_type": "code",
   "execution_count": null,
   "metadata": {
    "collapsed": true
   },
   "outputs": [],
   "source": []
  },
  {
   "cell_type": "code",
   "execution_count": 560,
   "metadata": {
    "collapsed": false
   },
   "outputs": [],
   "source": [
    "# for trial in range(1):\n",
    "#     coal_tree, generation_sizes, coal_lengths = \\\n",
    "#         simulate_snp_tree_w_exp(sample_size, theta, population_size, alpha, region)\n",
    "#     snp_array, _ = simulate_snp_array_w_exp(sample_size, coal_tree)\n",
    "#     snp_df = pd.DataFrame(snp_array)\n",
    "\n",
    "# #     allele_frequencies = [0] * len(snp_array[0])\n",
    "# #     for site in range(len(snp_array[0])):\n",
    "# #         for idv in range(len(snp_array)):\n",
    "# #             if snp_array[idv][site] == 1:\n",
    "# #                 allele_frequencies[site]  += 1\n"
   ]
  },
  {
   "cell_type": "code",
   "execution_count": null,
   "metadata": {
    "collapsed": false
   },
   "outputs": [
    {
     "ename": "KeyboardInterrupt",
     "evalue": "",
     "output_type": "error",
     "traceback": [
      "\u001b[1;31m---------------------------------------------------------------------------\u001b[0m",
      "\u001b[1;31mKeyboardInterrupt\u001b[0m                         Traceback (most recent call last)",
      "\u001b[1;32m<ipython-input-20-925c48ddb7e5>\u001b[0m in \u001b[0;36m<module>\u001b[1;34m()\u001b[0m\n\u001b[0;32m      1\u001b[0m \u001b[0msns\u001b[0m\u001b[1;33m.\u001b[0m\u001b[0mset_style\u001b[0m\u001b[1;33m(\u001b[0m\u001b[1;34m'whitegrid'\u001b[0m\u001b[1;33m)\u001b[0m\u001b[1;33m\u001b[0m\u001b[0m\n\u001b[0;32m      2\u001b[0m \u001b[0mfig\u001b[0m \u001b[1;33m=\u001b[0m \u001b[0mplt\u001b[0m\u001b[1;33m.\u001b[0m\u001b[0mfigure\u001b[0m\u001b[1;33m(\u001b[0m\u001b[0mfigsize\u001b[0m\u001b[1;33m=\u001b[0m\u001b[1;33m(\u001b[0m\u001b[1;36m8\u001b[0m\u001b[1;33m,\u001b[0m\u001b[1;36m8\u001b[0m\u001b[1;33m)\u001b[0m\u001b[1;33m)\u001b[0m\u001b[1;33m\u001b[0m\u001b[0m\n\u001b[1;32m----> 3\u001b[1;33m \u001b[0max\u001b[0m \u001b[1;33m=\u001b[0m \u001b[0msns\u001b[0m\u001b[1;33m.\u001b[0m\u001b[0mbarplot\u001b[0m\u001b[1;33m(\u001b[0m\u001b[0mallele_spectrum\u001b[0m\u001b[1;33m.\u001b[0m\u001b[0mindex\u001b[0m\u001b[1;33m[\u001b[0m\u001b[1;33m:\u001b[0m\u001b[1;33m]\u001b[0m\u001b[1;33m,\u001b[0m \u001b[0mallele_spectrum\u001b[0m\u001b[1;33m.\u001b[0m\u001b[0mvalues\u001b[0m\u001b[1;33m[\u001b[0m\u001b[1;33m:\u001b[0m\u001b[1;33m]\u001b[0m\u001b[1;33m,\u001b[0m \u001b[0mcolor\u001b[0m\u001b[1;33m=\u001b[0m\u001b[1;34m'blue'\u001b[0m\u001b[1;33m)\u001b[0m\u001b[1;31m#, kde=False, hist=True, bins=None)\u001b[0m\u001b[1;33m\u001b[0m\u001b[0m\n\u001b[0m\u001b[0;32m      4\u001b[0m \u001b[0max\u001b[0m\u001b[1;33m.\u001b[0m\u001b[0mset_title\u001b[0m\u001b[1;33m(\u001b[0m\u001b[1;34m'Allele spectrum for 100 simuations'\u001b[0m\u001b[1;33m)\u001b[0m\u001b[1;33m\u001b[0m\u001b[0m\n\u001b[0;32m      5\u001b[0m \u001b[0mfig\u001b[0m\u001b[1;33m.\u001b[0m\u001b[0mtight_layout\u001b[0m\u001b[1;33m(\u001b[0m\u001b[1;33m)\u001b[0m\u001b[1;33m\u001b[0m\u001b[0m\n",
      "\u001b[1;32m/frazer01/home/joreyna/anaconda2/envs/cie/lib/python2.7/site-packages/seaborn/categorical.pyc\u001b[0m in \u001b[0;36mbarplot\u001b[1;34m(x, y, hue, data, order, hue_order, estimator, ci, n_boot, units, orient, color, palette, saturation, errcolor, ax, **kwargs)\u001b[0m\n\u001b[0;32m   2856\u001b[0m         \u001b[0max\u001b[0m \u001b[1;33m=\u001b[0m \u001b[0mplt\u001b[0m\u001b[1;33m.\u001b[0m\u001b[0mgca\u001b[0m\u001b[1;33m(\u001b[0m\u001b[1;33m)\u001b[0m\u001b[1;33m\u001b[0m\u001b[0m\n\u001b[0;32m   2857\u001b[0m \u001b[1;33m\u001b[0m\u001b[0m\n\u001b[1;32m-> 2858\u001b[1;33m     \u001b[0mplotter\u001b[0m\u001b[1;33m.\u001b[0m\u001b[0mplot\u001b[0m\u001b[1;33m(\u001b[0m\u001b[0max\u001b[0m\u001b[1;33m,\u001b[0m \u001b[0mkwargs\u001b[0m\u001b[1;33m)\u001b[0m\u001b[1;33m\u001b[0m\u001b[0m\n\u001b[0m\u001b[0;32m   2859\u001b[0m     \u001b[1;32mreturn\u001b[0m \u001b[0max\u001b[0m\u001b[1;33m\u001b[0m\u001b[0m\n\u001b[0;32m   2860\u001b[0m \u001b[1;33m\u001b[0m\u001b[0m\n",
      "\u001b[1;32m/frazer01/home/joreyna/anaconda2/envs/cie/lib/python2.7/site-packages/seaborn/categorical.pyc\u001b[0m in \u001b[0;36mplot\u001b[1;34m(self, ax, bar_kws)\u001b[0m\n\u001b[0;32m   1559\u001b[0m     \u001b[1;32mdef\u001b[0m \u001b[0mplot\u001b[0m\u001b[1;33m(\u001b[0m\u001b[0mself\u001b[0m\u001b[1;33m,\u001b[0m \u001b[0max\u001b[0m\u001b[1;33m,\u001b[0m \u001b[0mbar_kws\u001b[0m\u001b[1;33m)\u001b[0m\u001b[1;33m:\u001b[0m\u001b[1;33m\u001b[0m\u001b[0m\n\u001b[0;32m   1560\u001b[0m         \u001b[1;34m\"\"\"Make the plot.\"\"\"\u001b[0m\u001b[1;33m\u001b[0m\u001b[0m\n\u001b[1;32m-> 1561\u001b[1;33m         \u001b[0mself\u001b[0m\u001b[1;33m.\u001b[0m\u001b[0mdraw_bars\u001b[0m\u001b[1;33m(\u001b[0m\u001b[0max\u001b[0m\u001b[1;33m,\u001b[0m \u001b[0mbar_kws\u001b[0m\u001b[1;33m)\u001b[0m\u001b[1;33m\u001b[0m\u001b[0m\n\u001b[0m\u001b[0;32m   1562\u001b[0m         \u001b[0mself\u001b[0m\u001b[1;33m.\u001b[0m\u001b[0mannotate_axes\u001b[0m\u001b[1;33m(\u001b[0m\u001b[0max\u001b[0m\u001b[1;33m)\u001b[0m\u001b[1;33m\u001b[0m\u001b[0m\n\u001b[0;32m   1563\u001b[0m         \u001b[1;32mif\u001b[0m \u001b[0mself\u001b[0m\u001b[1;33m.\u001b[0m\u001b[0morient\u001b[0m \u001b[1;33m==\u001b[0m \u001b[1;34m\"h\"\u001b[0m\u001b[1;33m:\u001b[0m\u001b[1;33m\u001b[0m\u001b[0m\n",
      "\u001b[1;32m/frazer01/home/joreyna/anaconda2/envs/cie/lib/python2.7/site-packages/seaborn/categorical.pyc\u001b[0m in \u001b[0;36mdraw_bars\u001b[1;34m(self, ax, kws)\u001b[0m\n\u001b[0;32m   1539\u001b[0m             \u001b[1;31m# Draw the confidence intervals\u001b[0m\u001b[1;33m\u001b[0m\u001b[1;33m\u001b[0m\u001b[0m\n\u001b[0;32m   1540\u001b[0m             \u001b[0merrcolors\u001b[0m \u001b[1;33m=\u001b[0m \u001b[1;33m[\u001b[0m\u001b[0mself\u001b[0m\u001b[1;33m.\u001b[0m\u001b[0merrcolor\u001b[0m\u001b[1;33m]\u001b[0m \u001b[1;33m*\u001b[0m \u001b[0mlen\u001b[0m\u001b[1;33m(\u001b[0m\u001b[0mbarpos\u001b[0m\u001b[1;33m)\u001b[0m\u001b[1;33m\u001b[0m\u001b[0m\n\u001b[1;32m-> 1541\u001b[1;33m             \u001b[0mself\u001b[0m\u001b[1;33m.\u001b[0m\u001b[0mdraw_confints\u001b[0m\u001b[1;33m(\u001b[0m\u001b[0max\u001b[0m\u001b[1;33m,\u001b[0m \u001b[0mbarpos\u001b[0m\u001b[1;33m,\u001b[0m \u001b[0mself\u001b[0m\u001b[1;33m.\u001b[0m\u001b[0mconfint\u001b[0m\u001b[1;33m,\u001b[0m \u001b[0merrcolors\u001b[0m\u001b[1;33m)\u001b[0m\u001b[1;33m\u001b[0m\u001b[0m\n\u001b[0m\u001b[0;32m   1542\u001b[0m \u001b[1;33m\u001b[0m\u001b[0m\n\u001b[0;32m   1543\u001b[0m         \u001b[1;32melse\u001b[0m\u001b[1;33m:\u001b[0m\u001b[1;33m\u001b[0m\u001b[0m\n",
      "\u001b[1;32m/frazer01/home/joreyna/anaconda2/envs/cie/lib/python2.7/site-packages/seaborn/categorical.pyc\u001b[0m in \u001b[0;36mdraw_confints\u001b[1;34m(self, ax, at_group, confint, colors, **kws)\u001b[0m\n\u001b[0;32m   1507\u001b[0m                                                 colors):\n\u001b[0;32m   1508\u001b[0m             \u001b[1;32mif\u001b[0m \u001b[0mself\u001b[0m\u001b[1;33m.\u001b[0m\u001b[0morient\u001b[0m \u001b[1;33m==\u001b[0m \u001b[1;34m\"v\"\u001b[0m\u001b[1;33m:\u001b[0m\u001b[1;33m\u001b[0m\u001b[0m\n\u001b[1;32m-> 1509\u001b[1;33m                 \u001b[0max\u001b[0m\u001b[1;33m.\u001b[0m\u001b[0mplot\u001b[0m\u001b[1;33m(\u001b[0m\u001b[1;33m[\u001b[0m\u001b[0mat\u001b[0m\u001b[1;33m,\u001b[0m \u001b[0mat\u001b[0m\u001b[1;33m]\u001b[0m\u001b[1;33m,\u001b[0m \u001b[1;33m[\u001b[0m\u001b[0mci_low\u001b[0m\u001b[1;33m,\u001b[0m \u001b[0mci_high\u001b[0m\u001b[1;33m]\u001b[0m\u001b[1;33m,\u001b[0m \u001b[0mcolor\u001b[0m\u001b[1;33m=\u001b[0m\u001b[0mcolor\u001b[0m\u001b[1;33m,\u001b[0m \u001b[1;33m**\u001b[0m\u001b[0mkws\u001b[0m\u001b[1;33m)\u001b[0m\u001b[1;33m\u001b[0m\u001b[0m\n\u001b[0m\u001b[0;32m   1510\u001b[0m             \u001b[1;32melse\u001b[0m\u001b[1;33m:\u001b[0m\u001b[1;33m\u001b[0m\u001b[0m\n\u001b[0;32m   1511\u001b[0m                 \u001b[0max\u001b[0m\u001b[1;33m.\u001b[0m\u001b[0mplot\u001b[0m\u001b[1;33m(\u001b[0m\u001b[1;33m[\u001b[0m\u001b[0mci_low\u001b[0m\u001b[1;33m,\u001b[0m \u001b[0mci_high\u001b[0m\u001b[1;33m]\u001b[0m\u001b[1;33m,\u001b[0m \u001b[1;33m[\u001b[0m\u001b[0mat\u001b[0m\u001b[1;33m,\u001b[0m \u001b[0mat\u001b[0m\u001b[1;33m]\u001b[0m\u001b[1;33m,\u001b[0m \u001b[0mcolor\u001b[0m\u001b[1;33m=\u001b[0m\u001b[0mcolor\u001b[0m\u001b[1;33m,\u001b[0m \u001b[1;33m**\u001b[0m\u001b[0mkws\u001b[0m\u001b[1;33m)\u001b[0m\u001b[1;33m\u001b[0m\u001b[0m\n",
      "\u001b[1;32m/frazer01/home/joreyna/anaconda2/envs/cie/lib/python2.7/site-packages/matplotlib/__init__.pyc\u001b[0m in \u001b[0;36minner\u001b[1;34m(ax, *args, **kwargs)\u001b[0m\n\u001b[0;32m   1810\u001b[0m                     warnings.warn(msg % (label_namer, func.__name__),\n\u001b[0;32m   1811\u001b[0m                                   RuntimeWarning, stacklevel=2)\n\u001b[1;32m-> 1812\u001b[1;33m             \u001b[1;32mreturn\u001b[0m \u001b[0mfunc\u001b[0m\u001b[1;33m(\u001b[0m\u001b[0max\u001b[0m\u001b[1;33m,\u001b[0m \u001b[1;33m*\u001b[0m\u001b[0margs\u001b[0m\u001b[1;33m,\u001b[0m \u001b[1;33m**\u001b[0m\u001b[0mkwargs\u001b[0m\u001b[1;33m)\u001b[0m\u001b[1;33m\u001b[0m\u001b[0m\n\u001b[0m\u001b[0;32m   1813\u001b[0m         \u001b[0mpre_doc\u001b[0m \u001b[1;33m=\u001b[0m \u001b[0minner\u001b[0m\u001b[1;33m.\u001b[0m\u001b[0m__doc__\u001b[0m\u001b[1;33m\u001b[0m\u001b[0m\n\u001b[0;32m   1814\u001b[0m         \u001b[1;32mif\u001b[0m \u001b[0mpre_doc\u001b[0m \u001b[1;32mis\u001b[0m \u001b[0mNone\u001b[0m\u001b[1;33m:\u001b[0m\u001b[1;33m\u001b[0m\u001b[0m\n",
      "\u001b[1;32m/frazer01/home/joreyna/anaconda2/envs/cie/lib/python2.7/site-packages/matplotlib/axes/_axes.pyc\u001b[0m in \u001b[0;36mplot\u001b[1;34m(self, *args, **kwargs)\u001b[0m\n\u001b[0;32m   1423\u001b[0m \u001b[1;33m\u001b[0m\u001b[0m\n\u001b[0;32m   1424\u001b[0m         \u001b[1;32mfor\u001b[0m \u001b[0mline\u001b[0m \u001b[1;32min\u001b[0m \u001b[0mself\u001b[0m\u001b[1;33m.\u001b[0m\u001b[0m_get_lines\u001b[0m\u001b[1;33m(\u001b[0m\u001b[1;33m*\u001b[0m\u001b[0margs\u001b[0m\u001b[1;33m,\u001b[0m \u001b[1;33m**\u001b[0m\u001b[0mkwargs\u001b[0m\u001b[1;33m)\u001b[0m\u001b[1;33m:\u001b[0m\u001b[1;33m\u001b[0m\u001b[0m\n\u001b[1;32m-> 1425\u001b[1;33m             \u001b[0mself\u001b[0m\u001b[1;33m.\u001b[0m\u001b[0madd_line\u001b[0m\u001b[1;33m(\u001b[0m\u001b[0mline\u001b[0m\u001b[1;33m)\u001b[0m\u001b[1;33m\u001b[0m\u001b[0m\n\u001b[0m\u001b[0;32m   1426\u001b[0m             \u001b[0mlines\u001b[0m\u001b[1;33m.\u001b[0m\u001b[0mappend\u001b[0m\u001b[1;33m(\u001b[0m\u001b[0mline\u001b[0m\u001b[1;33m)\u001b[0m\u001b[1;33m\u001b[0m\u001b[0m\n\u001b[0;32m   1427\u001b[0m \u001b[1;33m\u001b[0m\u001b[0m\n",
      "\u001b[1;32m/frazer01/home/joreyna/anaconda2/envs/cie/lib/python2.7/site-packages/matplotlib/axes/_base.pyc\u001b[0m in \u001b[0;36madd_line\u001b[1;34m(self, line)\u001b[0m\n\u001b[0;32m   1704\u001b[0m         \u001b[0mself\u001b[0m\u001b[1;33m.\u001b[0m\u001b[0m_set_artist_props\u001b[0m\u001b[1;33m(\u001b[0m\u001b[0mline\u001b[0m\u001b[1;33m)\u001b[0m\u001b[1;33m\u001b[0m\u001b[0m\n\u001b[0;32m   1705\u001b[0m         \u001b[1;32mif\u001b[0m \u001b[0mline\u001b[0m\u001b[1;33m.\u001b[0m\u001b[0mget_clip_path\u001b[0m\u001b[1;33m(\u001b[0m\u001b[1;33m)\u001b[0m \u001b[1;32mis\u001b[0m \u001b[0mNone\u001b[0m\u001b[1;33m:\u001b[0m\u001b[1;33m\u001b[0m\u001b[0m\n\u001b[1;32m-> 1706\u001b[1;33m             \u001b[0mline\u001b[0m\u001b[1;33m.\u001b[0m\u001b[0mset_clip_path\u001b[0m\u001b[1;33m(\u001b[0m\u001b[0mself\u001b[0m\u001b[1;33m.\u001b[0m\u001b[0mpatch\u001b[0m\u001b[1;33m)\u001b[0m\u001b[1;33m\u001b[0m\u001b[0m\n\u001b[0m\u001b[0;32m   1707\u001b[0m \u001b[1;33m\u001b[0m\u001b[0m\n\u001b[0;32m   1708\u001b[0m         \u001b[0mself\u001b[0m\u001b[1;33m.\u001b[0m\u001b[0m_update_line_limits\u001b[0m\u001b[1;33m(\u001b[0m\u001b[0mline\u001b[0m\u001b[1;33m)\u001b[0m\u001b[1;33m\u001b[0m\u001b[0m\n",
      "\u001b[1;32m/frazer01/home/joreyna/anaconda2/envs/cie/lib/python2.7/site-packages/matplotlib/artist.pyc\u001b[0m in \u001b[0;36mset_clip_path\u001b[1;34m(self, path, transform)\u001b[0m\n\u001b[0;32m    682\u001b[0m             \u001b[1;32mif\u001b[0m \u001b[0misinstance\u001b[0m\u001b[1;33m(\u001b[0m\u001b[0mpath\u001b[0m\u001b[1;33m,\u001b[0m \u001b[0mRectangle\u001b[0m\u001b[1;33m)\u001b[0m\u001b[1;33m:\u001b[0m\u001b[1;33m\u001b[0m\u001b[0m\n\u001b[0;32m    683\u001b[0m                 self.clipbox = TransformedBbox(Bbox.unit(),\n\u001b[1;32m--> 684\u001b[1;33m                                                path.get_transform())\n\u001b[0m\u001b[0;32m    685\u001b[0m                 \u001b[0mself\u001b[0m\u001b[1;33m.\u001b[0m\u001b[0m_clippath\u001b[0m \u001b[1;33m=\u001b[0m \u001b[0mNone\u001b[0m\u001b[1;33m\u001b[0m\u001b[0m\n\u001b[0;32m    686\u001b[0m                 \u001b[0msuccess\u001b[0m \u001b[1;33m=\u001b[0m \u001b[0mTrue\u001b[0m\u001b[1;33m\u001b[0m\u001b[0m\n",
      "\u001b[1;32m/frazer01/home/joreyna/anaconda2/envs/cie/lib/python2.7/site-packages/matplotlib/patches.pyc\u001b[0m in \u001b[0;36mget_transform\u001b[1;34m(self)\u001b[0m\n\u001b[0;32m    195\u001b[0m         \u001b[0mto\u001b[0m \u001b[0mthe\u001b[0m \u001b[1;33m:\u001b[0m\u001b[1;32mclass\u001b[0m\u001b[1;33m:\u001b[0m\u001b[1;33m`\u001b[0m\u001b[0mPatch\u001b[0m\u001b[1;33m`\u001b[0m\u001b[1;33m.\u001b[0m\u001b[1;33m\u001b[0m\u001b[0m\n\u001b[0;32m    196\u001b[0m         \"\"\"\n\u001b[1;32m--> 197\u001b[1;33m         \u001b[1;32mreturn\u001b[0m \u001b[0mself\u001b[0m\u001b[1;33m.\u001b[0m\u001b[0mget_patch_transform\u001b[0m\u001b[1;33m(\u001b[0m\u001b[1;33m)\u001b[0m \u001b[1;33m+\u001b[0m \u001b[0martist\u001b[0m\u001b[1;33m.\u001b[0m\u001b[0mArtist\u001b[0m\u001b[1;33m.\u001b[0m\u001b[0mget_transform\u001b[0m\u001b[1;33m(\u001b[0m\u001b[0mself\u001b[0m\u001b[1;33m)\u001b[0m\u001b[1;33m\u001b[0m\u001b[0m\n\u001b[0m\u001b[0;32m    198\u001b[0m \u001b[1;33m\u001b[0m\u001b[0m\n\u001b[0;32m    199\u001b[0m     \u001b[1;32mdef\u001b[0m \u001b[0mget_data_transform\u001b[0m\u001b[1;33m(\u001b[0m\u001b[0mself\u001b[0m\u001b[1;33m)\u001b[0m\u001b[1;33m:\u001b[0m\u001b[1;33m\u001b[0m\u001b[0m\n",
      "\u001b[1;32m/frazer01/home/joreyna/anaconda2/envs/cie/lib/python2.7/site-packages/matplotlib/patches.pyc\u001b[0m in \u001b[0;36mget_patch_transform\u001b[1;34m(self)\u001b[0m\n\u001b[0;32m    670\u001b[0m \u001b[1;33m\u001b[0m\u001b[0m\n\u001b[0;32m    671\u001b[0m     \u001b[1;32mdef\u001b[0m \u001b[0mget_patch_transform\u001b[0m\u001b[1;33m(\u001b[0m\u001b[0mself\u001b[0m\u001b[1;33m)\u001b[0m\u001b[1;33m:\u001b[0m\u001b[1;33m\u001b[0m\u001b[0m\n\u001b[1;32m--> 672\u001b[1;33m         \u001b[0mself\u001b[0m\u001b[1;33m.\u001b[0m\u001b[0m_update_patch_transform\u001b[0m\u001b[1;33m(\u001b[0m\u001b[1;33m)\u001b[0m\u001b[1;33m\u001b[0m\u001b[0m\n\u001b[0m\u001b[0;32m    673\u001b[0m         \u001b[1;32mreturn\u001b[0m \u001b[0mself\u001b[0m\u001b[1;33m.\u001b[0m\u001b[0m_rect_transform\u001b[0m\u001b[1;33m\u001b[0m\u001b[0m\n\u001b[0;32m    674\u001b[0m \u001b[1;33m\u001b[0m\u001b[0m\n",
      "\u001b[1;32m/frazer01/home/joreyna/anaconda2/envs/cie/lib/python2.7/site-packages/matplotlib/patches.pyc\u001b[0m in \u001b[0;36m_update_patch_transform\u001b[1;34m(self)\u001b[0m\n\u001b[0;32m    667\u001b[0m         \u001b[0mrot_trans\u001b[0m\u001b[1;33m.\u001b[0m\u001b[0mrotate_deg_around\u001b[0m\u001b[1;33m(\u001b[0m\u001b[0mx\u001b[0m\u001b[1;33m,\u001b[0m \u001b[0my\u001b[0m\u001b[1;33m,\u001b[0m \u001b[0mself\u001b[0m\u001b[1;33m.\u001b[0m\u001b[0m_angle\u001b[0m\u001b[1;33m)\u001b[0m\u001b[1;33m\u001b[0m\u001b[0m\n\u001b[0;32m    668\u001b[0m         \u001b[0mself\u001b[0m\u001b[1;33m.\u001b[0m\u001b[0m_rect_transform\u001b[0m \u001b[1;33m=\u001b[0m \u001b[0mtransforms\u001b[0m\u001b[1;33m.\u001b[0m\u001b[0mBboxTransformTo\u001b[0m\u001b[1;33m(\u001b[0m\u001b[0mbbox\u001b[0m\u001b[1;33m)\u001b[0m\u001b[1;33m\u001b[0m\u001b[0m\n\u001b[1;32m--> 669\u001b[1;33m         \u001b[0mself\u001b[0m\u001b[1;33m.\u001b[0m\u001b[0m_rect_transform\u001b[0m \u001b[1;33m+=\u001b[0m \u001b[0mrot_trans\u001b[0m\u001b[1;33m\u001b[0m\u001b[0m\n\u001b[0m\u001b[0;32m    670\u001b[0m \u001b[1;33m\u001b[0m\u001b[0m\n\u001b[0;32m    671\u001b[0m     \u001b[1;32mdef\u001b[0m \u001b[0mget_patch_transform\u001b[0m\u001b[1;33m(\u001b[0m\u001b[0mself\u001b[0m\u001b[1;33m)\u001b[0m\u001b[1;33m:\u001b[0m\u001b[1;33m\u001b[0m\u001b[0m\n",
      "\u001b[1;32m/frazer01/home/joreyna/anaconda2/envs/cie/lib/python2.7/site-packages/matplotlib/transforms.pyc\u001b[0m in \u001b[0;36m__add__\u001b[1;34m(self, other)\u001b[0m\n\u001b[0;32m   1155\u001b[0m         \"\"\"\n\u001b[0;32m   1156\u001b[0m         \u001b[1;32mif\u001b[0m \u001b[0misinstance\u001b[0m\u001b[1;33m(\u001b[0m\u001b[0mother\u001b[0m\u001b[1;33m,\u001b[0m \u001b[0mTransform\u001b[0m\u001b[1;33m)\u001b[0m\u001b[1;33m:\u001b[0m\u001b[1;33m\u001b[0m\u001b[0m\n\u001b[1;32m-> 1157\u001b[1;33m             \u001b[1;32mreturn\u001b[0m \u001b[0mcomposite_transform_factory\u001b[0m\u001b[1;33m(\u001b[0m\u001b[0mself\u001b[0m\u001b[1;33m,\u001b[0m \u001b[0mother\u001b[0m\u001b[1;33m)\u001b[0m\u001b[1;33m\u001b[0m\u001b[0m\n\u001b[0m\u001b[0;32m   1158\u001b[0m         raise TypeError(\n\u001b[0;32m   1159\u001b[0m             \"Can not add Transform to object of type '%s'\" % type(other))\n",
      "\u001b[1;32m/frazer01/home/joreyna/anaconda2/envs/cie/lib/python2.7/site-packages/matplotlib/transforms.pyc\u001b[0m in \u001b[0;36mcomposite_transform_factory\u001b[1;34m(a, b)\u001b[0m\n\u001b[0;32m   2471\u001b[0m     \u001b[1;32melif\u001b[0m \u001b[0misinstance\u001b[0m\u001b[1;33m(\u001b[0m\u001b[0ma\u001b[0m\u001b[1;33m,\u001b[0m \u001b[0mAffine2D\u001b[0m\u001b[1;33m)\u001b[0m \u001b[1;32mand\u001b[0m \u001b[0misinstance\u001b[0m\u001b[1;33m(\u001b[0m\u001b[0mb\u001b[0m\u001b[1;33m,\u001b[0m \u001b[0mAffine2D\u001b[0m\u001b[1;33m)\u001b[0m\u001b[1;33m:\u001b[0m\u001b[1;33m\u001b[0m\u001b[0m\n\u001b[0;32m   2472\u001b[0m         \u001b[1;32mreturn\u001b[0m \u001b[0mCompositeAffine2D\u001b[0m\u001b[1;33m(\u001b[0m\u001b[0ma\u001b[0m\u001b[1;33m,\u001b[0m \u001b[0mb\u001b[0m\u001b[1;33m)\u001b[0m\u001b[1;33m\u001b[0m\u001b[0m\n\u001b[1;32m-> 2473\u001b[1;33m     \u001b[1;32mreturn\u001b[0m \u001b[0mCompositeGenericTransform\u001b[0m\u001b[1;33m(\u001b[0m\u001b[0ma\u001b[0m\u001b[1;33m,\u001b[0m \u001b[0mb\u001b[0m\u001b[1;33m)\u001b[0m\u001b[1;33m\u001b[0m\u001b[0m\n\u001b[0m\u001b[0;32m   2474\u001b[0m \u001b[1;33m\u001b[0m\u001b[0m\n\u001b[0;32m   2475\u001b[0m \u001b[1;33m\u001b[0m\u001b[0m\n",
      "\u001b[1;32m/frazer01/home/joreyna/anaconda2/envs/cie/lib/python2.7/site-packages/matplotlib/transforms.pyc\u001b[0m in \u001b[0;36m__init__\u001b[1;34m(self, a, b, **kwargs)\u001b[0m\n\u001b[0;32m   2286\u001b[0m         \u001b[0mself\u001b[0m\u001b[1;33m.\u001b[0m\u001b[0m_a\u001b[0m \u001b[1;33m=\u001b[0m \u001b[0ma\u001b[0m\u001b[1;33m\u001b[0m\u001b[0m\n\u001b[0;32m   2287\u001b[0m         \u001b[0mself\u001b[0m\u001b[1;33m.\u001b[0m\u001b[0m_b\u001b[0m \u001b[1;33m=\u001b[0m \u001b[0mb\u001b[0m\u001b[1;33m\u001b[0m\u001b[0m\n\u001b[1;32m-> 2288\u001b[1;33m         \u001b[0mself\u001b[0m\u001b[1;33m.\u001b[0m\u001b[0mset_children\u001b[0m\u001b[1;33m(\u001b[0m\u001b[0ma\u001b[0m\u001b[1;33m,\u001b[0m \u001b[0mb\u001b[0m\u001b[1;33m)\u001b[0m\u001b[1;33m\u001b[0m\u001b[0m\n\u001b[0m\u001b[0;32m   2289\u001b[0m \u001b[1;33m\u001b[0m\u001b[0m\n\u001b[0;32m   2290\u001b[0m     \u001b[0mis_affine\u001b[0m \u001b[1;33m=\u001b[0m \u001b[0mproperty\u001b[0m\u001b[1;33m(\u001b[0m\u001b[1;32mlambda\u001b[0m \u001b[0mself\u001b[0m\u001b[1;33m:\u001b[0m \u001b[0mself\u001b[0m\u001b[1;33m.\u001b[0m\u001b[0m_a\u001b[0m\u001b[1;33m.\u001b[0m\u001b[0mis_affine\u001b[0m \u001b[1;32mand\u001b[0m \u001b[0mself\u001b[0m\u001b[1;33m.\u001b[0m\u001b[0m_b\u001b[0m\u001b[1;33m.\u001b[0m\u001b[0mis_affine\u001b[0m\u001b[1;33m)\u001b[0m\u001b[1;33m\u001b[0m\u001b[0m\n",
      "\u001b[1;32m/frazer01/home/joreyna/anaconda2/envs/cie/lib/python2.7/site-packages/matplotlib/transforms.pyc\u001b[0m in \u001b[0;36mset_children\u001b[1;34m(self, *children)\u001b[0m\n\u001b[0;32m    168\u001b[0m         \"\"\"\n\u001b[0;32m    169\u001b[0m         \u001b[1;32mfor\u001b[0m \u001b[0mchild\u001b[0m \u001b[1;32min\u001b[0m \u001b[0mchildren\u001b[0m\u001b[1;33m:\u001b[0m\u001b[1;33m\u001b[0m\u001b[0m\n\u001b[1;32m--> 170\u001b[1;33m             \u001b[0mchild\u001b[0m\u001b[1;33m.\u001b[0m\u001b[0m_parents\u001b[0m\u001b[1;33m[\u001b[0m\u001b[0mid\u001b[0m\u001b[1;33m(\u001b[0m\u001b[0mself\u001b[0m\u001b[1;33m)\u001b[0m\u001b[1;33m]\u001b[0m \u001b[1;33m=\u001b[0m \u001b[0mself\u001b[0m\u001b[1;33m\u001b[0m\u001b[0m\n\u001b[0m\u001b[0;32m    171\u001b[0m \u001b[1;33m\u001b[0m\u001b[0m\n\u001b[0;32m    172\u001b[0m     \u001b[1;32mif\u001b[0m \u001b[0mDEBUG\u001b[0m\u001b[1;33m:\u001b[0m\u001b[1;33m\u001b[0m\u001b[0m\n",
      "\u001b[1;32m/frazer01/home/joreyna/anaconda2/envs/cie/lib/python2.7/weakref.pyc\u001b[0m in \u001b[0;36m__setitem__\u001b[1;34m(self, key, value)\u001b[0m\n\u001b[0;32m    106\u001b[0m         \u001b[1;32mif\u001b[0m \u001b[0mself\u001b[0m\u001b[1;33m.\u001b[0m\u001b[0m_pending_removals\u001b[0m\u001b[1;33m:\u001b[0m\u001b[1;33m\u001b[0m\u001b[0m\n\u001b[0;32m    107\u001b[0m             \u001b[0mself\u001b[0m\u001b[1;33m.\u001b[0m\u001b[0m_commit_removals\u001b[0m\u001b[1;33m(\u001b[0m\u001b[1;33m)\u001b[0m\u001b[1;33m\u001b[0m\u001b[0m\n\u001b[1;32m--> 108\u001b[1;33m         \u001b[0mself\u001b[0m\u001b[1;33m.\u001b[0m\u001b[0mdata\u001b[0m\u001b[1;33m[\u001b[0m\u001b[0mkey\u001b[0m\u001b[1;33m]\u001b[0m \u001b[1;33m=\u001b[0m \u001b[0mKeyedRef\u001b[0m\u001b[1;33m(\u001b[0m\u001b[0mvalue\u001b[0m\u001b[1;33m,\u001b[0m \u001b[0mself\u001b[0m\u001b[1;33m.\u001b[0m\u001b[0m_remove\u001b[0m\u001b[1;33m,\u001b[0m \u001b[0mkey\u001b[0m\u001b[1;33m)\u001b[0m\u001b[1;33m\u001b[0m\u001b[0m\n\u001b[0m\u001b[0;32m    109\u001b[0m \u001b[1;33m\u001b[0m\u001b[0m\n\u001b[0;32m    110\u001b[0m     \u001b[1;32mdef\u001b[0m \u001b[0mclear\u001b[0m\u001b[1;33m(\u001b[0m\u001b[0mself\u001b[0m\u001b[1;33m)\u001b[0m\u001b[1;33m:\u001b[0m\u001b[1;33m\u001b[0m\u001b[0m\n",
      "\u001b[1;32m/frazer01/home/joreyna/anaconda2/envs/cie/lib/python2.7/weakref.pyc\u001b[0m in \u001b[0;36m__init__\u001b[1;34m(self, ob, callback, key)\u001b[0m\n\u001b[0;32m    281\u001b[0m \u001b[1;33m\u001b[0m\u001b[0m\n\u001b[0;32m    282\u001b[0m     \u001b[1;32mdef\u001b[0m \u001b[0m__init__\u001b[0m\u001b[1;33m(\u001b[0m\u001b[0mself\u001b[0m\u001b[1;33m,\u001b[0m \u001b[0mob\u001b[0m\u001b[1;33m,\u001b[0m \u001b[0mcallback\u001b[0m\u001b[1;33m,\u001b[0m \u001b[0mkey\u001b[0m\u001b[1;33m)\u001b[0m\u001b[1;33m:\u001b[0m\u001b[1;33m\u001b[0m\u001b[0m\n\u001b[1;32m--> 283\u001b[1;33m         \u001b[0msuper\u001b[0m\u001b[1;33m(\u001b[0m\u001b[0mKeyedRef\u001b[0m\u001b[1;33m,\u001b[0m  \u001b[0mself\u001b[0m\u001b[1;33m)\u001b[0m\u001b[1;33m.\u001b[0m\u001b[0m__init__\u001b[0m\u001b[1;33m(\u001b[0m\u001b[0mob\u001b[0m\u001b[1;33m,\u001b[0m \u001b[0mcallback\u001b[0m\u001b[1;33m)\u001b[0m\u001b[1;33m\u001b[0m\u001b[0m\n\u001b[0m\u001b[0;32m    284\u001b[0m \u001b[1;33m\u001b[0m\u001b[0m\n\u001b[0;32m    285\u001b[0m \u001b[1;33m\u001b[0m\u001b[0m\n",
      "\u001b[1;31mKeyboardInterrupt\u001b[0m: "
     ]
    }
   ],
   "source": [
    "sns.set_style('whitegrid')\n",
    "fig = plt.figure(figsize=(8,8))\n",
    "ax = sns.barplot(allele_spectrum.index, allele_spectrum.values, color='blue')\n",
    "ax.set_title('Allele spectrum for 100 simuations')\n",
    "fig.tight_layout()"
   ]
  },
  {
   "cell_type": "markdown",
   "metadata": {},
   "source": [
    "### Making a input files for HaploView\n",
    "\n",
    "ped = pd.DataFrame(data)\n",
    "ped.columns = ['site{}'.format(x + 1) for x in range(len(data[0]))]\n",
    "\n",
    "# Adding one to each column to represent PED values.\n",
    "for x in range(len(data[0])):\n",
    "    ped['site{}'.format(x + 1)] = ped['site{}'.format(x + 1)].apply(lambda y: y + 1)\n",
    "        \n",
    "\n",
    "# Adding an additional column for each marker. A PED requirement.\n",
    "for x in range(len(data[0])):\n",
    "    ped['site{}b'.format(x + 1)] = ped['site{}'.format(x + 1)]\n",
    "\n",
    "# Adding dummy colums where are required for the HaploView program.\n",
    "ped['family_id'] = 0\n",
    "ped['sample_id'] = ['sample{}'.format(x + 1) for x in range(len(data))]\n",
    "ped['paternal_id'] = 0\n",
    "ped['maternal_id'] = 0\n",
    "ped['sex'] = 0\n",
    "ped['affection'] = 0\n",
    "\n",
    "# Reordering the dataframe so the sites are at the end of the file.\n",
    "sites = [x for x in ped.columns.str.extract('(site[0-9][a-z]{0,1})').sort_values().tolist() if isinstance(x, str)]\n",
    "ped = ped[['family_id', 'sample_id', 'paternal_id', 'maternal_id', \\\n",
    " 'sex', 'affection'] + sites]\n",
    "\n",
    "ped.to_csv('/frazer01/home/joreyna/shared_drive/CSE-280a/Assignment_2/data.ped', header=False, index=False, sep=' ')\n",
    "\n",
    "markers = []\n",
    "for x in range(len(data[0])):\n",
    "    marker = 'site{}'.format(x + 1)\n",
    "    position = x + 1\n",
    "    markers.append([marker, position])\n",
    "\n",
    "info = pd.DataFrame(markers)\n",
    "\n",
    "info.to_csv('/frazer01/home/joreyna/shared_drive/CSE-280a/Assignment_2/data.info', header=False, index=False, sep=' ')"
   ]
  },
  {
   "cell_type": "code",
   "execution_count": null,
   "metadata": {
    "collapsed": false
   },
   "outputs": [],
   "source": [
    "# results = []\n",
    "# for trial in range(1, 101):\n",
    "#     _, _, snp_array_test = load_data_test('/frazer01/home/joreyna/repos/CSE-280a/' +\n",
    "#          'Assignment_2/testing_phylo/testing_perfect_phlylo_trial_{}.txt'.format(trial))\n",
    "#     t_array = phylo.transpose_array(snp_array_test)\n",
    "#     t_array.sort(reverse=True)\n",
    "#     results.append(phylo.is_perfect_phylo(t_array))\n",
    "\n",
    "# print 'Is my perfect phylogeny test working? {}'.format(all(results))"
   ]
  },
  {
   "cell_type": "code",
   "execution_count": null,
   "metadata": {
    "collapsed": false
   },
   "outputs": [],
   "source": [
    "# import networkx as nx\n",
    "# nxtree = nx.Graph()\n",
    "# nxtree.add_node()"
   ]
  },
  {
   "cell_type": "code",
   "execution_count": null,
   "metadata": {
    "collapsed": true
   },
   "outputs": [],
   "source": [
    "# check = all([True if x == df.shape[0] else False for x  in df.sum(axis=0).tolist()])\n",
    "# print('Bug: Every individual has mutations in all sites: {}'.format(check))\n"
   ]
  },
  {
   "cell_type": "code",
   "execution_count": null,
   "metadata": {
    "collapsed": false
   },
   "outputs": [],
   "source": [
    "# def simulate_snp_tree_w_exp(sample_size, theta, population_size, alpha, region):\n",
    "    \n",
    "#     skip_muts = True\n",
    "    \n",
    "#     # Initializations of the tree and initial values \n",
    "#     individuals = ['idv{}'.format(x + 1) for x in range(sample_size)]\n",
    "#     tree = {idv: node(idv) for idv in individuals} \n",
    "#     avail_nodes = {k:k for k in tree.keys()}\n",
    "#     prev_coal_node = tree[individuals[0]]\n",
    "#     prev_mut_sites = []\n",
    "    \n",
    "#     print('Generating a SNP coalesence tree.')\n",
    "#     print('---------------------------------')\n",
    "#     print('Sample size: {}'.format(sample_size))\n",
    "#     print('Scaled mutation rate (theta): {}'.format(theta))\n",
    "#     print('Population size: {}'.format(population_size))\n",
    "#     print('Alpha growth rate: {}'.format(alpha))\n",
    "#     print('Region: {}\\n'.format(region))\n",
    "\n",
    "\n",
    "#     # Construction of the coalescence tree\n",
    "#     coal_count = 1\n",
    "#     while sample_size > 1:\n",
    "\n",
    "#         print('------------------\\nsample_size: {}'.format(sample_size))\n",
    "#         print('\\tpopulation_size: {}\\n'.format(population_size))\n",
    "#         print('\\tprev_coal_node: \\n{}'.format(prev_coal_node.message(tabs=2, skip_muts=skip_muts)))\n",
    "    \n",
    "\n",
    "#         # Creating a new coalescence node\n",
    "#         coal_node = node('coal{}'.format(coal_count))\n",
    "#         # Initializing children information for printing purposes \n",
    "#         coal_node.children_ids = [0,0]\n",
    "#         coal_node.children_branches = [0,0]\n",
    "#         coal_node.children_muts = [[0],[0]]        \n",
    "#         print('\\tcoal_node: \\n{}'.format(coal_node.message(tabs=2, skip_muts=skip_muts)))\n",
    "\n",
    "\n",
    "#         # Adding a new epoch/branch lenght \n",
    "#         branch_len = round((2 * population_size) / comb(sample_size, 2)) # Rounding\n",
    "        \n",
    "#         print('\\tThe branch length equation is (2 * {}) / ({} choose 2)'.format(population_size, sample_size))\n",
    "\n",
    "#         #         print('\\tbranch_len: {}'.format(branch_len))\n",
    "#         coal_node.height = prev_coal_node.height + branch_len\n",
    "#         print('\\tcoal_node (height updated): \\n{}'.format(coal_node.message(tabs=2, skip_muts=skip_muts)))\n",
    "        \n",
    "#         tree.update({'coal{}'.format(coal_count): coal_node})\n",
    "\n",
    "\n",
    "#         # Choosing the left child\n",
    "#         left_child = random.choice(avail_nodes.keys())\n",
    "#         print('\\tleft_child: {}'.format(left_child))\n",
    "#         left_child_node = tree[avail_nodes.pop(left_child)]\n",
    "        \n",
    "#         #         print('\\tavail_nodes after removing the left child:')\n",
    "#         #         print_avail_nodes(avail_nodes, tabs=2)\n",
    "\n",
    "#         # Choosing the right child\n",
    "#         right_child = random.choice(avail_nodes.keys())\n",
    "#         #         print \n",
    "#         print('\\tright_child: {}'.format(right_child))\n",
    "#         right_child_node = tree[avail_nodes.pop(right_child)]\n",
    "#         #         print('\\tavail_nodes after removing the right child:')\n",
    "#         #         print_avail_nodes(avail_nodes, tabs=2)\n",
    "\n",
    "\n",
    "#         # Choosing the number of mutations for each child\n",
    "#         left_mutuations = []\n",
    "\n",
    "\n",
    "#         # Update available nodes to include the newly created coalescent node \n",
    "#         avail_nodes.update({'coal{}'.format(coal_count): 'coal{}'.format(coal_count) })\n",
    "\n",
    "#         print('\\n')\n",
    "#         # Add children ids, branch lengths and mutations \n",
    "#         coal_node.children_ids = [left_child, right_child]\n",
    "#         print('\\tcoal_node (children ids updated): \\n{}'.format(coal_node.message(tabs=2, skip_muts=skip_muts)))\n",
    "        \n",
    "#         coal_node.children_branches = [left_child_node.height + branch_len, right_child_node.height + branch_len]\n",
    "#         print('\\tcoal_node (children branches updated): \\n{}'.format(coal_node.message(tabs=2, skip_muts=skip_muts)))\n",
    "        \n",
    "#         #         print('\\n')\n",
    "#         # Dropping mutations on the left child branch\n",
    "#         num_muts = coal_node.children_branches[0] * theta\n",
    "#         muts_left = get_mutations(num_muts, region, prev_mut_sites)\n",
    "#         print('\\tleft_child_muts: {}'.format(len(muts_left)))\n",
    "#         #         print('\\tDropping mutations on the left child: {}'.format(muts_left))\n",
    "#         #         print('\\t\\tnum_muts_left: {}, muts_left: {}'.format(num_muts, muts_left))\n",
    "#         prev_mut_sites.append(muts_left)\n",
    "\n",
    "\n",
    "#         # Dropping mutations on the left child branch\n",
    "#         num_muts = coal_node.children_branches[1] * theta\n",
    "#         muts_right = get_mutations(num_muts, region, prev_mut_sites)\n",
    "#         print('\\tright_child_muts: {}\\n'.format(len(muts_right)))\n",
    "#         #         print('\\tDropping mutations on the left child: {}'.format(muts_left))\n",
    "#         #         print('\\t\\tnum_muts_right: {}, muts_right: {}'.format(num_muts, muts_right))\n",
    "#         prev_mut_sites.append(muts_right)    \n",
    "#         coal_node.children_muts = [muts_left, muts_right]\n",
    "#         print('\\tcoal_node (children muts updated): \\n{}'.format(coal_node.message(tabs=2, skip_muts=skip_muts)))\n",
    "\n",
    "\n",
    "#         #         print('\\n')\n",
    "#         #         print('\\tcoal_node: \\n{}'.format(coal_node.message(tabs=2, skip_muts=skip_muts)))\n",
    "\n",
    "\n",
    "#         #         print('\\tavail_nodes after adding the coal node:')\n",
    "#         #         print_avail_nodes(avail_nodes, tabs=2)\n",
    "\n",
    "#         print('\\n' * 2)\n",
    "\n",
    "\n",
    "#         # Bookkeeping global variables needed for exp dist, new coalescent counts, etc \n",
    "#         prev_coal_node = coal_node\n",
    "#         population_size = math.exp(-alpha) * population_size \n",
    "        \n",
    "#         sample_size -= 1\n",
    "#         coal_count += 1\n",
    "        \n",
    "#     return tree "
   ]
  },
  {
   "cell_type": "code",
   "execution_count": 9,
   "metadata": {
    "collapsed": false
   },
   "outputs": [],
   "source": [
    "def simulate_snp_tree_w_exp_copy(sample_size, theta, population_size, alpha, region):\n",
    "    \n",
    "    skip_muts = True\n",
    "    # Initializations of the tree and initial values \n",
    "    individuals = ['idv{}'.format(x + 1) for x in range(sample_size)]\n",
    "    tree = {idv: node(idv) for idv in individuals} \n",
    "    avail_nodes = {k:k for k in tree.keys()}\n",
    "    prev_coal_node = tree[individuals[0]]\n",
    "    prev_mut_sites = []\n",
    "    generation_sizes = [population_size]\n",
    "    coal_lengths = [0]\n",
    "    branch_len = 1 # Rounding\n",
    "\n",
    "    \n",
    "#     print('Generating a SNP coalesence tree.')\n",
    "#     print('---------------------------------')\n",
    "#     print('Sample size: {}'.format(sample_size))\n",
    "#     print('Scaled mutation rate (theta): {}'.format(theta))\n",
    "#     print('Population size: {}'.format(population_size))\n",
    "#     print('Alpha growth rate: {}'.format(alpha))\n",
    "#     print('Region: {}\\n'.format(region))\n",
    "\n",
    "\n",
    "    # Construction of the coalescence tree\n",
    "    coal_count = 1\n",
    "    while sample_size > 1:\n",
    "                \n",
    "        coal_prob = comb(sample_size, 2) / (2 * population_size)\n",
    "        \n",
    "        # Adding a new epoch/branch length\n",
    "        if coin_flip(coal_prob):\n",
    "            \n",
    "#             print('------------------\\nsample_size: {}'.format(sample_size))\n",
    "#             print('\\tpopulation_size: {}\\n'.format(population_size))\n",
    "#             print('\\tprev_coal_node: \\n{}'.format(prev_coal_node.message(tabs=2, skip_muts=skip_muts)))\n",
    "        \n",
    "            # Creating a new coalescence node\n",
    "            coal_node = node('coal{}'.format(coal_count))\n",
    "            # Initializing children information for printing purposes \n",
    "            coal_node.children_ids = [0,0]\n",
    "            coal_node.children_branches = [0,0]\n",
    "            coal_node.children_muts = [[0],[0]]        \n",
    "#             print('\\tcoal_node: \\n{}'.format(coal_node.message(tabs=2, skip_muts=skip_muts)))\n",
    "\n",
    "#             print('\\tThe branch length equation is (2 * {}) / ({} choose 2)'.format(population_size, sample_size))\n",
    "\n",
    "            #         print('\\tbranch_len: {}'.format(branch_len))\n",
    "            coal_node.height = prev_coal_node.height + branch_len\n",
    "#             print('\\tcoal_node (height updated): \\n{}'.format(coal_node.message(tabs=2, skip_muts=skip_muts)))\n",
    "\n",
    "            tree.update({'coal{}'.format(coal_count): coal_node})\n",
    "\n",
    "\n",
    "            # Choosing the left child\n",
    "            left_child = random.choice(avail_nodes.keys())\n",
    "#             print('\\tleft_child: {}'.format(left_child))\n",
    "            left_child_node = tree[avail_nodes.pop(left_child)]\n",
    "\n",
    "            #         print('\\tavail_nodes after removing the left child:')\n",
    "            #         print_avail_nodes(avail_nodes, tabs=2)\n",
    "\n",
    "            # Choosing the right child\n",
    "            right_child = random.choice(avail_nodes.keys())\n",
    "            #         print \n",
    "#             print('\\tright_child: {}'.format(right_child))\n",
    "            right_child_node = tree[avail_nodes.pop(right_child)]\n",
    "            #         print('\\tavail_nodes after removing the right child:')\n",
    "            #         print_avail_nodes(avail_nodes, tabs=2)\n",
    "\n",
    "\n",
    "            # Choosing the number of mutations for each child\n",
    "            left_mutuations = []\n",
    "\n",
    "\n",
    "            # Update available nodes to include the newly created coalescent node \n",
    "            avail_nodes.update({'coal{}'.format(coal_count): 'coal{}'.format(coal_count) })\n",
    "\n",
    "#             print('\\n')\n",
    "            # Add children ids, branch lengths and mutations \n",
    "            coal_node.children_ids = [left_child, right_child]\n",
    "#             print('\\tcoal_node (children ids updated): \\n{}'.format(coal_node.message(tabs=2, skip_muts=skip_muts)))\n",
    "\n",
    "            coal_node.children_branches = [left_child_node.height + branch_len, right_child_node.height + branch_len]\n",
    "#             print('\\tcoal_node (children branches updated): \\n{}'.format(coal_node.message(tabs=2, skip_muts=skip_muts)))\n",
    "\n",
    "            #         print('\\n')\n",
    "            # Dropping mutations on the left child branch\n",
    "            num_muts = coal_node.children_branches[0] * theta\n",
    "            muts_left = get_mutations(num_muts, region, prev_mut_sites)\n",
    "#             print('\\tleft_child_muts: {}'.format(len(muts_left)))\n",
    "            #         print('\\tDropping mutations on the left child: {}'.format(muts_left))\n",
    "            #         print('\\t\\tnum_muts_left: {}, muts_left: {}'.format(num_muts, muts_left))\n",
    "            prev_mut_sites.append(muts_left)\n",
    "\n",
    "\n",
    "            # Dropping mutations on the left child branch\n",
    "            num_muts = coal_node.children_branches[1] * theta\n",
    "            muts_right = get_mutations(num_muts, region, prev_mut_sites)\n",
    "#             print('\\tright_child_muts: {}\\n'.format(len(muts_right)))\n",
    "            #         print('\\tDropping mutations on the left child: {}'.format(muts_left))\n",
    "            #         print('\\t\\tnum_muts_right: {}, muts_right: {}'.format(num_muts, muts_right))\n",
    "            prev_mut_sites.append(muts_right)    \n",
    "            coal_node.children_muts = [muts_left, muts_right]\n",
    "#             print('\\tcoal_node (children muts updated): \\n{}'.format(coal_node.message(tabs=2, skip_muts=skip_muts)))\n",
    "\n",
    "\n",
    "            #         print('\\n')\n",
    "            #         print('\\tcoal_node: \\n{}'.format(coal_node.message(tabs=2, skip_muts=skip_muts)))\n",
    "\n",
    "\n",
    "            #         print('\\tavail_nodes after adding the coal node:')\n",
    "            #         print_avail_nodes(avail_nodes, tabs=2)\n",
    "\n",
    "#             print('\\n' * 2)\n",
    "\n",
    "\n",
    "            # Bookkeeping global variables needed for exp dist, new coalescent counts, etc \n",
    "            prev_coal_node = coal_node\n",
    "            sample_size -= 1\n",
    "            coal_count += 1\n",
    "            coal_lengths.append(branch_len)\n",
    "            \n",
    "        branch_len += 1\n",
    "        population_size = math.exp(-alpha) * population_size \n",
    "        generation_sizes.append(population_size)\n",
    "        \n",
    "    return tree, generation_sizes, coal_lengths"
   ]
  },
  {
   "cell_type": "code",
   "execution_count": 559,
   "metadata": {
    "collapsed": false
   },
   "outputs": [
    {
     "data": {
      "text/plain": [
       "<matplotlib.text.Text at 0x7f741a1df210>"
      ]
     },
     "execution_count": 559,
     "metadata": {},
     "output_type": "execute_result"
    },
    {
     "data": {
      "image/png": "[encoded data removed]",
      "text/plain": [
       "<matplotlib.figure.Figure at 0x7f7419d6ba50>"
      ]
     },
     "metadata": {},
     "output_type": "display_data"
    },
    {
     "data": {
      "image/png": "[encoded data removed]",
      "text/plain": [
       "<matplotlib.figure.Figure at 0x7f7419e6b5d0>"
      ]
     },
     "metadata": {},
     "output_type": "display_data"
    }
   ],
   "source": [
    "# fig = plt.figure(figsize=(8,8))\n",
    "# plt.plot(range(len(generation_sizes)), generation_sizes);\n",
    "# plt.title('Generation sizes over coalesence events')\n",
    "# plt.xlabel('Generation number')\n",
    "# plt.ylabel('Population size');\n",
    "\n",
    "# fig = plt.figure(figsize=(8,8))\n",
    "# plt.plot(range(len(coal_lengths)), coal_lengths);\n",
    "# plt.title('Number of generations between coalesence events')\n",
    "# plt.ylabel('Generation number')\n",
    "# plt.xlabel('Coalesence number');\n",
    "\n",
    "# # plt.plot(generation_sizes, coal_lengths);\n",
    "# # plt.title('Number of generations between coalesence events')\n",
    "# # plt.ylabel('Generation number')\n",
    "# # plt.xlabel('Coalesence number')"
   ]
  }
 ],
 "metadata": {
  "kernelspec": {
   "display_name": "Python 2",
   "language": "python",
   "name": "python2"
  },
  "language_info": {
   "codemirror_mode": {
    "name": "ipython",
    "version": 2
   },
   "file_extension": ".py",
   "mimetype": "text/x-python",
   "name": "python",
   "nbconvert_exporter": "python",
   "pygments_lexer": "ipython2",
   "version": "2.7.11"
  }
 },
 "nbformat": 4,
 "nbformat_minor": 0
}
