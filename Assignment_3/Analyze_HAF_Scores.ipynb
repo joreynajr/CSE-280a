{
 "cells": [
  {
   "cell_type": "code",
   "execution_count": 39,
   "metadata": {
    "collapsed": false
   },
   "outputs": [],
   "source": [
    "import os\n",
    "import pandas as pd\n",
    "from matplotlib import pyplot as plt\n",
    "import seaborn as sns; sns.set_style('whitegrid')\n",
    "from numpy import mean \n",
    "%matplotlib inline"
   ]
  },
  {
   "cell_type": "code",
   "execution_count": 33,
   "metadata": {
    "collapsed": false
   },
   "outputs": [],
   "source": [
    "def parallel_haf_score_sh_writing(human_time, time, freq):\n",
    "    \"\"\"\n",
    "    Make a bash script for calculating the HAF score. \n",
    "    \"\"\"\n",
    "#     print('parallel cv sh writing')\n",
    "#     print('----------------------')\n",
    "    \n",
    "#     print('\\tgene: {}'.format(gene))\n",
    "    \n",
    "    dy = '/frazer01/home/joreyna/repos/CSE-280a/Assignment_3/sh/' \n",
    "    sh_fn = os.path.join(dy, 'haf_score_run_{}.sh'.format(human_time))\n",
    "    \n",
    "    with open(sh_fn, 'w') as f:\n",
    "        # Qsub instructions \n",
    "        f.write('#!/bin/bash\\n\\n')\n",
    "        f.write('#$ -pe smp 4\\n')\n",
    "        f.write('#$ -l short\\n')\n",
    "        f.write('#$ -N HAF_Scores_{}\\n'.format(human_time))\n",
    "        f.write('#$ -l h_vmem=4.0G\\n')\n",
    "        f.write('#$ -S /bin/bash\\n')\n",
    "        f.write('#$ -o /frazer01/home/joreyna/repos/CSE-280a/Assignment_3/' +\n",
    "                'err/HAF_Scores_{}.out\\n'.format(human_time))\n",
    "        f.write('#$ -e /frazer01/home/joreyna/repos/CSE-280a/Assignment_3/' +\n",
    "                'err/HAF_Scores_{}.err\\n\\n'.format(human_time))\n",
    "        \n",
    "        # Cross validation instructions\n",
    "        script_path = '/frazer01/home/joreyna/repos/CSE-280a/Assignment_3/Generate_HAF_Scores.py'\n",
    "        #         out_path = '/frazer01/home/joreyna/repos/CSE-280a/Assignment_3/results/py'\n",
    "        f.write('source activate hla\\n\\n')\n",
    "        f.write('date 1>&2\\n')\n",
    "        f.write('cmd=\"python {} {} {} {}\"\\n'.format(script_path, human_time, time, freq))\n",
    "        f.write('echo Executing: $cmd 1>&2\\n')\n",
    "        f.write('eval $cmd\\n')\n",
    "        f.write('date 1>&2\\n')\n",
    "        \n",
    "    return sh_fn"
   ]
  },
  {
   "cell_type": "code",
   "execution_count": 34,
   "metadata": {
    "collapsed": true
   },
   "outputs": [],
   "source": [
    "timepoints = [(1, 0, 0.1), (2, 0, 0.5), (3, 0, 0.9), (4, 0.00005, 1), (5, 0.0005, 1)]"
   ]
  },
  {
   "cell_type": "code",
   "execution_count": 35,
   "metadata": {
    "collapsed": true
   },
   "outputs": [],
   "source": [
    "for tp in timepoints:\n",
    "    human_time = tp[0] \n",
    "    time = tp[1] \n",
    "    freq = tp[2] \n",
    "    break"
   ]
  },
  {
   "cell_type": "code",
   "execution_count": 36,
   "metadata": {
    "collapsed": false
   },
   "outputs": [],
   "source": [
    "sh_fn = parallel_haf_score_sh_writing(human_time, time, freq)"
   ]
  },
  {
   "cell_type": "code",
   "execution_count": 37,
   "metadata": {
    "collapsed": false
   },
   "outputs": [
    {
     "name": "stdout",
     "output_type": "stream",
     "text": [
      "#!/bin/bash\r\n",
      "\r\n",
      "#$ -pe smp 4\r\n",
      "#$ -l short\r\n",
      "#$ -N HAF_Scores_1\r\n",
      "#$ -l h_vmem=4.0G\r\n",
      "#$ -S /bin/bash\r\n",
      "#$ -o /frazer01/home/joreyna/repos/CSE-280a/Assignment_3/err/HAF_Scores_1.out\r\n",
      "#$ -e /frazer01/home/joreyna/repos/CSE-280a/Assignment_3/err/HAF_Scores_1.err\r\n",
      "\r\n",
      "source activate hla\r\n",
      "\r\n",
      "date 1>&2\r\n",
      "cmd=\"python /frazer01/home/joreyna/repos/CSE-280a/Assignment_3/Generate_HAF_Scores.py 1 0 0.1\"\r\n",
      "echo Executing: $cmd 1>&2\r\n",
      "eval $cmd\r\n",
      "date 1>&2\r\n"
     ]
    }
   ],
   "source": [
    "!cat $sh_fn"
   ]
  },
  {
   "cell_type": "code",
   "execution_count": 38,
   "metadata": {
    "collapsed": false
   },
   "outputs": [
    {
     "name": "stdout",
     "output_type": "stream",
     "text": [
      "Your job 2631613 (\"HAF_Scores_1\") has been submitted\r\n"
     ]
    }
   ],
   "source": [
    "!qsub $sh_fn"
   ]
  },
  {
   "cell_type": "code",
   "execution_count": null,
   "metadata": {
    "collapsed": true
   },
   "outputs": [],
   "source": []
  },
  {
   "cell_type": "code",
   "execution_count": null,
   "metadata": {
    "collapsed": true
   },
   "outputs": [],
   "source": []
  },
  {
   "cell_type": "code",
   "execution_count": null,
   "metadata": {
    "collapsed": true
   },
   "outputs": [],
   "source": []
  },
  {
   "cell_type": "code",
   "execution_count": null,
   "metadata": {
    "collapsed": true
   },
   "outputs": [],
   "source": []
  },
  {
   "cell_type": "code",
   "execution_count": null,
   "metadata": {
    "collapsed": true
   },
   "outputs": [],
   "source": []
  },
  {
   "cell_type": "code",
   "execution_count": 2,
   "metadata": {
    "collapsed": false
   },
   "outputs": [],
   "source": [
    "timepoints = [(0, 0.1), (0, 0.5), (0, 0.9), (0.00005, 1), (0.0005, 1)]\n",
    "for tp in timepoints:\n",
    "    time = tp[0]\n",
    "    freq = tp[1]"
   ]
  },
  {
   "cell_type": "code",
   "execution_count": 3,
   "metadata": {
    "collapsed": false
   },
   "outputs": [],
   "source": [
    "selective_allele = 0.50000\n",
    "msms_fn = 'timepoint_{}.txt'.format(time)"
   ]
  },
  {
   "cell_type": "code",
   "execution_count": null,
   "metadata": {
    "collapsed": true
   },
   "outputs": [],
   "source": []
  },
  {
   "cell_type": "code",
   "execution_count": null,
   "metadata": {
    "collapsed": true
   },
   "outputs": [],
   "source": []
  },
  {
   "cell_type": "code",
   "execution_count": null,
   "metadata": {
    "collapsed": true
   },
   "outputs": [],
   "source": []
  },
  {
   "cell_type": "code",
   "execution_count": null,
   "metadata": {
    "collapsed": true
   },
   "outputs": [],
   "source": []
  },
  {
   "cell_type": "code",
   "execution_count": null,
   "metadata": {
    "collapsed": true
   },
   "outputs": [],
   "source": []
  },
  {
   "cell_type": "code",
   "execution_count": null,
   "metadata": {
    "collapsed": true
   },
   "outputs": [],
   "source": []
  },
  {
   "cell_type": "code",
   "execution_count": null,
   "metadata": {
    "collapsed": true
   },
   "outputs": [],
   "source": []
  },
  {
   "cell_type": "code",
   "execution_count": null,
   "metadata": {
    "collapsed": true
   },
   "outputs": [],
   "source": []
  },
  {
   "cell_type": "code",
   "execution_count": null,
   "metadata": {
    "collapsed": true
   },
   "outputs": [],
   "source": []
  },
  {
   "cell_type": "code",
   "execution_count": null,
   "metadata": {
    "collapsed": true
   },
   "outputs": [],
   "source": []
  },
  {
   "cell_type": "code",
   "execution_count": null,
   "metadata": {
    "collapsed": true
   },
   "outputs": [],
   "source": []
  },
  {
   "cell_type": "code",
   "execution_count": null,
   "metadata": {
    "collapsed": true
   },
   "outputs": [],
   "source": []
  },
  {
   "cell_type": "code",
   "execution_count": null,
   "metadata": {
    "collapsed": true
   },
   "outputs": [],
   "source": []
  },
  {
   "cell_type": "code",
   "execution_count": null,
   "metadata": {
    "collapsed": true
   },
   "outputs": [],
   "source": []
  },
  {
   "cell_type": "code",
   "execution_count": null,
   "metadata": {
    "collapsed": true
   },
   "outputs": [],
   "source": []
  },
  {
   "cell_type": "code",
   "execution_count": null,
   "metadata": {
    "collapsed": true
   },
   "outputs": [],
   "source": []
  },
  {
   "cell_type": "code",
   "execution_count": null,
   "metadata": {
    "collapsed": true
   },
   "outputs": [],
   "source": []
  },
  {
   "cell_type": "code",
   "execution_count": null,
   "metadata": {
    "collapsed": true
   },
   "outputs": [],
   "source": []
  },
  {
   "cell_type": "code",
   "execution_count": null,
   "metadata": {
    "collapsed": true
   },
   "outputs": [],
   "source": []
  },
  {
   "cell_type": "code",
   "execution_count": null,
   "metadata": {
    "collapsed": true
   },
   "outputs": [],
   "source": []
  },
  {
   "cell_type": "code",
   "execution_count": null,
   "metadata": {
    "collapsed": true
   },
   "outputs": [],
   "source": []
  },
  {
   "cell_type": "code",
   "execution_count": null,
   "metadata": {
    "collapsed": true
   },
   "outputs": [],
   "source": []
  },
  {
   "cell_type": "code",
   "execution_count": null,
   "metadata": {
    "collapsed": true
   },
   "outputs": [],
   "source": []
  },
  {
   "cell_type": "code",
   "execution_count": null,
   "metadata": {
    "collapsed": true
   },
   "outputs": [],
   "source": []
  },
  {
   "cell_type": "code",
   "execution_count": null,
   "metadata": {
    "collapsed": true
   },
   "outputs": [],
   "source": []
  },
  {
   "cell_type": "code",
   "execution_count": null,
   "metadata": {
    "collapsed": true
   },
   "outputs": [],
   "source": []
  },
  {
   "cell_type": "code",
   "execution_count": null,
   "metadata": {
    "collapsed": true
   },
   "outputs": [],
   "source": []
  },
  {
   "cell_type": "code",
   "execution_count": null,
   "metadata": {
    "collapsed": true
   },
   "outputs": [],
   "source": []
  },
  {
   "cell_type": "code",
   "execution_count": null,
   "metadata": {
    "collapsed": true
   },
   "outputs": [],
   "source": []
  },
  {
   "cell_type": "code",
   "execution_count": null,
   "metadata": {
    "collapsed": true
   },
   "outputs": [],
   "source": []
  },
  {
   "cell_type": "code",
   "execution_count": null,
   "metadata": {
    "collapsed": true
   },
   "outputs": [],
   "source": []
  },
  {
   "cell_type": "code",
   "execution_count": null,
   "metadata": {
    "collapsed": true
   },
   "outputs": [],
   "source": []
  },
  {
   "cell_type": "code",
   "execution_count": null,
   "metadata": {
    "collapsed": true
   },
   "outputs": [],
   "source": []
  },
  {
   "cell_type": "code",
   "execution_count": null,
   "metadata": {
    "collapsed": true
   },
   "outputs": [],
   "source": []
  },
  {
   "cell_type": "code",
   "execution_count": null,
   "metadata": {
    "collapsed": true
   },
   "outputs": [],
   "source": []
  },
  {
   "cell_type": "code",
   "execution_count": null,
   "metadata": {
    "collapsed": true
   },
   "outputs": [],
   "source": []
  },
  {
   "cell_type": "code",
   "execution_count": null,
   "metadata": {
    "collapsed": true
   },
   "outputs": [],
   "source": []
  },
  {
   "cell_type": "code",
   "execution_count": null,
   "metadata": {
    "collapsed": true
   },
   "outputs": [],
   "source": []
  },
  {
   "cell_type": "code",
   "execution_count": null,
   "metadata": {
    "collapsed": true
   },
   "outputs": [],
   "source": []
  },
  {
   "cell_type": "code",
   "execution_count": null,
   "metadata": {
    "collapsed": true
   },
   "outputs": [],
   "source": []
  },
  {
   "cell_type": "code",
   "execution_count": null,
   "metadata": {
    "collapsed": true
   },
   "outputs": [],
   "source": []
  }
 ],
 "metadata": {
  "kernelspec": {
   "display_name": "Python 2",
   "language": "python",
   "name": "python2"
  },
  "language_info": {
   "codemirror_mode": {
    "name": "ipython",
    "version": 2
   },
   "file_extension": ".py",
   "mimetype": "text/x-python",
   "name": "python",
   "nbconvert_exporter": "python",
   "pygments_lexer": "ipython2",
   "version": "2.7.11"
  }
 },
 "nbformat": 4,
 "nbformat_minor": 0
}
