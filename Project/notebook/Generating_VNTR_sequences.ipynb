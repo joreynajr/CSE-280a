{
 "cells": [
  {
   "cell_type": "code",
   "execution_count": 191,
   "metadata": {
    "collapsed": false
   },
   "outputs": [],
   "source": [
    "import os\n",
    "import time \n",
    "import numpy as np\n",
    "import copy\n",
    "# from Bio import SeqIO"
   ]
  },
  {
   "cell_type": "code",
   "execution_count": 179,
   "metadata": {
    "collapsed": true
   },
   "outputs": [],
   "source": [
    "project_dir = os.path.join(os.getcwd(), '../')\n",
    "project_dir = os.path.abspath(project_dir)"
   ]
  },
  {
   "cell_type": "code",
   "execution_count": 180,
   "metadata": {
    "collapsed": true
   },
   "outputs": [],
   "source": [
    "# hg19_fpath = os.path.join(project_dir, 'source/hg19_20151104/hg19_sorted.fa')\n",
    "# hg19 = SeqIO.parse(hg19_fpath, format='fasta')\n",
    "# # def load_chromosome_21\n",
    "# with open(hg19_fpath, 'r') as f:\n",
    "#     chromosome_21 = []\n",
    "#     chromosome_21_done = False\n",
    "#     chromosome_21_processing = False\n",
    "#     count = 0 \n",
    "#     while not chromosome_21_done:\n",
    "#         line = f.readline()\n",
    "        \n",
    "#         line = line.strip()\n",
    "#         if line == '>ch17':\n",
    "#             print('Found chromosome 17')\n",
    "#             chromosome_21_processing = True\n",
    "            \n",
    "#         if chromosome_21_processing:\n",
    "#             chromosome_21.append(line)\n",
    "        \n",
    "#         if chromosome_21_processing and '>chr' in line:\n",
    "#             chromosome_21_processing = False\n",
    "#             chromosome_21_done = True\n",
    "        \n",
    "#         count += 1\n",
    "#         if count % 1000 == 9999:\n",
    "#             print('line: {}'.format(line))"
   ]
  },
  {
   "cell_type": "code",
   "execution_count": 182,
   "metadata": {
    "collapsed": false
   },
   "outputs": [],
   "source": [
    "def generate_mutation(base):\n",
    "    \"\"\"\n",
    "    Taking into account the current base, base, return a mutation.\n",
    "    \n",
    "    \"\"\"\n",
    "    \n",
    "    if base == 'A':\n",
    "        return np.random.choice(['C', 'G', 'T'])\n",
    "    \n",
    "    elif base == 'C':\n",
    "        return np.random.choice(['A', 'G', 'T'])\n",
    "    \n",
    "    elif base == 'G':\n",
    "        return np.random.choice(['A', 'C', 'T'])\n",
    "    \n",
    "    elif base == 'T':\n",
    "        return np.random.choice(['A', 'C', 'G'])\n",
    "    \n",
    "    else:\n",
    "        raise Exception('base is not a proper DNA nucleotide (ACGT).')"
   ]
  },
  {
   "cell_type": "code",
   "execution_count": 183,
   "metadata": {
    "collapsed": true
   },
   "outputs": [],
   "source": [
    "def introduce_random_mutations(vntr, m):\n",
    "    \"\"\"\n",
    "    Generate a VNTR sequence with random mutations. The mutations will be the same across different copies. \n",
    "    \n",
    "    Params\n",
    "    ------\n",
    "    \n",
    "    - vntr, the DNA copy sequence which is copied. \n",
    "    - m, the number of SNP mutations that will be randomly introduced. \n",
    "    \n",
    "    Returns\n",
    "    -------\n",
    "    A single copy of the VNTR sequence with m mutations. \\\n",
    "    \"\"\"\n",
    "    \n",
    "    mutation_sites = np.random.choice(range(len(vntr)), m, replace=False)\n",
    "    m_vntr = []\n",
    "    for site, nucleotide in enumerate(vntr):\n",
    "        if site in mutation_sites:\n",
    "            m_vntr.append(generate_mutation(nucleotide))\n",
    "        else:\n",
    "            m_vntr.append(nucleotide)\n",
    "\n",
    "    return ''.join(m_vntr)"
   ]
  },
  {
   "cell_type": "code",
   "execution_count": 184,
   "metadata": {
    "collapsed": false
   },
   "outputs": [],
   "source": [
    "def introduce_specific_mutations(vntr, sites, mutations):\n",
    "    \"\"\"\n",
    "    Generate a VNTR sequence with the specified mutations at the specified sites. \n",
    "    \n",
    "    Params\n",
    "    ------\n",
    "    \n",
    "    - vntr, the DNA copy sequence which is copied. \n",
    "    - sites, locus where the SNP mutation will be introduced. \n",
    "    - mutations, a list of mutations.\n",
    "    \n",
    "    Returns\n",
    "    -------\n",
    "    A single copy of the VNTR sequence with mutations at the specified sites. \n",
    "    \"\"\"\n",
    "    \n",
    "    if len(sites) != len(mutations):\n",
    "        raise Exception('The number of sites and mutations do not correspond.')\n",
    "        \n",
    "#     print('VNTR: {}'.format(vntr))\n",
    "#     print('sites: {}'.format(sites))\n",
    "#     print('mutations: {}'.format(mutations))\n",
    "#     print('\\n')\n",
    "    \n",
    "    m_vntr = list(vntr)\n",
    "    for site, nucleotide in enumerate(m_vntr):\n",
    "        \n",
    "#         print('site: {}'.format(site))\n",
    "        \n",
    "        if site in sites:\n",
    "            mut_idx = sites.index(site)\n",
    "            \n",
    "#             print('\\tmut_idx: {}, mutant: {}, nucleotide: {}'.\\\n",
    "#                   format(mut_idx, mutations[mut_idx], nucleotide))\n",
    "            \n",
    "            if nucleotide == mutations[mut_idx]:\n",
    "                raise Exception('Not a mutation. The current site is {}. The current '.format(site) + \\\n",
    "                                'nucleotide is {}. Please use a different nucleotide '.format(nucleotide) + \\\n",
    "                                'for this site.')\n",
    "            else:\n",
    "                m_vntr[site] =  mutations[mut_idx]\n",
    "    return ''.join(m_vntr)"
   ]
  },
  {
   "cell_type": "code",
   "execution_count": 181,
   "metadata": {
    "collapsed": false
   },
   "outputs": [],
   "source": [
    "def generate_sequence_with_vntr(sequence, loc, vntr):\n",
    "    nseq = sequence[0:loc]\n",
    "    nseq += vntr \n",
    "    nseq += sequence[loc:]\n",
    "    return nseq "
   ]
  },
  {
   "cell_type": "code",
   "execution_count": 175,
   "metadata": {
    "collapsed": true
   },
   "outputs": [],
   "source": [
    "length = 10\n",
    "sequence = ''.join(np.random.choice(['A', 'C', 'G', 'T'], size=length))\n",
    "sequence"
   ]
  },
  {
   "cell_type": "code",
   "execution_count": 188,
   "metadata": {
    "collapsed": true
   },
   "outputs": [],
   "source": [
    "if vntr == '':\n",
    "    vntr = 'GCACGCTGCTGTGTAGTGGAGAAAGGGCAGGCAGCGAGCAAGCGTGTACAAGGTATATACGTGCC'"
   ]
  },
  {
   "cell_type": "code",
   "execution_count": 189,
   "metadata": {
    "collapsed": false
   },
   "outputs": [],
   "source": [
    "spacer = True\n",
    "if spacer == True:\n",
    "    spacers = ' ' * 10\n",
    "    vntr = spacers + vntr + spacers"
   ]
  },
  {
   "cell_type": "code",
   "execution_count": 170,
   "metadata": {
    "collapsed": false
   },
   "outputs": [
    {
     "data": {
      "text/plain": [
       "'CCACGCTGCTGTGTAGTGGAGAAAGGGCAGGCAGCGAGCAAGCGTGTACAAGGTATATACGTGCC'"
      ]
     },
     "execution_count": 170,
     "metadata": {},
     "output_type": "execute_result"
    }
   ],
   "source": [
    "m_vntr = introduce_specific_mutations(vntr, [0], ['C'])\n",
    "m_vntr"
   ]
  },
  {
   "cell_type": "code",
   "execution_count": 173,
   "metadata": {
    "collapsed": true
   },
   "outputs": [],
   "source": [
    "sequence = generate_sequence_with_vntr(sequence, 10, vntr)"
   ]
  },
  {
   "cell_type": "code",
   "execution_count": 174,
   "metadata": {
    "collapsed": false
   },
   "outputs": [
    {
     "data": {
      "text/plain": [
       "'CTCCG     GCACGCTGCTGTGTAGTGGAGAAAGGGCAGGCAGCGAGCAAGCGTGTACAAGGTATATACGTGCC          GCACGCTGCTGTGTAGTGGAGAAAGGGCAGGCAGCGAGCAAGCGTGTACAAGGTATATACGTGCC     GCGCG'"
      ]
     },
     "execution_count": 174,
     "metadata": {},
     "output_type": "execute_result"
    }
   ],
   "source": [
    "sequence"
   ]
  },
  {
   "cell_type": "code",
   "execution_count": 190,
   "metadata": {
    "collapsed": true
   },
   "outputs": [],
   "source": [
    "# # simulation of 150 bp single ended reads \n",
    "# /frazer01/home/joreyna/software/art_src_MountRainier_Linux/examples/run_test_examples_illumina.sh\n",
    "\n",
    "# To run ART use:\n",
    "#     /frazer01/home/joreyna/software/art_src_MountRainier_Linux/art_illumina or\n",
    "#     cd into the directory and say ./art_illumina"
   ]
  },
  {
   "cell_type": "code",
   "execution_count": 1,
   "metadata": {
    "collapsed": true
   },
   "outputs": [],
   "source": [
    "import math"
   ]
  },
  {
   "cell_type": "code",
   "execution_count": 33,
   "metadata": {
    "collapsed": true
   },
   "outputs": [],
   "source": [
    "def critical_copy_number(rlen, clen):\n",
    "    \"\"\"\n",
    "    Determines the minimum number of VNTR copies needed \n",
    "    so a read can be completely mapped inside of a VNTR.\n",
    "    \"\"\"\n",
    "    \n",
    "    if rlen < clen: \n",
    "        raise Exception('clen is larger than rlen.')\n",
    "        \n",
    "    if rlen % clen > 0:\n",
    "        return int(math.ceil(float(rlen) / clen))\n",
    "    else:\n",
    "        return 1 + (rlen/clen)\n",
    "        "
   ]
  },
  {
   "cell_type": "code",
   "execution_count": null,
   "metadata": {
    "collapsed": true
   },
   "outputs": [],
   "source": []
  },
  {
   "cell_type": "code",
   "execution_count": null,
   "metadata": {
    "collapsed": true
   },
   "outputs": [],
   "source": []
  },
  {
   "cell_type": "code",
   "execution_count": null,
   "metadata": {
    "collapsed": true
   },
   "outputs": [],
   "source": []
  },
  {
   "cell_type": "code",
   "execution_count": null,
   "metadata": {
    "collapsed": true
   },
   "outputs": [],
   "source": []
  },
  {
   "cell_type": "code",
   "execution_count": null,
   "metadata": {
    "collapsed": true
   },
   "outputs": [],
   "source": []
  },
  {
   "cell_type": "code",
   "execution_count": null,
   "metadata": {
    "collapsed": true
   },
   "outputs": [],
   "source": []
  },
  {
   "cell_type": "code",
   "execution_count": null,
   "metadata": {
    "collapsed": true
   },
   "outputs": [],
   "source": []
  },
  {
   "cell_type": "code",
   "execution_count": null,
   "metadata": {
    "collapsed": true
   },
   "outputs": [],
   "source": []
  },
  {
   "cell_type": "code",
   "execution_count": null,
   "metadata": {
    "collapsed": true
   },
   "outputs": [],
   "source": []
  },
  {
   "cell_type": "code",
   "execution_count": null,
   "metadata": {
    "collapsed": true
   },
   "outputs": [],
   "source": []
  },
  {
   "cell_type": "code",
   "execution_count": null,
   "metadata": {
    "collapsed": true
   },
   "outputs": [],
   "source": []
  },
  {
   "cell_type": "code",
   "execution_count": null,
   "metadata": {
    "collapsed": true
   },
   "outputs": [],
   "source": []
  },
  {
   "cell_type": "code",
   "execution_count": null,
   "metadata": {
    "collapsed": true
   },
   "outputs": [],
   "source": []
  },
  {
   "cell_type": "code",
   "execution_count": null,
   "metadata": {
    "collapsed": true
   },
   "outputs": [],
   "source": []
  },
  {
   "cell_type": "code",
   "execution_count": null,
   "metadata": {
    "collapsed": true
   },
   "outputs": [],
   "source": []
  },
  {
   "cell_type": "code",
   "execution_count": null,
   "metadata": {
    "collapsed": true
   },
   "outputs": [],
   "source": []
  },
  {
   "cell_type": "code",
   "execution_count": null,
   "metadata": {
    "collapsed": true
   },
   "outputs": [],
   "source": []
  },
  {
   "cell_type": "code",
   "execution_count": null,
   "metadata": {
    "collapsed": true
   },
   "outputs": [],
   "source": []
  },
  {
   "cell_type": "code",
   "execution_count": null,
   "metadata": {
    "collapsed": true
   },
   "outputs": [],
   "source": []
  },
  {
   "cell_type": "code",
   "execution_count": null,
   "metadata": {
    "collapsed": true
   },
   "outputs": [],
   "source": []
  },
  {
   "cell_type": "code",
   "execution_count": null,
   "metadata": {
    "collapsed": true
   },
   "outputs": [],
   "source": []
  },
  {
   "cell_type": "code",
   "execution_count": null,
   "metadata": {
    "collapsed": true
   },
   "outputs": [],
   "source": []
  },
  {
   "cell_type": "code",
   "execution_count": null,
   "metadata": {
    "collapsed": true
   },
   "outputs": [],
   "source": []
  },
  {
   "cell_type": "code",
   "execution_count": null,
   "metadata": {
    "collapsed": true
   },
   "outputs": [],
   "source": []
  },
  {
   "cell_type": "code",
   "execution_count": null,
   "metadata": {
    "collapsed": true
   },
   "outputs": [],
   "source": []
  }
 ],
 "metadata": {
  "kernelspec": {
   "display_name": "Python (hla)",
   "language": "python",
   "name": "hla"
  },
  "language_info": {
   "codemirror_mode": {
    "name": "ipython",
    "version": 2
   },
   "file_extension": ".py",
   "mimetype": "text/x-python",
   "name": "python",
   "nbconvert_exporter": "python",
   "pygments_lexer": "ipython2",
   "version": "2.7.11"
  }
 },
 "nbformat": 4,
 "nbformat_minor": 0
}
