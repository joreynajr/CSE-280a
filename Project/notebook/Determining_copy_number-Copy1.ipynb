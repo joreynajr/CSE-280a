{
 "cells": [
  {
   "cell_type": "code",
   "execution_count": 54,
   "metadata": {
    "collapsed": true
   },
   "outputs": [],
   "source": [
    "import os\n",
    "import pandas as pd \n",
    "import math\n",
    "import os\n",
    "import numpy as np"
   ]
  },
  {
   "cell_type": "markdown",
   "metadata": {},
   "source": [
    "If bed_start and bed_end are -1 that means that the alignment does not map to the interval. Another way you can come to this conclusion is by calculating the fraction of the read that overlaps and setting some cutoffs for what you consider VNTR, junction and Non-VNTR. "
   ]
  },
  {
   "cell_type": "code",
   "execution_count": 68,
   "metadata": {
    "collapsed": true
   },
   "outputs": [],
   "source": [
    "# SETTING case specific variables \n",
    "case = 1\n",
    "seq_len = 10000\n",
    "vntr_len = 65\n",
    "coverage = 30\n",
    "\n",
    "# SETTING project specific variables \n",
    "proj_dir = '/frazer01/home/joreyna/repos/CSE-280a/Project/'\n",
    "sample = 'sequence_{}_case_{}'.format(seq_len, case)\n",
    "coverage_text = 'coverage_{}'.format(coverage)\n",
    "out_dir = os.path.join(proj_dir, 'output/pipeline/sample/',  sample + '/', coverage_text + '/')\n",
    "\n",
    "# WOA file\n",
    "wao_fn = os.path.join(out_dir, sample + '.wao')   \n",
    "\n",
    "# PARSE the bedtools intersect -wao result \n",
    "data = pd.read_table(wao_fn, header=None)\n",
    "data.columns = ['Map_Template', 'Map_Start', 'Map_End', 'Read_Name', \\\n",
    "                '4', 'Read_Orientation', '6', '7', '8', '9', \\\n",
    "                'Map_BPs_Aligned', '11', 'Bed_Template', 'Bed_Start', 'Bed_End', 'Overlap']\n",
    "data = data[['Map_Template', 'Map_Start', 'Map_End', 'Read_Name', \\\n",
    "                'Read_Orientation', 'Map_BPs_Aligned', 'Bed_Template', \\\n",
    "                 'Bed_Start', 'Bed_End', 'Overlap']]\n",
    "data['Map_Start'] = pd.to_numeric(data['Map_Start'])\n",
    "data['Map_End'] = pd.to_numeric(data['Map_End'])\n",
    "data['Map_BPs_Aligned'] = [int(x.replace(',', '')) for x in data['Map_BPs_Aligned']]\n",
    "data['Bed_Start'] = pd.to_numeric(data['Bed_Start'])\n",
    "data['Bed_End'] = pd.to_numeric(data['Bed_End'])\n",
    "data['Overlap'] = pd.to_numeric(data['Overlap'])\n",
    "\n",
    "# FILTER out reads whose mapping length is not 100 bp's \n",
    "data = data[(data['Map_BPs_Aligned'] <= 150) & (data['Map_BPs_Aligned'] >= 50)] \n",
    "\n",
    "# ADD a copy number column from the template sequence \n",
    "data['Map_Copy_Number'] = data['Map_Template'].str.extract('seq([0-9]*)', expand=True)\n",
    "data = data[['Map_Template',\n",
    " 'Map_Copy_Number',\n",
    " 'Map_Start',\n",
    " 'Map_End',\n",
    " 'Read_Name',\n",
    " 'Read_Orientation',\n",
    " 'Map_BPs_Aligned',\n",
    " 'Bed_Template',\n",
    " 'Bed_Start',\n",
    " 'Bed_End',\n",
    " 'Overlap',\n",
    " ]]\n",
    "data = data[data['Overlap'] > 0]"
   ]
  },
  {
   "cell_type": "code",
   "execution_count": 74,
   "metadata": {
    "collapsed": false
   },
   "outputs": [
    {
     "data": {
      "text/html": [
       "<div>\n",
       "<table border=\"1\" class=\"dataframe\">\n",
       "  <thead>\n",
       "    <tr style=\"text-align: right;\">\n",
       "      <th></th>\n",
       "      <th>Map_Template</th>\n",
       "      <th>Map_Copy_Number</th>\n",
       "      <th>Map_Start</th>\n",
       "      <th>Map_End</th>\n",
       "      <th>Read_Name</th>\n",
       "      <th>Read_Orientation</th>\n",
       "      <th>Map_BPs_Aligned</th>\n",
       "      <th>Bed_Template</th>\n",
       "      <th>Bed_Start</th>\n",
       "      <th>Bed_End</th>\n",
       "      <th>Overlap</th>\n",
       "      <th>Read_Overlap_Fraction</th>\n",
       "      <th>VNTR_Overlap_Fraction</th>\n",
       "      <th>Mapping_Status</th>\n",
       "    </tr>\n",
       "  </thead>\n",
       "  <tbody>\n",
       "    <tr>\n",
       "      <th>2035</th>\n",
       "      <td>seq1</td>\n",
       "      <td>1</td>\n",
       "      <td>4983</td>\n",
       "      <td>5133</td>\n",
       "      <td>seq1-1955</td>\n",
       "      <td>-</td>\n",
       "      <td>150</td>\n",
       "      <td>seq1</td>\n",
       "      <td>5000</td>\n",
       "      <td>5065</td>\n",
       "      <td>65</td>\n",
       "      <td>0.433333</td>\n",
       "      <td>1.000000</td>\n",
       "      <td>Spanning</td>\n",
       "    </tr>\n",
       "    <tr>\n",
       "      <th>2131</th>\n",
       "      <td>seq3</td>\n",
       "      <td>3</td>\n",
       "      <td>5170</td>\n",
       "      <td>5320</td>\n",
       "      <td>seq1-1859</td>\n",
       "      <td>+</td>\n",
       "      <td>150</td>\n",
       "      <td>seq3</td>\n",
       "      <td>5000</td>\n",
       "      <td>5195</td>\n",
       "      <td>25</td>\n",
       "      <td>0.166667</td>\n",
       "      <td>0.128205</td>\n",
       "      <td>Non-VNTR</td>\n",
       "    </tr>\n",
       "    <tr>\n",
       "      <th>2133</th>\n",
       "      <td>seq1</td>\n",
       "      <td>1</td>\n",
       "      <td>4984</td>\n",
       "      <td>5134</td>\n",
       "      <td>seq1-1857</td>\n",
       "      <td>+</td>\n",
       "      <td>150</td>\n",
       "      <td>seq1</td>\n",
       "      <td>5000</td>\n",
       "      <td>5065</td>\n",
       "      <td>65</td>\n",
       "      <td>0.433333</td>\n",
       "      <td>1.000000</td>\n",
       "      <td>Spanning</td>\n",
       "    </tr>\n",
       "    <tr>\n",
       "      <th>2180</th>\n",
       "      <td>seq1</td>\n",
       "      <td>1</td>\n",
       "      <td>4875</td>\n",
       "      <td>5025</td>\n",
       "      <td>seq1-1810</td>\n",
       "      <td>+</td>\n",
       "      <td>150</td>\n",
       "      <td>seq1</td>\n",
       "      <td>5000</td>\n",
       "      <td>5065</td>\n",
       "      <td>25</td>\n",
       "      <td>0.166667</td>\n",
       "      <td>0.384615</td>\n",
       "      <td>Non-VNTR</td>\n",
       "    </tr>\n",
       "    <tr>\n",
       "      <th>2183</th>\n",
       "      <td>seq3</td>\n",
       "      <td>3</td>\n",
       "      <td>4891</td>\n",
       "      <td>5041</td>\n",
       "      <td>seq1-1807</td>\n",
       "      <td>-</td>\n",
       "      <td>150</td>\n",
       "      <td>seq3</td>\n",
       "      <td>5000</td>\n",
       "      <td>5195</td>\n",
       "      <td>41</td>\n",
       "      <td>0.273333</td>\n",
       "      <td>0.210256</td>\n",
       "      <td>Junction</td>\n",
       "    </tr>\n",
       "    <tr>\n",
       "      <th>2195</th>\n",
       "      <td>seq1</td>\n",
       "      <td>1</td>\n",
       "      <td>4992</td>\n",
       "      <td>5142</td>\n",
       "      <td>seq1-1795</td>\n",
       "      <td>-</td>\n",
       "      <td>150</td>\n",
       "      <td>seq1</td>\n",
       "      <td>5000</td>\n",
       "      <td>5065</td>\n",
       "      <td>65</td>\n",
       "      <td>0.433333</td>\n",
       "      <td>1.000000</td>\n",
       "      <td>Spanning</td>\n",
       "    </tr>\n",
       "    <tr>\n",
       "      <th>2368</th>\n",
       "      <td>seq3</td>\n",
       "      <td>3</td>\n",
       "      <td>4890</td>\n",
       "      <td>5040</td>\n",
       "      <td>seq1-1622</td>\n",
       "      <td>-</td>\n",
       "      <td>150</td>\n",
       "      <td>seq3</td>\n",
       "      <td>5000</td>\n",
       "      <td>5195</td>\n",
       "      <td>40</td>\n",
       "      <td>0.266667</td>\n",
       "      <td>0.205128</td>\n",
       "      <td>Junction</td>\n",
       "    </tr>\n",
       "    <tr>\n",
       "      <th>2390</th>\n",
       "      <td>seq1</td>\n",
       "      <td>1</td>\n",
       "      <td>5004</td>\n",
       "      <td>5154</td>\n",
       "      <td>seq1-1600</td>\n",
       "      <td>-</td>\n",
       "      <td>150</td>\n",
       "      <td>seq1</td>\n",
       "      <td>5000</td>\n",
       "      <td>5065</td>\n",
       "      <td>61</td>\n",
       "      <td>0.406667</td>\n",
       "      <td>0.938462</td>\n",
       "      <td>Junction</td>\n",
       "    </tr>\n",
       "    <tr>\n",
       "      <th>2437</th>\n",
       "      <td>seq1</td>\n",
       "      <td>1</td>\n",
       "      <td>4979</td>\n",
       "      <td>5129</td>\n",
       "      <td>seq1-1553</td>\n",
       "      <td>-</td>\n",
       "      <td>150</td>\n",
       "      <td>seq1</td>\n",
       "      <td>5000</td>\n",
       "      <td>5065</td>\n",
       "      <td>65</td>\n",
       "      <td>0.433333</td>\n",
       "      <td>1.000000</td>\n",
       "      <td>Spanning</td>\n",
       "    </tr>\n",
       "    <tr>\n",
       "      <th>2466</th>\n",
       "      <td>seq3</td>\n",
       "      <td>3</td>\n",
       "      <td>4861</td>\n",
       "      <td>5011</td>\n",
       "      <td>seq1-1524</td>\n",
       "      <td>+</td>\n",
       "      <td>150</td>\n",
       "      <td>seq3</td>\n",
       "      <td>5000</td>\n",
       "      <td>5195</td>\n",
       "      <td>11</td>\n",
       "      <td>0.073333</td>\n",
       "      <td>0.056410</td>\n",
       "      <td>Non-VNTR</td>\n",
       "    </tr>\n",
       "  </tbody>\n",
       "</table>\n",
       "</div>"
      ],
      "text/plain": [
       "     Map_Template Map_Copy_Number  Map_Start  Map_End  Read_Name  \\\n",
       "2035         seq1               1       4983     5133  seq1-1955   \n",
       "2131         seq3               3       5170     5320  seq1-1859   \n",
       "2133         seq1               1       4984     5134  seq1-1857   \n",
       "2180         seq1               1       4875     5025  seq1-1810   \n",
       "2183         seq3               3       4891     5041  seq1-1807   \n",
       "2195         seq1               1       4992     5142  seq1-1795   \n",
       "2368         seq3               3       4890     5040  seq1-1622   \n",
       "2390         seq1               1       5004     5154  seq1-1600   \n",
       "2437         seq1               1       4979     5129  seq1-1553   \n",
       "2466         seq3               3       4861     5011  seq1-1524   \n",
       "\n",
       "     Read_Orientation  Map_BPs_Aligned Bed_Template  Bed_Start  Bed_End  \\\n",
       "2035                -              150         seq1       5000     5065   \n",
       "2131                +              150         seq3       5000     5195   \n",
       "2133                +              150         seq1       5000     5065   \n",
       "2180                +              150         seq1       5000     5065   \n",
       "2183                -              150         seq3       5000     5195   \n",
       "2195                -              150         seq1       5000     5065   \n",
       "2368                -              150         seq3       5000     5195   \n",
       "2390                -              150         seq1       5000     5065   \n",
       "2437                -              150         seq1       5000     5065   \n",
       "2466                +              150         seq3       5000     5195   \n",
       "\n",
       "      Overlap  Read_Overlap_Fraction  VNTR_Overlap_Fraction Mapping_Status  \n",
       "2035       65               0.433333               1.000000       Spanning  \n",
       "2131       25               0.166667               0.128205       Non-VNTR  \n",
       "2133       65               0.433333               1.000000       Spanning  \n",
       "2180       25               0.166667               0.384615       Non-VNTR  \n",
       "2183       41               0.273333               0.210256       Junction  \n",
       "2195       65               0.433333               1.000000       Spanning  \n",
       "2368       40               0.266667               0.205128       Junction  \n",
       "2390       61               0.406667               0.938462       Junction  \n",
       "2437       65               0.433333               1.000000       Spanning  \n",
       "2466       11               0.073333               0.056410       Non-VNTR  "
      ]
     },
     "execution_count": 74,
     "metadata": {},
     "output_type": "execute_result"
    }
   ],
   "source": [
    "data.head(10)"
   ]
  },
  {
   "cell_type": "markdown",
   "metadata": {},
   "source": [
    "## Location of reads on the template sequences"
   ]
  },
  {
   "cell_type": "code",
   "execution_count": 71,
   "metadata": {
    "collapsed": false
   },
   "outputs": [],
   "source": [
    "mapping_status = []\n",
    "read_overlap_frac = []\n",
    "vntr_overlap_frac = []\n",
    "for index, sr in data.iterrows():\n",
    "    if sr['Bed_End'] == -1:\n",
    "        read_overlap_fraction = np.nan\n",
    "        vntr_overlap_fraction = np.nan\n",
    "    else:\n",
    "        read_overlap_fraction = float(sr['Overlap']) / (sr['Map_End'] - sr['Map_Start'])\n",
    "        vntr_overlap_fraction = float(sr['Overlap']) / (sr['Bed_End'] - sr['Bed_Start'])\n",
    "        \n",
    "    read_overlap_frac.append(read_overlap_fraction)\n",
    "    vntr_overlap_frac.append(vntr_overlap_fraction)\n",
    "    \n",
    "    # Read completely spans the VNTR which occurs for copy number 1 and 2 \n",
    "    if sr['Bed_Start'] > sr['Map_Start'] and sr['Bed_End'] < sr['Map_End']: \n",
    "        mapping_status.append('Spanning')\n",
    "        \n",
    "    # Reads are completely in the VNTR\n",
    "    elif read_overlap_fraction == 1:\n",
    "        mapping_status.append('VNTR')\n",
    "        \n",
    "    # Reads are partially in the VNTR\n",
    "    elif read_overlap_fraction >= 0.20 and read_overlap_fraction < 1: \n",
    "        mapping_status.append('Junction')\n",
    "        \n",
    "    # Reads are completely outside of the VNTR   \n",
    "    elif read_overlap_fraction > 0 and read_overlap_fraction < 0.20: \n",
    "        mapping_status.append('Non-VNTR')\n",
    "        \n",
    "    # Hard call. We'll call it grey to filter out. \n",
    "    else:\n",
    "        mapping_status.append('Grey')\n",
    "        \n",
    "data['Read_Overlap_Fraction'] = read_overlap_frac\n",
    "data['VNTR_Overlap_Fraction'] = vntr_overlap_frac\n",
    "data['Mapping_Status'] = mapping_status\n",
    "data = data[data['Mapping_Status'] != 'Grey'] # FILTER out grey regions "
   ]
  },
  {
   "cell_type": "code",
   "execution_count": 72,
   "metadata": {
    "collapsed": false
   },
   "outputs": [
    {
     "data": {
      "text/html": [
       "<div>\n",
       "<table border=\"1\" class=\"dataframe\">\n",
       "  <thead>\n",
       "    <tr style=\"text-align: right;\">\n",
       "      <th></th>\n",
       "      <th>Map_Template</th>\n",
       "      <th>Map_Copy_Number</th>\n",
       "      <th>Map_Start</th>\n",
       "      <th>Map_End</th>\n",
       "      <th>Read_Name</th>\n",
       "      <th>Read_Orientation</th>\n",
       "      <th>Map_BPs_Aligned</th>\n",
       "      <th>Bed_Template</th>\n",
       "      <th>Bed_Start</th>\n",
       "      <th>Bed_End</th>\n",
       "      <th>Overlap</th>\n",
       "      <th>Read_Overlap_Fraction</th>\n",
       "      <th>VNTR_Overlap_Fraction</th>\n",
       "      <th>Mapping_Status</th>\n",
       "    </tr>\n",
       "  </thead>\n",
       "  <tbody>\n",
       "    <tr>\n",
       "      <th>2035</th>\n",
       "      <td>seq1</td>\n",
       "      <td>1</td>\n",
       "      <td>4983</td>\n",
       "      <td>5133</td>\n",
       "      <td>seq1-1955</td>\n",
       "      <td>-</td>\n",
       "      <td>150</td>\n",
       "      <td>seq1</td>\n",
       "      <td>5000</td>\n",
       "      <td>5065</td>\n",
       "      <td>65</td>\n",
       "      <td>0.433333</td>\n",
       "      <td>1.000000</td>\n",
       "      <td>Spanning</td>\n",
       "    </tr>\n",
       "    <tr>\n",
       "      <th>2131</th>\n",
       "      <td>seq3</td>\n",
       "      <td>3</td>\n",
       "      <td>5170</td>\n",
       "      <td>5320</td>\n",
       "      <td>seq1-1859</td>\n",
       "      <td>+</td>\n",
       "      <td>150</td>\n",
       "      <td>seq3</td>\n",
       "      <td>5000</td>\n",
       "      <td>5195</td>\n",
       "      <td>25</td>\n",
       "      <td>0.166667</td>\n",
       "      <td>0.128205</td>\n",
       "      <td>Non-VNTR</td>\n",
       "    </tr>\n",
       "    <tr>\n",
       "      <th>2133</th>\n",
       "      <td>seq1</td>\n",
       "      <td>1</td>\n",
       "      <td>4984</td>\n",
       "      <td>5134</td>\n",
       "      <td>seq1-1857</td>\n",
       "      <td>+</td>\n",
       "      <td>150</td>\n",
       "      <td>seq1</td>\n",
       "      <td>5000</td>\n",
       "      <td>5065</td>\n",
       "      <td>65</td>\n",
       "      <td>0.433333</td>\n",
       "      <td>1.000000</td>\n",
       "      <td>Spanning</td>\n",
       "    </tr>\n",
       "    <tr>\n",
       "      <th>2180</th>\n",
       "      <td>seq1</td>\n",
       "      <td>1</td>\n",
       "      <td>4875</td>\n",
       "      <td>5025</td>\n",
       "      <td>seq1-1810</td>\n",
       "      <td>+</td>\n",
       "      <td>150</td>\n",
       "      <td>seq1</td>\n",
       "      <td>5000</td>\n",
       "      <td>5065</td>\n",
       "      <td>25</td>\n",
       "      <td>0.166667</td>\n",
       "      <td>0.384615</td>\n",
       "      <td>Non-VNTR</td>\n",
       "    </tr>\n",
       "    <tr>\n",
       "      <th>2183</th>\n",
       "      <td>seq3</td>\n",
       "      <td>3</td>\n",
       "      <td>4891</td>\n",
       "      <td>5041</td>\n",
       "      <td>seq1-1807</td>\n",
       "      <td>-</td>\n",
       "      <td>150</td>\n",
       "      <td>seq3</td>\n",
       "      <td>5000</td>\n",
       "      <td>5195</td>\n",
       "      <td>41</td>\n",
       "      <td>0.273333</td>\n",
       "      <td>0.210256</td>\n",
       "      <td>Junction</td>\n",
       "    </tr>\n",
       "    <tr>\n",
       "      <th>2195</th>\n",
       "      <td>seq1</td>\n",
       "      <td>1</td>\n",
       "      <td>4992</td>\n",
       "      <td>5142</td>\n",
       "      <td>seq1-1795</td>\n",
       "      <td>-</td>\n",
       "      <td>150</td>\n",
       "      <td>seq1</td>\n",
       "      <td>5000</td>\n",
       "      <td>5065</td>\n",
       "      <td>65</td>\n",
       "      <td>0.433333</td>\n",
       "      <td>1.000000</td>\n",
       "      <td>Spanning</td>\n",
       "    </tr>\n",
       "    <tr>\n",
       "      <th>2368</th>\n",
       "      <td>seq3</td>\n",
       "      <td>3</td>\n",
       "      <td>4890</td>\n",
       "      <td>5040</td>\n",
       "      <td>seq1-1622</td>\n",
       "      <td>-</td>\n",
       "      <td>150</td>\n",
       "      <td>seq3</td>\n",
       "      <td>5000</td>\n",
       "      <td>5195</td>\n",
       "      <td>40</td>\n",
       "      <td>0.266667</td>\n",
       "      <td>0.205128</td>\n",
       "      <td>Junction</td>\n",
       "    </tr>\n",
       "    <tr>\n",
       "      <th>2390</th>\n",
       "      <td>seq1</td>\n",
       "      <td>1</td>\n",
       "      <td>5004</td>\n",
       "      <td>5154</td>\n",
       "      <td>seq1-1600</td>\n",
       "      <td>-</td>\n",
       "      <td>150</td>\n",
       "      <td>seq1</td>\n",
       "      <td>5000</td>\n",
       "      <td>5065</td>\n",
       "      <td>61</td>\n",
       "      <td>0.406667</td>\n",
       "      <td>0.938462</td>\n",
       "      <td>Junction</td>\n",
       "    </tr>\n",
       "    <tr>\n",
       "      <th>2437</th>\n",
       "      <td>seq1</td>\n",
       "      <td>1</td>\n",
       "      <td>4979</td>\n",
       "      <td>5129</td>\n",
       "      <td>seq1-1553</td>\n",
       "      <td>-</td>\n",
       "      <td>150</td>\n",
       "      <td>seq1</td>\n",
       "      <td>5000</td>\n",
       "      <td>5065</td>\n",
       "      <td>65</td>\n",
       "      <td>0.433333</td>\n",
       "      <td>1.000000</td>\n",
       "      <td>Spanning</td>\n",
       "    </tr>\n",
       "    <tr>\n",
       "      <th>2466</th>\n",
       "      <td>seq3</td>\n",
       "      <td>3</td>\n",
       "      <td>4861</td>\n",
       "      <td>5011</td>\n",
       "      <td>seq1-1524</td>\n",
       "      <td>+</td>\n",
       "      <td>150</td>\n",
       "      <td>seq3</td>\n",
       "      <td>5000</td>\n",
       "      <td>5195</td>\n",
       "      <td>11</td>\n",
       "      <td>0.073333</td>\n",
       "      <td>0.056410</td>\n",
       "      <td>Non-VNTR</td>\n",
       "    </tr>\n",
       "  </tbody>\n",
       "</table>\n",
       "</div>"
      ],
      "text/plain": [
       "     Map_Template Map_Copy_Number  Map_Start  Map_End  Read_Name  \\\n",
       "2035         seq1               1       4983     5133  seq1-1955   \n",
       "2131         seq3               3       5170     5320  seq1-1859   \n",
       "2133         seq1               1       4984     5134  seq1-1857   \n",
       "2180         seq1               1       4875     5025  seq1-1810   \n",
       "2183         seq3               3       4891     5041  seq1-1807   \n",
       "2195         seq1               1       4992     5142  seq1-1795   \n",
       "2368         seq3               3       4890     5040  seq1-1622   \n",
       "2390         seq1               1       5004     5154  seq1-1600   \n",
       "2437         seq1               1       4979     5129  seq1-1553   \n",
       "2466         seq3               3       4861     5011  seq1-1524   \n",
       "\n",
       "     Read_Orientation  Map_BPs_Aligned Bed_Template  Bed_Start  Bed_End  \\\n",
       "2035                -              150         seq1       5000     5065   \n",
       "2131                +              150         seq3       5000     5195   \n",
       "2133                +              150         seq1       5000     5065   \n",
       "2180                +              150         seq1       5000     5065   \n",
       "2183                -              150         seq3       5000     5195   \n",
       "2195                -              150         seq1       5000     5065   \n",
       "2368                -              150         seq3       5000     5195   \n",
       "2390                -              150         seq1       5000     5065   \n",
       "2437                -              150         seq1       5000     5065   \n",
       "2466                +              150         seq3       5000     5195   \n",
       "\n",
       "      Overlap  Read_Overlap_Fraction  VNTR_Overlap_Fraction Mapping_Status  \n",
       "2035       65               0.433333               1.000000       Spanning  \n",
       "2131       25               0.166667               0.128205       Non-VNTR  \n",
       "2133       65               0.433333               1.000000       Spanning  \n",
       "2180       25               0.166667               0.384615       Non-VNTR  \n",
       "2183       41               0.273333               0.210256       Junction  \n",
       "2195       65               0.433333               1.000000       Spanning  \n",
       "2368       40               0.266667               0.205128       Junction  \n",
       "2390       61               0.406667               0.938462       Junction  \n",
       "2437       65               0.433333               1.000000       Spanning  \n",
       "2466       11               0.073333               0.056410       Non-VNTR  "
      ]
     },
     "execution_count": 72,
     "metadata": {},
     "output_type": "execute_result"
    }
   ],
   "source": [
    "data.head(10)"
   ]
  },
  {
   "cell_type": "markdown",
   "metadata": {},
   "source": [
    "## Old Algorithm for determining copy number (incomplete)"
   ]
  },
  {
   "cell_type": "code",
   "execution_count": 75,
   "metadata": {
    "collapsed": false
   },
   "outputs": [],
   "source": [
    "map_grp = data.groupby('Mapping_Status')\n",
    "mapping_statuses = map_grp.groups.keys()\n",
    "total_spanning_templates = len(map_grp.get_group('Spanning')['Map_Copy_Number'].unique())\n",
    "copy_number = '?'\n",
    "if len(mapping_statuses) == 1 and 'Non-VNTR' in mapping_statuses:\n",
    "    copy_number = 0\n",
    "elif len(mapping_statuses) == 2 and 'Junction' in mapping_statuses:\n",
    "    copy_number = 1\n",
    "elif total_spanning_templates == 2:\n",
    "    copy_number = 2"
   ]
  },
  {
   "cell_type": "code",
   "execution_count": 76,
   "metadata": {
    "collapsed": false
   },
   "outputs": [
    {
     "data": {
      "text/plain": [
       "2"
      ]
     },
     "execution_count": 76,
     "metadata": {},
     "output_type": "execute_result"
    }
   ],
   "source": [
    "copy_number"
   ]
  },
  {
   "cell_type": "code",
   "execution_count": 77,
   "metadata": {
    "collapsed": false
   },
   "outputs": [
    {
     "data": {
      "text/plain": [
       "['Junction', 'Spanning', 'Non-VNTR', 'VNTR']"
      ]
     },
     "execution_count": 77,
     "metadata": {},
     "output_type": "execute_result"
    }
   ],
   "source": [
    "mapping_statuses"
   ]
  },
  {
   "cell_type": "code",
   "execution_count": 78,
   "metadata": {
    "collapsed": false
   },
   "outputs": [],
   "source": [
    "spanning = map_grp.get_group('Spanning').sort_values('Map_Copy_Number')"
   ]
  },
  {
   "cell_type": "code",
   "execution_count": 79,
   "metadata": {
    "collapsed": true
   },
   "outputs": [],
   "source": [
    "vntr = map_grp.get_group('VNTR').sort_values('Map_Copy_Number')\n",
    "vntr_mt_grp = vntr.groupby('Map_Copy_Number')\n",
    "vntr_mt_count = vntr_mt_grp.count()['Map_Template'].to_frame()\n",
    "vntr_mt_count.columns = ['Counts']\n",
    "#vntr_mt_count.columns = ['Counts']\n",
    "vntr_mt_count['Read_Per_Copy'] = [sr['Counts']/int(index) for index, sr in vntr_mt_count.iterrows() ]\n",
    "vntr_mt_count['Counts_Norm_by_Length'] = \\\n",
    "    [float(sr['Counts'])/(int(index)  * vntr_len) for index , sr in vntr_mt_count.iterrows() ]"
   ]
  },
  {
   "cell_type": "code",
   "execution_count": 80,
   "metadata": {
    "collapsed": false
   },
   "outputs": [
    {
     "data": {
      "text/html": [
       "<div>\n",
       "<table border=\"1\" class=\"dataframe\">\n",
       "  <thead>\n",
       "    <tr style=\"text-align: right;\">\n",
       "      <th></th>\n",
       "      <th>Counts</th>\n",
       "      <th>Read_Per_Copy</th>\n",
       "      <th>Counts_Norm_by_Length</th>\n",
       "    </tr>\n",
       "    <tr>\n",
       "      <th>Map_Copy_Number</th>\n",
       "      <th></th>\n",
       "      <th></th>\n",
       "      <th></th>\n",
       "    </tr>\n",
       "  </thead>\n",
       "  <tbody>\n",
       "    <tr>\n",
       "      <th>3</th>\n",
       "      <td>12</td>\n",
       "      <td>4</td>\n",
       "      <td>0.061538</td>\n",
       "    </tr>\n",
       "  </tbody>\n",
       "</table>\n",
       "</div>"
      ],
      "text/plain": [
       "                 Counts  Read_Per_Copy  Counts_Norm_by_Length\n",
       "Map_Copy_Number                                              \n",
       "3                    12              4               0.061538"
      ]
     },
     "execution_count": 80,
     "metadata": {},
     "output_type": "execute_result"
    }
   ],
   "source": [
    "vntr_mt_count"
   ]
  },
  {
   "cell_type": "code",
   "execution_count": null,
   "metadata": {
    "collapsed": true
   },
   "outputs": [],
   "source": []
  },
  {
   "cell_type": "code",
   "execution_count": null,
   "metadata": {
    "collapsed": true
   },
   "outputs": [],
   "source": []
  },
  {
   "cell_type": "code",
   "execution_count": null,
   "metadata": {
    "collapsed": true
   },
   "outputs": [],
   "source": []
  },
  {
   "cell_type": "code",
   "execution_count": null,
   "metadata": {
    "collapsed": true
   },
   "outputs": [],
   "source": []
  },
  {
   "cell_type": "code",
   "execution_count": null,
   "metadata": {
    "collapsed": true
   },
   "outputs": [],
   "source": []
  },
  {
   "cell_type": "code",
   "execution_count": null,
   "metadata": {
    "collapsed": true
   },
   "outputs": [],
   "source": []
  },
  {
   "cell_type": "code",
   "execution_count": null,
   "metadata": {
    "collapsed": true
   },
   "outputs": [],
   "source": []
  },
  {
   "cell_type": "code",
   "execution_count": null,
   "metadata": {
    "collapsed": true
   },
   "outputs": [],
   "source": []
  },
  {
   "cell_type": "code",
   "execution_count": null,
   "metadata": {
    "collapsed": true
   },
   "outputs": [],
   "source": []
  },
  {
   "cell_type": "code",
   "execution_count": null,
   "metadata": {
    "collapsed": true
   },
   "outputs": [],
   "source": []
  },
  {
   "cell_type": "code",
   "execution_count": null,
   "metadata": {
    "collapsed": true
   },
   "outputs": [],
   "source": []
  },
  {
   "cell_type": "code",
   "execution_count": null,
   "metadata": {
    "collapsed": true
   },
   "outputs": [],
   "source": []
  }
 ],
 "metadata": {
  "kernelspec": {
   "display_name": "Python (hla)",
   "language": "python",
   "name": "hla"
  },
  "language_info": {
   "codemirror_mode": {
    "name": "ipython",
    "version": 2
   },
   "file_extension": ".py",
   "mimetype": "text/x-python",
   "name": "python",
   "nbconvert_exporter": "python",
   "pygments_lexer": "ipython2",
   "version": "2.7.11"
  }
 },
 "nbformat": 4,
 "nbformat_minor": 0
}
