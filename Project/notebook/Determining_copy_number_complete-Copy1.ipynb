{
 "cells": [
  {
   "cell_type": "code",
   "execution_count": null,
   "metadata": {
    "collapsed": true
   },
   "outputs": [],
   "source": [
    "import os\n",
    "import pandas as pd \n",
    "import math\n",
    "import os\n",
    "import numpy as np\n",
    "\n",
    "# If bed_start and bed_end are -1 that means that the alignment does not map to the interval. \n",
    "# Another way you can come to this conclusion is by calculating the fraction of the read that\n",
    "# overlaps and setting some cutoffs for what you consider VNTR, junction and Non-VNTR. \n",
    "\n",
    "# SETTING case specific variables \n",
    "case = 1\n",
    "seq_len = 10000\n",
    "vntr_len = 65\n",
    "coverage = 30\n",
    "\n",
    "# SETTING project specific variables \n",
    "proj_dir = '/frazer01/home/joreyna/repos/CSE-280a/Project/'\n",
    "sample = 'sequence_{}_case_{}'.format(seq_len, case)\n",
    "coverage_text = 'coverage_{}'.format(coverage)\n",
    "out_dir = os.path.join(proj_dir, 'output/pipeline/sample/',  sample + '/', coverage_text + '/')"
   ]
  },
  {
   "cell_type": "code",
   "execution_count": null,
   "metadata": {
    "collapsed": true
   },
   "outputs": [],
   "source": []
  },
  {
   "cell_type": "code",
   "execution_count": null,
   "metadata": {
    "collapsed": true
   },
   "outputs": [],
   "source": []
  },
  {
   "cell_type": "code",
   "execution_count": null,
   "metadata": {
    "collapsed": true
   },
   "outputs": [],
   "source": []
  },
  {
   "cell_type": "code",
   "execution_count": null,
   "metadata": {
    "collapsed": true
   },
   "outputs": [],
   "source": []
  },
  {
   "cell_type": "code",
   "execution_count": null,
   "metadata": {
    "collapsed": true
   },
   "outputs": [],
   "source": []
  },
  {
   "cell_type": "code",
   "execution_count": null,
   "metadata": {
    "collapsed": true
   },
   "outputs": [],
   "source": []
  },
  {
   "cell_type": "code",
   "execution_count": null,
   "metadata": {
    "collapsed": true
   },
   "outputs": [],
   "source": []
  }
 ],
 "metadata": {
  "kernelspec": {
   "display_name": "Python (hla)",
   "language": "python",
   "name": "hla"
  },
  "language_info": {
   "codemirror_mode": {
    "name": "ipython",
    "version": 2
   },
   "file_extension": ".py",
   "mimetype": "text/x-python",
   "name": "python",
   "nbconvert_exporter": "python",
   "pygments_lexer": "ipython2",
   "version": "2.7.11"
  }
 },
 "nbformat": 4,
 "nbformat_minor": 0
}
