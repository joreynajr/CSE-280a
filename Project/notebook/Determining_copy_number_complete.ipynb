{
 "cells": [
  {
   "cell_type": "code",
   "execution_count": 1,
   "metadata": {
    "collapsed": true
   },
   "outputs": [],
   "source": [
    "import os\n",
    "import pandas as pd \n",
    "import math\n",
    "import os\n",
    "import numpy as np\n",
    "\n",
    "# If bed_start and bed_end are -1 that means that the alignment does not map to the interval. \n",
    "# Another way you can come to this conclusion is by calculating the fraction of the read that\n",
    "# overlaps and setting some cutoffs for what you consider VNTR, junction and Non-VNTR. \n",
    "\n",
    "# SETTING case specific variables \n",
    "case = 1\n",
    "seq_len = 10000\n",
    "vntr_len = 65\n",
    "coverage = 30\n",
    "\n",
    "# SETTING project specific variables \n",
    "proj_dir = '/frazer01/home/joreyna/repos/CSE-280a/Project/'\n",
    "sample = 'sequence_{}_case_{}'.format(seq_len, case)\n",
    "coverage_text = 'coverage_{}'.format(coverage)\n",
    "out_dir = os.path.join(proj_dir, 'output/pipeline/sample/',  sample + '/', coverage_text + '/')\n",
    "\n",
    "# WOA file\n",
    "wao_fn = os.path.join(out_dir, sample + '.wao')   \n",
    "\n",
    "# PARSE the bedtools intersect -wao result \n",
    "data = pd.read_table(wao_fn, header=None)\n",
    "data.columns = ['Map_Template', 'Map_Start', 'Map_End', 'Read_Name', \\\n",
    "                '4', 'Read_Orientation', '6', '7', '8', '9', \\\n",
    "                'Map_BPs_Aligned', '11', 'Bed_Template', 'Bed_Start', 'Bed_End', 'Overlap']\n",
    "data = data[['Map_Template', 'Map_Start', 'Map_End', 'Read_Name', \\\n",
    "                'Read_Orientation', 'Map_BPs_Aligned', 'Bed_Template', \\\n",
    "                 'Bed_Start', 'Bed_End', 'Overlap']]\n",
    "data['Map_Start'] = pd.to_numeric(data['Map_Start'])\n",
    "data['Map_End'] = pd.to_numeric(data['Map_End'])\n",
    "data['Map_BPs_Aligned'] = [int(x.replace(',', '')) for x in data['Map_BPs_Aligned']]\n",
    "data['Bed_Start'] = pd.to_numeric(data['Bed_Start'])\n",
    "data['Bed_End'] = pd.to_numeric(data['Bed_End'])\n",
    "data['Overlap'] = pd.to_numeric(data['Overlap'])\n",
    "\n",
    "# FILTER out reads whose mapping length is not 100 bp's \n",
    "#data = data[(data['Map_BPs_Aligned'] <= 150) & (data['Map_BPs_Aligned'] >= 50)] \n",
    "\n",
    "# ADD a copy number column from the template sequence \n",
    "data['Map_Copy_Number'] = data['Map_Template'].str.extract('seq([0-9]*)', expand=True)\n",
    "data = data[['Map_Copy_Number',\n",
    " 'Map_Template',\n",
    " 'Map_Start',\n",
    " 'Map_End',\n",
    " 'Read_Name',\n",
    " 'Read_Orientation',\n",
    " 'Map_BPs_Aligned',\n",
    " 'Bed_Template',\n",
    " 'Bed_Start',\n",
    " 'Bed_End',\n",
    " 'Overlap',\n",
    " ]]"
   ]
  },
  {
   "cell_type": "code",
   "execution_count": 2,
   "metadata": {
    "collapsed": false
   },
   "outputs": [
    {
     "data": {
      "text/html": [
       "<div>\n",
       "<table border=\"1\" class=\"dataframe\">\n",
       "  <thead>\n",
       "    <tr style=\"text-align: right;\">\n",
       "      <th></th>\n",
       "      <th>Map_Copy_Number</th>\n",
       "      <th>Map_Template</th>\n",
       "      <th>Map_Start</th>\n",
       "      <th>Map_End</th>\n",
       "      <th>Read_Name</th>\n",
       "      <th>Read_Orientation</th>\n",
       "      <th>Map_BPs_Aligned</th>\n",
       "      <th>Bed_Template</th>\n",
       "      <th>Bed_Start</th>\n",
       "      <th>Bed_End</th>\n",
       "      <th>Overlap</th>\n",
       "    </tr>\n",
       "  </thead>\n",
       "  <tbody>\n",
       "    <tr>\n",
       "      <th>0</th>\n",
       "      <td>1</td>\n",
       "      <td>seq1</td>\n",
       "      <td>9802</td>\n",
       "      <td>9952</td>\n",
       "      <td>seq0-1980</td>\n",
       "      <td>+</td>\n",
       "      <td>150</td>\n",
       "      <td>.</td>\n",
       "      <td>-1</td>\n",
       "      <td>-1</td>\n",
       "      <td>0</td>\n",
       "    </tr>\n",
       "    <tr>\n",
       "      <th>1</th>\n",
       "      <td>3</td>\n",
       "      <td>seq3</td>\n",
       "      <td>9368</td>\n",
       "      <td>9518</td>\n",
       "      <td>seq0-1979</td>\n",
       "      <td>-</td>\n",
       "      <td>150</td>\n",
       "      <td>.</td>\n",
       "      <td>-1</td>\n",
       "      <td>-1</td>\n",
       "      <td>0</td>\n",
       "    </tr>\n",
       "    <tr>\n",
       "      <th>2</th>\n",
       "      <td>2</td>\n",
       "      <td>seq2</td>\n",
       "      <td>8800</td>\n",
       "      <td>8950</td>\n",
       "      <td>seq0-1978</td>\n",
       "      <td>+</td>\n",
       "      <td>150</td>\n",
       "      <td>.</td>\n",
       "      <td>-1</td>\n",
       "      <td>-1</td>\n",
       "      <td>0</td>\n",
       "    </tr>\n",
       "    <tr>\n",
       "      <th>3</th>\n",
       "      <td>0</td>\n",
       "      <td>seq0</td>\n",
       "      <td>622</td>\n",
       "      <td>772</td>\n",
       "      <td>seq0-1977</td>\n",
       "      <td>-</td>\n",
       "      <td>150</td>\n",
       "      <td>.</td>\n",
       "      <td>-1</td>\n",
       "      <td>-1</td>\n",
       "      <td>0</td>\n",
       "    </tr>\n",
       "    <tr>\n",
       "      <th>4</th>\n",
       "      <td>2</td>\n",
       "      <td>seq2</td>\n",
       "      <td>4593</td>\n",
       "      <td>4743</td>\n",
       "      <td>seq0-1976</td>\n",
       "      <td>+</td>\n",
       "      <td>150</td>\n",
       "      <td>.</td>\n",
       "      <td>-1</td>\n",
       "      <td>-1</td>\n",
       "      <td>0</td>\n",
       "    </tr>\n",
       "    <tr>\n",
       "      <th>5</th>\n",
       "      <td>2</td>\n",
       "      <td>seq2</td>\n",
       "      <td>2692</td>\n",
       "      <td>2842</td>\n",
       "      <td>seq0-1975</td>\n",
       "      <td>-</td>\n",
       "      <td>150</td>\n",
       "      <td>.</td>\n",
       "      <td>-1</td>\n",
       "      <td>-1</td>\n",
       "      <td>0</td>\n",
       "    </tr>\n",
       "    <tr>\n",
       "      <th>6</th>\n",
       "      <td>0</td>\n",
       "      <td>seq0</td>\n",
       "      <td>8939</td>\n",
       "      <td>9089</td>\n",
       "      <td>seq0-1974</td>\n",
       "      <td>-</td>\n",
       "      <td>150</td>\n",
       "      <td>.</td>\n",
       "      <td>-1</td>\n",
       "      <td>-1</td>\n",
       "      <td>0</td>\n",
       "    </tr>\n",
       "    <tr>\n",
       "      <th>7</th>\n",
       "      <td>2</td>\n",
       "      <td>seq2</td>\n",
       "      <td>715</td>\n",
       "      <td>865</td>\n",
       "      <td>seq0-1973</td>\n",
       "      <td>+</td>\n",
       "      <td>150</td>\n",
       "      <td>.</td>\n",
       "      <td>-1</td>\n",
       "      <td>-1</td>\n",
       "      <td>0</td>\n",
       "    </tr>\n",
       "    <tr>\n",
       "      <th>8</th>\n",
       "      <td>2</td>\n",
       "      <td>seq2</td>\n",
       "      <td>6879</td>\n",
       "      <td>7029</td>\n",
       "      <td>seq0-1972</td>\n",
       "      <td>-</td>\n",
       "      <td>150</td>\n",
       "      <td>.</td>\n",
       "      <td>-1</td>\n",
       "      <td>-1</td>\n",
       "      <td>0</td>\n",
       "    </tr>\n",
       "    <tr>\n",
       "      <th>9</th>\n",
       "      <td>3</td>\n",
       "      <td>seq3</td>\n",
       "      <td>4585</td>\n",
       "      <td>4735</td>\n",
       "      <td>seq0-1971</td>\n",
       "      <td>-</td>\n",
       "      <td>150</td>\n",
       "      <td>.</td>\n",
       "      <td>-1</td>\n",
       "      <td>-1</td>\n",
       "      <td>0</td>\n",
       "    </tr>\n",
       "  </tbody>\n",
       "</table>\n",
       "</div>"
      ],
      "text/plain": [
       "  Map_Copy_Number Map_Template  Map_Start  Map_End  Read_Name  \\\n",
       "0               1         seq1       9802     9952  seq0-1980   \n",
       "1               3         seq3       9368     9518  seq0-1979   \n",
       "2               2         seq2       8800     8950  seq0-1978   \n",
       "3               0         seq0        622      772  seq0-1977   \n",
       "4               2         seq2       4593     4743  seq0-1976   \n",
       "5               2         seq2       2692     2842  seq0-1975   \n",
       "6               0         seq0       8939     9089  seq0-1974   \n",
       "7               2         seq2        715      865  seq0-1973   \n",
       "8               2         seq2       6879     7029  seq0-1972   \n",
       "9               3         seq3       4585     4735  seq0-1971   \n",
       "\n",
       "  Read_Orientation  Map_BPs_Aligned Bed_Template  Bed_Start  Bed_End  Overlap  \n",
       "0                +              150            .         -1       -1        0  \n",
       "1                -              150            .         -1       -1        0  \n",
       "2                +              150            .         -1       -1        0  \n",
       "3                -              150            .         -1       -1        0  \n",
       "4                +              150            .         -1       -1        0  \n",
       "5                -              150            .         -1       -1        0  \n",
       "6                -              150            .         -1       -1        0  \n",
       "7                +              150            .         -1       -1        0  \n",
       "8                -              150            .         -1       -1        0  \n",
       "9                -              150            .         -1       -1        0  "
      ]
     },
     "execution_count": 2,
     "metadata": {},
     "output_type": "execute_result"
    }
   ],
   "source": [
    "data.head(10)"
   ]
  },
  {
   "cell_type": "code",
   "execution_count": null,
   "metadata": {
    "collapsed": true
   },
   "outputs": [],
   "source": []
  },
  {
   "cell_type": "code",
   "execution_count": null,
   "metadata": {
    "collapsed": true
   },
   "outputs": [],
   "source": []
  },
  {
   "cell_type": "code",
   "execution_count": null,
   "metadata": {
    "collapsed": true
   },
   "outputs": [],
   "source": []
  },
  {
   "cell_type": "code",
   "execution_count": null,
   "metadata": {
    "collapsed": true
   },
   "outputs": [],
   "source": []
  },
  {
   "cell_type": "code",
   "execution_count": null,
   "metadata": {
    "collapsed": true
   },
   "outputs": [],
   "source": []
  },
  {
   "cell_type": "code",
   "execution_count": null,
   "metadata": {
    "collapsed": true
   },
   "outputs": [],
   "source": []
  },
  {
   "cell_type": "code",
   "execution_count": null,
   "metadata": {
    "collapsed": false
   },
   "outputs": [],
   "source": [
    "vntr_read_count_sum = data['VNTR_Read_Count'].sum()\n",
    "vntr_read_count_lnorm = vntr_read_count_sum / 65\n",
    "\n",
    "non_vntr_read_count_sum = data['Non-VNTR_Read_Count'].sum()\n",
    "non_vntr_read_count_lnorm = non_vntr_read_count_sum / 10000\n",
    "\n",
    "copy_number = str(vntr_read_count_lnorm / non_vntr_read_count_lnorm)"
   ]
  },
  {
   "cell_type": "code",
   "execution_count": null,
   "metadata": {
    "collapsed": false
   },
   "outputs": [],
   "source": [
    "copy_number"
   ]
  },
  {
   "cell_type": "code",
   "execution_count": null,
   "metadata": {
    "collapsed": false
   },
   "outputs": [],
   "source": [
    "print('vntr_read_count_sum: {} \\n'.format(vntr_read_count_sum))\n",
    "print('vntr_read_count_lnorm: {} \\n'.format(vntr_read_count_lnorm))\n",
    "print('non_vntr_read_count_sum: {} \\n'.format(non_vntr_read_count_sum))\n",
    "print('non_vntr_read_count_lnorm: {} \\n'.format(non_vntr_read_count_lnorm))\n",
    "print('copy_number: {} '.format(copy_number))"
   ]
  },
  {
   "cell_type": "code",
   "execution_count": null,
   "metadata": {
    "collapsed": false
   },
   "outputs": [],
   "source": [
    "8000*3"
   ]
  },
  {
   "cell_type": "code",
   "execution_count": null,
   "metadata": {
    "collapsed": true
   },
   "outputs": [],
   "source": [
    "10000 * "
   ]
  },
  {
   "cell_type": "code",
   "execution_count": null,
   "metadata": {
    "collapsed": true
   },
   "outputs": [],
   "source": [
    "7920 /  = 30"
   ]
  },
  {
   "cell_type": "code",
   "execution_count": null,
   "metadata": {
    "collapsed": false
   },
   "outputs": [],
   "source": [
    "7920 / 30 "
   ]
  },
  {
   "cell_type": "code",
   "execution_count": null,
   "metadata": {
    "collapsed": true
   },
   "outputs": [],
   "source": []
  },
  {
   "cell_type": "code",
   "execution_count": null,
   "metadata": {
    "collapsed": true
   },
   "outputs": [],
   "source": []
  },
  {
   "cell_type": "code",
   "execution_count": null,
   "metadata": {
    "collapsed": true
   },
   "outputs": [],
   "source": []
  },
  {
   "cell_type": "code",
   "execution_count": null,
   "metadata": {
    "collapsed": true
   },
   "outputs": [],
   "source": []
  },
  {
   "cell_type": "code",
   "execution_count": null,
   "metadata": {
    "collapsed": true
   },
   "outputs": [],
   "source": [
    "copy_number = data['VNTR_Read_Count'].sum() / data['Non-VNTR_Read_Count'].sum()"
   ]
  },
  {
   "cell_type": "code",
   "execution_count": null,
   "metadata": {
    "collapsed": false
   },
   "outputs": [],
   "source": [
    "copy_number"
   ]
  },
  {
   "cell_type": "code",
   "execution_count": null,
   "metadata": {
    "collapsed": true
   },
   "outputs": [],
   "source": []
  },
  {
   "cell_type": "code",
   "execution_count": null,
   "metadata": {
    "collapsed": true
   },
   "outputs": [],
   "source": []
  },
  {
   "cell_type": "code",
   "execution_count": null,
   "metadata": {
    "collapsed": true
   },
   "outputs": [],
   "source": []
  },
  {
   "cell_type": "code",
   "execution_count": null,
   "metadata": {
    "collapsed": true
   },
   "outputs": [],
   "source": []
  },
  {
   "cell_type": "code",
   "execution_count": null,
   "metadata": {
    "collapsed": true
   },
   "outputs": [],
   "source": []
  },
  {
   "cell_type": "code",
   "execution_count": null,
   "metadata": {
    "collapsed": true
   },
   "outputs": [],
   "source": []
  },
  {
   "cell_type": "code",
   "execution_count": null,
   "metadata": {
    "collapsed": true
   },
   "outputs": [],
   "source": []
  },
  {
   "cell_type": "code",
   "execution_count": null,
   "metadata": {
    "collapsed": true
   },
   "outputs": [],
   "source": []
  },
  {
   "cell_type": "code",
   "execution_count": null,
   "metadata": {
    "collapsed": true
   },
   "outputs": [],
   "source": []
  },
  {
   "cell_type": "code",
   "execution_count": null,
   "metadata": {
    "collapsed": true
   },
   "outputs": [],
   "source": []
  },
  {
   "cell_type": "code",
   "execution_count": null,
   "metadata": {
    "collapsed": true
   },
   "outputs": [],
   "source": []
  },
  {
   "cell_type": "code",
   "execution_count": null,
   "metadata": {
    "collapsed": true
   },
   "outputs": [],
   "source": []
  },
  {
   "cell_type": "code",
   "execution_count": null,
   "metadata": {
    "collapsed": true
   },
   "outputs": [],
   "source": []
  },
  {
   "cell_type": "code",
   "execution_count": null,
   "metadata": {
    "collapsed": true
   },
   "outputs": [],
   "source": []
  },
  {
   "cell_type": "code",
   "execution_count": null,
   "metadata": {
    "collapsed": true
   },
   "outputs": [],
   "source": []
  },
  {
   "cell_type": "code",
   "execution_count": null,
   "metadata": {
    "collapsed": true
   },
   "outputs": [],
   "source": []
  },
  {
   "cell_type": "code",
   "execution_count": null,
   "metadata": {
    "collapsed": true
   },
   "outputs": [],
   "source": []
  },
  {
   "cell_type": "code",
   "execution_count": null,
   "metadata": {
    "collapsed": true
   },
   "outputs": [],
   "source": []
  },
  {
   "cell_type": "code",
   "execution_count": null,
   "metadata": {
    "collapsed": true
   },
   "outputs": [],
   "source": []
  },
  {
   "cell_type": "code",
   "execution_count": null,
   "metadata": {
    "collapsed": true
   },
   "outputs": [],
   "source": []
  },
  {
   "cell_type": "code",
   "execution_count": null,
   "metadata": {
    "collapsed": true
   },
   "outputs": [],
   "source": []
  },
  {
   "cell_type": "code",
   "execution_count": null,
   "metadata": {
    "collapsed": true
   },
   "outputs": [],
   "source": []
  },
  {
   "cell_type": "code",
   "execution_count": null,
   "metadata": {
    "collapsed": true
   },
   "outputs": [],
   "source": []
  },
  {
   "cell_type": "code",
   "execution_count": null,
   "metadata": {
    "collapsed": true
   },
   "outputs": [],
   "source": []
  },
  {
   "cell_type": "code",
   "execution_count": null,
   "metadata": {
    "collapsed": true
   },
   "outputs": [],
   "source": []
  }
 ],
 "metadata": {
  "kernelspec": {
   "display_name": "Python (hla)",
   "language": "python",
   "name": "hla"
  },
  "language_info": {
   "codemirror_mode": {
    "name": "ipython",
    "version": 2
   },
   "file_extension": ".py",
   "mimetype": "text/x-python",
   "name": "python",
   "nbconvert_exporter": "python",
   "pygments_lexer": "ipython2",
   "version": "2.7.11"
  }
 },
 "nbformat": 4,
 "nbformat_minor": 0
}
