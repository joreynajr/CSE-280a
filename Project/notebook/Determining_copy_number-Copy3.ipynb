{
 "cells": [
  {
   "cell_type": "code",
   "execution_count": 1,
   "metadata": {
    "collapsed": true
   },
   "outputs": [],
   "source": [
    "import os\n",
    "import pandas as pd \n",
    "import math\n",
    "import os\n",
    "import numpy as np"
   ]
  },
  {
   "cell_type": "markdown",
   "metadata": {},
   "source": [
    "If bed_start and bed_end are -1 that means that the alignment does not map to the interval. Another way you can come to this conclusion is by calculating the fraction of the read that overlaps and setting some cutoffs for what you consider VNTR, junction and Non-VNTR. "
   ]
  },
  {
   "cell_type": "code",
   "execution_count": 16,
   "metadata": {
    "collapsed": true
   },
   "outputs": [],
   "source": [
    "# SETTING case specific variables \n",
    "case = 1\n",
    "seq_len = 10000\n",
    "vntr_len = 65\n",
    "coverage = 30\n",
    "\n",
    "# SETTING project specific variables \n",
    "proj_dir = '/frazer01/home/joreyna/repos/CSE-280a/Project/'\n",
    "sample = 'sequence_{}_case_{}'.format(seq_len, case)\n",
    "coverage_text = 'coverage_{}'.format(coverage)\n",
    "out_dir = os.path.join(proj_dir, 'output/pipeline/sample/',  sample + '/', coverage_text + '/')\n",
    "\n",
    "# WOA file\n",
    "wao_fn = os.path.join(out_dir, sample + '.wao')   \n",
    "\n",
    "# PARSE the bedtools intersect -wao result \n",
    "data = pd.read_table(wao_fn, header=None)\n",
    "data.columns = ['Map_Template', 'Map_Start', 'Map_End', 'Read_Name', \\\n",
    "                '4', 'Read_Orientation', '6', '7', '8', '9', \\\n",
    "                'Map_BPs_Aligned', '11', 'Bed_Template', 'Bed_Start', 'Bed_End', 'Overlap']\n",
    "data = data[['Map_Template', 'Map_Start', 'Map_End', 'Read_Name', \\\n",
    "                'Read_Orientation', 'Map_BPs_Aligned', 'Bed_Template', \\\n",
    "                 'Bed_Start', 'Bed_End', 'Overlap']]\n",
    "data['Map_Start'] = pd.to_numeric(data['Map_Start'])\n",
    "data['Map_End'] = pd.to_numeric(data['Map_End'])\n",
    "data['Map_BPs_Aligned'] = [int(x.replace(',', '')) for x in data['Map_BPs_Aligned']]\n",
    "data['Bed_Start'] = pd.to_numeric(data['Bed_Start'])\n",
    "data['Bed_End'] = pd.to_numeric(data['Bed_End'])\n",
    "data['Overlap'] = pd.to_numeric(data['Overlap'])\n",
    "\n",
    "# FILTER out reads whose mapping length is not 100 bp's \n",
    "data = data[(data['Map_BPs_Aligned'] <= 150) & (data['Map_BPs_Aligned'] >= 50)] \n",
    "\n",
    "# ADD a copy number column from the template sequence \n",
    "data['Map_Copy_Number'] = data['Map_Template'].str.extract('seq([0-9]*)', expand=True)\n",
    "data = data[['Map_Template',\n",
    " 'Map_Copy_Number',\n",
    " 'Map_Start',\n",
    " 'Map_End',\n",
    " 'Read_Name',\n",
    " 'Read_Orientation',\n",
    " 'Map_BPs_Aligned',\n",
    " 'Bed_Template',\n",
    " 'Bed_Start',\n",
    " 'Bed_End',\n",
    " 'Overlap',\n",
    " ]]\n",
    "data = data[data['Overlap'] > 0]"
   ]
  },
  {
   "cell_type": "code",
   "execution_count": 17,
   "metadata": {
    "collapsed": false
   },
   "outputs": [
    {
     "data": {
      "text/html": [
       "<div>\n",
       "<table border=\"1\" class=\"dataframe\">\n",
       "  <thead>\n",
       "    <tr style=\"text-align: right;\">\n",
       "      <th></th>\n",
       "      <th>Map_Template</th>\n",
       "      <th>Map_Copy_Number</th>\n",
       "      <th>Map_Start</th>\n",
       "      <th>Map_End</th>\n",
       "      <th>Read_Name</th>\n",
       "      <th>Read_Orientation</th>\n",
       "      <th>Map_BPs_Aligned</th>\n",
       "      <th>Bed_Template</th>\n",
       "      <th>Bed_Start</th>\n",
       "      <th>Bed_End</th>\n",
       "      <th>Overlap</th>\n",
       "    </tr>\n",
       "  </thead>\n",
       "  <tbody>\n",
       "    <tr>\n",
       "      <th>2035</th>\n",
       "      <td>seq1</td>\n",
       "      <td>1</td>\n",
       "      <td>4983</td>\n",
       "      <td>5133</td>\n",
       "      <td>seq1-1955</td>\n",
       "      <td>-</td>\n",
       "      <td>150</td>\n",
       "      <td>seq1</td>\n",
       "      <td>5000</td>\n",
       "      <td>5065</td>\n",
       "      <td>65</td>\n",
       "    </tr>\n",
       "    <tr>\n",
       "      <th>2131</th>\n",
       "      <td>seq3</td>\n",
       "      <td>3</td>\n",
       "      <td>5170</td>\n",
       "      <td>5320</td>\n",
       "      <td>seq1-1859</td>\n",
       "      <td>+</td>\n",
       "      <td>150</td>\n",
       "      <td>seq3</td>\n",
       "      <td>5000</td>\n",
       "      <td>5195</td>\n",
       "      <td>25</td>\n",
       "    </tr>\n",
       "    <tr>\n",
       "      <th>2133</th>\n",
       "      <td>seq1</td>\n",
       "      <td>1</td>\n",
       "      <td>4984</td>\n",
       "      <td>5134</td>\n",
       "      <td>seq1-1857</td>\n",
       "      <td>+</td>\n",
       "      <td>150</td>\n",
       "      <td>seq1</td>\n",
       "      <td>5000</td>\n",
       "      <td>5065</td>\n",
       "      <td>65</td>\n",
       "    </tr>\n",
       "    <tr>\n",
       "      <th>2180</th>\n",
       "      <td>seq1</td>\n",
       "      <td>1</td>\n",
       "      <td>4875</td>\n",
       "      <td>5025</td>\n",
       "      <td>seq1-1810</td>\n",
       "      <td>+</td>\n",
       "      <td>150</td>\n",
       "      <td>seq1</td>\n",
       "      <td>5000</td>\n",
       "      <td>5065</td>\n",
       "      <td>25</td>\n",
       "    </tr>\n",
       "    <tr>\n",
       "      <th>2183</th>\n",
       "      <td>seq3</td>\n",
       "      <td>3</td>\n",
       "      <td>4891</td>\n",
       "      <td>5041</td>\n",
       "      <td>seq1-1807</td>\n",
       "      <td>-</td>\n",
       "      <td>150</td>\n",
       "      <td>seq3</td>\n",
       "      <td>5000</td>\n",
       "      <td>5195</td>\n",
       "      <td>41</td>\n",
       "    </tr>\n",
       "    <tr>\n",
       "      <th>2195</th>\n",
       "      <td>seq1</td>\n",
       "      <td>1</td>\n",
       "      <td>4992</td>\n",
       "      <td>5142</td>\n",
       "      <td>seq1-1795</td>\n",
       "      <td>-</td>\n",
       "      <td>150</td>\n",
       "      <td>seq1</td>\n",
       "      <td>5000</td>\n",
       "      <td>5065</td>\n",
       "      <td>65</td>\n",
       "    </tr>\n",
       "    <tr>\n",
       "      <th>2368</th>\n",
       "      <td>seq3</td>\n",
       "      <td>3</td>\n",
       "      <td>4890</td>\n",
       "      <td>5040</td>\n",
       "      <td>seq1-1622</td>\n",
       "      <td>-</td>\n",
       "      <td>150</td>\n",
       "      <td>seq3</td>\n",
       "      <td>5000</td>\n",
       "      <td>5195</td>\n",
       "      <td>40</td>\n",
       "    </tr>\n",
       "    <tr>\n",
       "      <th>2390</th>\n",
       "      <td>seq1</td>\n",
       "      <td>1</td>\n",
       "      <td>5004</td>\n",
       "      <td>5154</td>\n",
       "      <td>seq1-1600</td>\n",
       "      <td>-</td>\n",
       "      <td>150</td>\n",
       "      <td>seq1</td>\n",
       "      <td>5000</td>\n",
       "      <td>5065</td>\n",
       "      <td>61</td>\n",
       "    </tr>\n",
       "    <tr>\n",
       "      <th>2437</th>\n",
       "      <td>seq1</td>\n",
       "      <td>1</td>\n",
       "      <td>4979</td>\n",
       "      <td>5129</td>\n",
       "      <td>seq1-1553</td>\n",
       "      <td>-</td>\n",
       "      <td>150</td>\n",
       "      <td>seq1</td>\n",
       "      <td>5000</td>\n",
       "      <td>5065</td>\n",
       "      <td>65</td>\n",
       "    </tr>\n",
       "    <tr>\n",
       "      <th>2466</th>\n",
       "      <td>seq3</td>\n",
       "      <td>3</td>\n",
       "      <td>4861</td>\n",
       "      <td>5011</td>\n",
       "      <td>seq1-1524</td>\n",
       "      <td>+</td>\n",
       "      <td>150</td>\n",
       "      <td>seq3</td>\n",
       "      <td>5000</td>\n",
       "      <td>5195</td>\n",
       "      <td>11</td>\n",
       "    </tr>\n",
       "  </tbody>\n",
       "</table>\n",
       "</div>"
      ],
      "text/plain": [
       "     Map_Template Map_Copy_Number  Map_Start  Map_End  Read_Name  \\\n",
       "2035         seq1               1       4983     5133  seq1-1955   \n",
       "2131         seq3               3       5170     5320  seq1-1859   \n",
       "2133         seq1               1       4984     5134  seq1-1857   \n",
       "2180         seq1               1       4875     5025  seq1-1810   \n",
       "2183         seq3               3       4891     5041  seq1-1807   \n",
       "2195         seq1               1       4992     5142  seq1-1795   \n",
       "2368         seq3               3       4890     5040  seq1-1622   \n",
       "2390         seq1               1       5004     5154  seq1-1600   \n",
       "2437         seq1               1       4979     5129  seq1-1553   \n",
       "2466         seq3               3       4861     5011  seq1-1524   \n",
       "\n",
       "     Read_Orientation  Map_BPs_Aligned Bed_Template  Bed_Start  Bed_End  \\\n",
       "2035                -              150         seq1       5000     5065   \n",
       "2131                +              150         seq3       5000     5195   \n",
       "2133                +              150         seq1       5000     5065   \n",
       "2180                +              150         seq1       5000     5065   \n",
       "2183                -              150         seq3       5000     5195   \n",
       "2195                -              150         seq1       5000     5065   \n",
       "2368                -              150         seq3       5000     5195   \n",
       "2390                -              150         seq1       5000     5065   \n",
       "2437                -              150         seq1       5000     5065   \n",
       "2466                +              150         seq3       5000     5195   \n",
       "\n",
       "      Overlap  \n",
       "2035       65  \n",
       "2131       25  \n",
       "2133       65  \n",
       "2180       25  \n",
       "2183       41  \n",
       "2195       65  \n",
       "2368       40  \n",
       "2390       61  \n",
       "2437       65  \n",
       "2466       11  "
      ]
     },
     "execution_count": 17,
     "metadata": {},
     "output_type": "execute_result"
    }
   ],
   "source": [
    "data.head(10)"
   ]
  },
  {
   "cell_type": "code",
   "execution_count": 18,
   "metadata": {
    "collapsed": true
   },
   "outputs": [],
   "source": [
    "# def determine_aln_type(map_start, map_end, bed_start, bed_end):\n",
    "    \n",
    "#     \"\"\"\n",
    "#     Determine the alignment type based on the mapping locations and the bed file locations.\n",
    "#     \"\"\"\n",
    "    \n",
    "#     if (map_start < bed_start and map_end > bed_end):\n",
    "#         return 'mix'\n",
    "#     elif (map_start > bed_start) and (map_end < bed_end):\n",
    "#         return 'in' \n",
    "    \n",
    "#     elif (map_start < bed_start) and (map_end < bed_start): # left side\n",
    "#         return 'out'\n",
    "    \n",
    "#     elif (map_start > bed_end) and (map_end > bed_end): # right side \n",
    "#         return 'out'\n",
    "\n",
    "#     elif (map_start < bed_start) and (map_end > bed_start): # left side\n",
    "#         return 'mix'\n",
    "    \n",
    "#     elif (map_start < bed_end) and (map_end > bed_end): # right side \n",
    "#         return 'mix'\n",
    "\n",
    "    \n",
    "#     else:\n",
    "#         raise Exception('Missing some case. Debug.')"
   ]
  },
  {
   "cell_type": "code",
   "execution_count": 19,
   "metadata": {
    "collapsed": true
   },
   "outputs": [],
   "source": [
    "# mapping_status = []\n",
    "# fractional_vntr = []\n",
    "# fractional_non_vntr = []\n",
    "# for index, sr in data.iterrows():\n",
    "#     read_type = determine_aln_type(sr['Map_Start'], sr['Bed_Start'], sr['Map_End'], sr['Map_Start'])\n",
    "#     mapping_status.append(read_type)\n",
    "    "
   ]
  },
  {
   "cell_type": "code",
   "execution_count": 20,
   "metadata": {
    "collapsed": false
   },
   "outputs": [],
   "source": [
    "# data['Mapping_Status'] = mapping_status"
   ]
  },
  {
   "cell_type": "code",
   "execution_count": 21,
   "metadata": {
    "collapsed": false
   },
   "outputs": [],
   "source": [
    "#data.to_excel('/frazer01/home/joreyna/shared_drive/CSE-280a/data.xlsx')"
   ]
  },
  {
   "cell_type": "code",
   "execution_count": 33,
   "metadata": {
    "collapsed": false
   },
   "outputs": [],
   "source": [
    "VNTR_read_count = []\n",
    "for index, sr in data.iterrows():\n",
    "    if sr['Overlap'] == sr['Bed_End'] - sr['Bed_Start']:\n",
    "        VNTR_read_count.append(1)\n",
    "    else:\n",
    "        VNTR_read_count.append(float(sr['Overlap']) / (sr['Bed_End'] - sr['Bed_Start']))"
   ]
  },
  {
   "cell_type": "code",
   "execution_count": 38,
   "metadata": {
    "collapsed": false
   },
   "outputs": [],
   "source": [
    "data['VNTR_Read_Count'] =  VNTR_read_count\n",
    "data['Non-VNTR_Read_Count'] = [1 - x for x in VNTR_read_count]"
   ]
  },
  {
   "cell_type": "code",
   "execution_count": 39,
   "metadata": {
    "collapsed": false
   },
   "outputs": [
    {
     "data": {
      "text/html": [
       "<div>\n",
       "<table border=\"1\" class=\"dataframe\">\n",
       "  <thead>\n",
       "    <tr style=\"text-align: right;\">\n",
       "      <th></th>\n",
       "      <th>Map_Template</th>\n",
       "      <th>Map_Copy_Number</th>\n",
       "      <th>Map_Start</th>\n",
       "      <th>Map_End</th>\n",
       "      <th>Read_Name</th>\n",
       "      <th>Read_Orientation</th>\n",
       "      <th>Map_BPs_Aligned</th>\n",
       "      <th>Bed_Template</th>\n",
       "      <th>Bed_Start</th>\n",
       "      <th>Bed_End</th>\n",
       "      <th>Overlap</th>\n",
       "      <th>VNTR_Read_Count</th>\n",
       "      <th>Non-VNTR_Read_Count</th>\n",
       "    </tr>\n",
       "  </thead>\n",
       "  <tbody>\n",
       "    <tr>\n",
       "      <th>2035</th>\n",
       "      <td>seq1</td>\n",
       "      <td>1</td>\n",
       "      <td>4983</td>\n",
       "      <td>5133</td>\n",
       "      <td>seq1-1955</td>\n",
       "      <td>-</td>\n",
       "      <td>150</td>\n",
       "      <td>seq1</td>\n",
       "      <td>5000</td>\n",
       "      <td>5065</td>\n",
       "      <td>65</td>\n",
       "      <td>1.000000</td>\n",
       "      <td>0.000000</td>\n",
       "    </tr>\n",
       "    <tr>\n",
       "      <th>2131</th>\n",
       "      <td>seq3</td>\n",
       "      <td>3</td>\n",
       "      <td>5170</td>\n",
       "      <td>5320</td>\n",
       "      <td>seq1-1859</td>\n",
       "      <td>+</td>\n",
       "      <td>150</td>\n",
       "      <td>seq3</td>\n",
       "      <td>5000</td>\n",
       "      <td>5195</td>\n",
       "      <td>25</td>\n",
       "      <td>0.128205</td>\n",
       "      <td>0.871795</td>\n",
       "    </tr>\n",
       "    <tr>\n",
       "      <th>2133</th>\n",
       "      <td>seq1</td>\n",
       "      <td>1</td>\n",
       "      <td>4984</td>\n",
       "      <td>5134</td>\n",
       "      <td>seq1-1857</td>\n",
       "      <td>+</td>\n",
       "      <td>150</td>\n",
       "      <td>seq1</td>\n",
       "      <td>5000</td>\n",
       "      <td>5065</td>\n",
       "      <td>65</td>\n",
       "      <td>1.000000</td>\n",
       "      <td>0.000000</td>\n",
       "    </tr>\n",
       "    <tr>\n",
       "      <th>2180</th>\n",
       "      <td>seq1</td>\n",
       "      <td>1</td>\n",
       "      <td>4875</td>\n",
       "      <td>5025</td>\n",
       "      <td>seq1-1810</td>\n",
       "      <td>+</td>\n",
       "      <td>150</td>\n",
       "      <td>seq1</td>\n",
       "      <td>5000</td>\n",
       "      <td>5065</td>\n",
       "      <td>25</td>\n",
       "      <td>0.384615</td>\n",
       "      <td>0.615385</td>\n",
       "    </tr>\n",
       "    <tr>\n",
       "      <th>2183</th>\n",
       "      <td>seq3</td>\n",
       "      <td>3</td>\n",
       "      <td>4891</td>\n",
       "      <td>5041</td>\n",
       "      <td>seq1-1807</td>\n",
       "      <td>-</td>\n",
       "      <td>150</td>\n",
       "      <td>seq3</td>\n",
       "      <td>5000</td>\n",
       "      <td>5195</td>\n",
       "      <td>41</td>\n",
       "      <td>0.210256</td>\n",
       "      <td>0.789744</td>\n",
       "    </tr>\n",
       "    <tr>\n",
       "      <th>2195</th>\n",
       "      <td>seq1</td>\n",
       "      <td>1</td>\n",
       "      <td>4992</td>\n",
       "      <td>5142</td>\n",
       "      <td>seq1-1795</td>\n",
       "      <td>-</td>\n",
       "      <td>150</td>\n",
       "      <td>seq1</td>\n",
       "      <td>5000</td>\n",
       "      <td>5065</td>\n",
       "      <td>65</td>\n",
       "      <td>1.000000</td>\n",
       "      <td>0.000000</td>\n",
       "    </tr>\n",
       "    <tr>\n",
       "      <th>2368</th>\n",
       "      <td>seq3</td>\n",
       "      <td>3</td>\n",
       "      <td>4890</td>\n",
       "      <td>5040</td>\n",
       "      <td>seq1-1622</td>\n",
       "      <td>-</td>\n",
       "      <td>150</td>\n",
       "      <td>seq3</td>\n",
       "      <td>5000</td>\n",
       "      <td>5195</td>\n",
       "      <td>40</td>\n",
       "      <td>0.205128</td>\n",
       "      <td>0.794872</td>\n",
       "    </tr>\n",
       "    <tr>\n",
       "      <th>2390</th>\n",
       "      <td>seq1</td>\n",
       "      <td>1</td>\n",
       "      <td>5004</td>\n",
       "      <td>5154</td>\n",
       "      <td>seq1-1600</td>\n",
       "      <td>-</td>\n",
       "      <td>150</td>\n",
       "      <td>seq1</td>\n",
       "      <td>5000</td>\n",
       "      <td>5065</td>\n",
       "      <td>61</td>\n",
       "      <td>0.938462</td>\n",
       "      <td>0.061538</td>\n",
       "    </tr>\n",
       "    <tr>\n",
       "      <th>2437</th>\n",
       "      <td>seq1</td>\n",
       "      <td>1</td>\n",
       "      <td>4979</td>\n",
       "      <td>5129</td>\n",
       "      <td>seq1-1553</td>\n",
       "      <td>-</td>\n",
       "      <td>150</td>\n",
       "      <td>seq1</td>\n",
       "      <td>5000</td>\n",
       "      <td>5065</td>\n",
       "      <td>65</td>\n",
       "      <td>1.000000</td>\n",
       "      <td>0.000000</td>\n",
       "    </tr>\n",
       "    <tr>\n",
       "      <th>2466</th>\n",
       "      <td>seq3</td>\n",
       "      <td>3</td>\n",
       "      <td>4861</td>\n",
       "      <td>5011</td>\n",
       "      <td>seq1-1524</td>\n",
       "      <td>+</td>\n",
       "      <td>150</td>\n",
       "      <td>seq3</td>\n",
       "      <td>5000</td>\n",
       "      <td>5195</td>\n",
       "      <td>11</td>\n",
       "      <td>0.056410</td>\n",
       "      <td>0.943590</td>\n",
       "    </tr>\n",
       "  </tbody>\n",
       "</table>\n",
       "</div>"
      ],
      "text/plain": [
       "     Map_Template Map_Copy_Number  Map_Start  Map_End  Read_Name  \\\n",
       "2035         seq1               1       4983     5133  seq1-1955   \n",
       "2131         seq3               3       5170     5320  seq1-1859   \n",
       "2133         seq1               1       4984     5134  seq1-1857   \n",
       "2180         seq1               1       4875     5025  seq1-1810   \n",
       "2183         seq3               3       4891     5041  seq1-1807   \n",
       "2195         seq1               1       4992     5142  seq1-1795   \n",
       "2368         seq3               3       4890     5040  seq1-1622   \n",
       "2390         seq1               1       5004     5154  seq1-1600   \n",
       "2437         seq1               1       4979     5129  seq1-1553   \n",
       "2466         seq3               3       4861     5011  seq1-1524   \n",
       "\n",
       "     Read_Orientation  Map_BPs_Aligned Bed_Template  Bed_Start  Bed_End  \\\n",
       "2035                -              150         seq1       5000     5065   \n",
       "2131                +              150         seq3       5000     5195   \n",
       "2133                +              150         seq1       5000     5065   \n",
       "2180                +              150         seq1       5000     5065   \n",
       "2183                -              150         seq3       5000     5195   \n",
       "2195                -              150         seq1       5000     5065   \n",
       "2368                -              150         seq3       5000     5195   \n",
       "2390                -              150         seq1       5000     5065   \n",
       "2437                -              150         seq1       5000     5065   \n",
       "2466                +              150         seq3       5000     5195   \n",
       "\n",
       "      Overlap  VNTR_Read_Count  Non-VNTR_Read_Count  \n",
       "2035       65         1.000000             0.000000  \n",
       "2131       25         0.128205             0.871795  \n",
       "2133       65         1.000000             0.000000  \n",
       "2180       25         0.384615             0.615385  \n",
       "2183       41         0.210256             0.789744  \n",
       "2195       65         1.000000             0.000000  \n",
       "2368       40         0.205128             0.794872  \n",
       "2390       61         0.938462             0.061538  \n",
       "2437       65         1.000000             0.000000  \n",
       "2466       11         0.056410             0.943590  "
      ]
     },
     "execution_count": 39,
     "metadata": {},
     "output_type": "execute_result"
    }
   ],
   "source": [
    "data.head(10)"
   ]
  },
  {
   "cell_type": "code",
   "execution_count": 40,
   "metadata": {
    "collapsed": false
   },
   "outputs": [
    {
     "data": {
      "text/plain": [
       "array(['seq1', 'seq3', 'seq2'], dtype=object)"
      ]
     },
     "execution_count": 40,
     "metadata": {},
     "output_type": "execute_result"
    }
   ],
   "source": [
    "data['Map_Template'].unique()"
   ]
  },
  {
   "cell_type": "code",
   "execution_count": 41,
   "metadata": {
    "collapsed": false
   },
   "outputs": [
    {
     "data": {
      "text/plain": [
       "1.3391744090321063"
      ]
     },
     "execution_count": 41,
     "metadata": {},
     "output_type": "execute_result"
    }
   ],
   "source": [
    "data['VNTR_Read_Count'].sum() / data['Non-VNTR_Read_Count'].sum()"
   ]
  },
  {
   "cell_type": "code",
   "execution_count": null,
   "metadata": {
    "collapsed": true
   },
   "outputs": [],
   "source": []
  },
  {
   "cell_type": "code",
   "execution_count": null,
   "metadata": {
    "collapsed": true
   },
   "outputs": [],
   "source": []
  },
  {
   "cell_type": "code",
   "execution_count": null,
   "metadata": {
    "collapsed": true
   },
   "outputs": [],
   "source": []
  },
  {
   "cell_type": "code",
   "execution_count": null,
   "metadata": {
    "collapsed": true
   },
   "outputs": [],
   "source": []
  },
  {
   "cell_type": "code",
   "execution_count": null,
   "metadata": {
    "collapsed": true
   },
   "outputs": [],
   "source": []
  },
  {
   "cell_type": "code",
   "execution_count": null,
   "metadata": {
    "collapsed": true
   },
   "outputs": [],
   "source": []
  },
  {
   "cell_type": "code",
   "execution_count": null,
   "metadata": {
    "collapsed": true
   },
   "outputs": [],
   "source": []
  },
  {
   "cell_type": "code",
   "execution_count": null,
   "metadata": {
    "collapsed": true
   },
   "outputs": [],
   "source": []
  },
  {
   "cell_type": "code",
   "execution_count": null,
   "metadata": {
    "collapsed": true
   },
   "outputs": [],
   "source": []
  },
  {
   "cell_type": "code",
   "execution_count": null,
   "metadata": {
    "collapsed": true
   },
   "outputs": [],
   "source": []
  },
  {
   "cell_type": "code",
   "execution_count": null,
   "metadata": {
    "collapsed": true
   },
   "outputs": [],
   "source": []
  },
  {
   "cell_type": "code",
   "execution_count": null,
   "metadata": {
    "collapsed": true
   },
   "outputs": [],
   "source": []
  },
  {
   "cell_type": "code",
   "execution_count": null,
   "metadata": {
    "collapsed": true
   },
   "outputs": [],
   "source": []
  },
  {
   "cell_type": "code",
   "execution_count": null,
   "metadata": {
    "collapsed": true
   },
   "outputs": [],
   "source": []
  },
  {
   "cell_type": "code",
   "execution_count": null,
   "metadata": {
    "collapsed": true
   },
   "outputs": [],
   "source": []
  },
  {
   "cell_type": "code",
   "execution_count": null,
   "metadata": {
    "collapsed": true
   },
   "outputs": [],
   "source": []
  },
  {
   "cell_type": "code",
   "execution_count": null,
   "metadata": {
    "collapsed": true
   },
   "outputs": [],
   "source": []
  },
  {
   "cell_type": "code",
   "execution_count": null,
   "metadata": {
    "collapsed": true
   },
   "outputs": [],
   "source": []
  },
  {
   "cell_type": "code",
   "execution_count": null,
   "metadata": {
    "collapsed": true
   },
   "outputs": [],
   "source": []
  },
  {
   "cell_type": "code",
   "execution_count": null,
   "metadata": {
    "collapsed": true
   },
   "outputs": [],
   "source": []
  },
  {
   "cell_type": "code",
   "execution_count": null,
   "metadata": {
    "collapsed": true
   },
   "outputs": [],
   "source": []
  },
  {
   "cell_type": "code",
   "execution_count": null,
   "metadata": {
    "collapsed": true
   },
   "outputs": [],
   "source": []
  },
  {
   "cell_type": "code",
   "execution_count": null,
   "metadata": {
    "collapsed": true
   },
   "outputs": [],
   "source": []
  },
  {
   "cell_type": "code",
   "execution_count": null,
   "metadata": {
    "collapsed": true
   },
   "outputs": [],
   "source": []
  },
  {
   "cell_type": "code",
   "execution_count": null,
   "metadata": {
    "collapsed": true
   },
   "outputs": [],
   "source": []
  },
  {
   "cell_type": "code",
   "execution_count": null,
   "metadata": {
    "collapsed": true
   },
   "outputs": [],
   "source": []
  }
 ],
 "metadata": {
  "kernelspec": {
   "display_name": "Python (hla)",
   "language": "python",
   "name": "hla"
  },
  "language_info": {
   "codemirror_mode": {
    "name": "ipython",
    "version": 2
   },
   "file_extension": ".py",
   "mimetype": "text/x-python",
   "name": "python",
   "nbconvert_exporter": "python",
   "pygments_lexer": "ipython2",
   "version": "2.7.11"
  }
 },
 "nbformat": 4,
 "nbformat_minor": 0
}
